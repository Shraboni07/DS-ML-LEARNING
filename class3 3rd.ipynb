{
 "cells": [
  {
   "cell_type": "code",
   "execution_count": 1,
   "id": "c2e78cbf",
   "metadata": {},
   "outputs": [
    {
     "name": "stdout",
     "output_type": "stream",
     "text": [
      "10 x 1 = 10\n",
      "10 x 2 = 20\n",
      "10 x 3 = 30\n",
      "10 x 4 = 40\n",
      "10 x 5 = 50\n",
      "10 x 6 = 60\n",
      "10 x 7 = 70\n",
      "10 x 8 = 80\n",
      "10 x 9 = 90\n",
      "10 x 10 = 100\n"
     ]
    }
   ],
   "source": [
    "m=1\n",
    "n=10\n",
    "while m<=10:\n",
    "    print(n,'x',m,'=',n*m)\n",
    "    m=m+1"
   ]
  },
  {
   "cell_type": "code",
   "execution_count": 3,
   "id": "3d3d21b7",
   "metadata": {},
   "outputs": [
    {
     "name": "stdout",
     "output_type": "stream",
     "text": [
      "10 x 10 = 100\n"
     ]
    }
   ],
   "source": [
    "n=10\n",
    "m=10\n",
    "while m<=10:\n",
    "    print(n,'x',m,'=',n*m)\n",
    "    m=m+1"
   ]
  },
  {
   "cell_type": "code",
   "execution_count": 4,
   "id": "6cc9ed60",
   "metadata": {},
   "outputs": [
    {
     "name": "stdout",
     "output_type": "stream",
     "text": [
      "1\n",
      "3\n",
      "5\n",
      "7\n"
     ]
    }
   ],
   "source": [
    "numbers=[1,3,5,7,9,11]\n",
    "for n in numbers:\n",
    "    if n<9:\n",
    "        print(n)"
   ]
  },
  {
   "cell_type": "code",
   "execution_count": 9,
   "id": "193448d9",
   "metadata": {},
   "outputs": [],
   "source": [
    "#Function\n",
    "def my_pet(name): #parameter\n",
    "    return name  #output"
   ]
  },
  {
   "cell_type": "code",
   "execution_count": 12,
   "id": "87e2888d",
   "metadata": {},
   "outputs": [
    {
     "data": {
      "text/plain": [
       "'tiger'"
      ]
     },
     "execution_count": 12,
     "metadata": {},
     "output_type": "execute_result"
    }
   ],
   "source": [
    "#calling the function\n",
    "t=my_pet(\"tiger\")\n",
    "t"
   ]
  },
  {
   "cell_type": "code",
   "execution_count": 7,
   "id": "f24cffb5",
   "metadata": {},
   "outputs": [
    {
     "data": {
      "text/plain": [
       "'tom'"
      ]
     },
     "execution_count": 7,
     "metadata": {},
     "output_type": "execute_result"
    }
   ],
   "source": [
    "my_pet(\"tom\")"
   ]
  },
  {
   "cell_type": "code",
   "execution_count": 10,
   "id": "1ffe9310",
   "metadata": {},
   "outputs": [],
   "source": [
    "#Function\n",
    "def country(): #parameter\n",
    "    print(\"BD\")\n",
    "    print(\"Bangla\")\n",
    "    print(\"CAs\")"
   ]
  },
  {
   "cell_type": "code",
   "execution_count": 11,
   "id": "e5992291",
   "metadata": {},
   "outputs": [
    {
     "name": "stdout",
     "output_type": "stream",
     "text": [
      "BD\n",
      "Bangla\n",
      "CAs\n"
     ]
    }
   ],
   "source": [
    "country()"
   ]
  },
  {
   "cell_type": "code",
   "execution_count": 13,
   "id": "2f09ef17",
   "metadata": {},
   "outputs": [
    {
     "name": "stdout",
     "output_type": "stream",
     "text": [
      "BD\n",
      "Bangla\n",
      "CAs\n"
     ]
    }
   ],
   "source": [
    "c=country()"
   ]
  },
  {
   "cell_type": "code",
   "execution_count": 14,
   "id": "f6155d15",
   "metadata": {},
   "outputs": [],
   "source": [
    "c"
   ]
  },
  {
   "cell_type": "code",
   "execution_count": 15,
   "id": "f979cf5e",
   "metadata": {},
   "outputs": [],
   "source": [
    "def my_pet(name,age,color): #parameter\n",
    "    return name,age,color  #output"
   ]
  },
  {
   "cell_type": "code",
   "execution_count": 17,
   "id": "2db8d9fd",
   "metadata": {},
   "outputs": [],
   "source": [
    "name,age,color=my_pet('a',18,'blue')"
   ]
  },
  {
   "cell_type": "code",
   "execution_count": 18,
   "id": "5d85a50f",
   "metadata": {},
   "outputs": [
    {
     "data": {
      "text/plain": [
       "18"
      ]
     },
     "execution_count": 18,
     "metadata": {},
     "output_type": "execute_result"
    }
   ],
   "source": [
    "age"
   ]
  },
  {
   "cell_type": "code",
   "execution_count": 19,
   "id": "edb96f3b",
   "metadata": {},
   "outputs": [
    {
     "data": {
      "text/plain": [
       "('a', 78, 'white')"
      ]
     },
     "execution_count": 19,
     "metadata": {},
     "output_type": "execute_result"
    }
   ],
   "source": [
    "tup=my_pet('a',78,'white')\n",
    "tup"
   ]
  },
  {
   "cell_type": "code",
   "execution_count": 1,
   "id": "c9fc570e",
   "metadata": {},
   "outputs": [
    {
     "ename": "NameError",
     "evalue": "name 'tup' is not defined",
     "output_type": "error",
     "traceback": [
      "\u001b[1;31m---------------------------------------------------------------------------\u001b[0m",
      "\u001b[1;31mNameError\u001b[0m                                 Traceback (most recent call last)",
      "Cell \u001b[1;32mIn[1], line 1\u001b[0m\n\u001b[1;32m----> 1\u001b[0m \u001b[43mtup\u001b[49m\n",
      "\u001b[1;31mNameError\u001b[0m: name 'tup' is not defined"
     ]
    }
   ],
   "source": [
    "tup"
   ]
  },
  {
   "cell_type": "code",
   "execution_count": 2,
   "id": "bbb95dd2",
   "metadata": {},
   "outputs": [
    {
     "ename": "NameError",
     "evalue": "name 'my_pet' is not defined",
     "output_type": "error",
     "traceback": [
      "\u001b[1;31m---------------------------------------------------------------------------\u001b[0m",
      "\u001b[1;31mNameError\u001b[0m                                 Traceback (most recent call last)",
      "Cell \u001b[1;32mIn[2], line 1\u001b[0m\n\u001b[1;32m----> 1\u001b[0m \u001b[43mmy_pet\u001b[49m(\u001b[38;5;124m'\u001b[39m\u001b[38;5;124ma\u001b[39m\u001b[38;5;124m'\u001b[39m,\u001b[38;5;241m18\u001b[39m)\n",
      "\u001b[1;31mNameError\u001b[0m: name 'my_pet' is not defined"
     ]
    }
   ],
   "source": [
    "my_pet('a',18)"
   ]
  },
  {
   "cell_type": "code",
   "execution_count": 3,
   "id": "c2c6263c",
   "metadata": {},
   "outputs": [
    {
     "name": "stdout",
     "output_type": "stream",
     "text": [
      "14\n"
     ]
    }
   ],
   "source": [
    "def numbers(n):\n",
    "    n=12 #local\n",
    "    return n\n",
    "\n",
    "n=14 #global\n",
    "print(n)\n"
   ]
  },
  {
   "cell_type": "code",
   "execution_count": 4,
   "id": "098cffde",
   "metadata": {},
   "outputs": [
    {
     "name": "stdout",
     "output_type": "stream",
     "text": [
      "12\n"
     ]
    }
   ],
   "source": [
    "def numbers(n):\n",
    "    n=12 #local\n",
    "    return n\n",
    "\n",
    "n=14 #global\n",
    "print(numbers(16))"
   ]
  },
  {
   "cell_type": "code",
   "execution_count": 6,
   "id": "3c2e56dc",
   "metadata": {},
   "outputs": [
    {
     "ename": "NameError",
     "evalue": "name 'x' is not defined",
     "output_type": "error",
     "traceback": [
      "\u001b[1;31m---------------------------------------------------------------------------\u001b[0m",
      "\u001b[1;31mNameError\u001b[0m                                 Traceback (most recent call last)",
      "Cell \u001b[1;32mIn[6], line 6\u001b[0m\n\u001b[0;32m      3\u001b[0m     \u001b[38;5;28;01mreturn\u001b[39;00m x\n\u001b[0;32m      5\u001b[0m  \u001b[38;5;66;03m#globaly x defined korahoyni \u001b[39;00m\n\u001b[1;32m----> 6\u001b[0m \u001b[38;5;28mprint\u001b[39m(\u001b[43mx\u001b[49m)\n",
      "\u001b[1;31mNameError\u001b[0m: name 'x' is not defined"
     ]
    }
   ],
   "source": [
    "def numbers(x):\n",
    "    x=12 #local\n",
    "    return x\n",
    "\n",
    " #globaly x defined korahoyni \n",
    "print(x)"
   ]
  },
  {
   "cell_type": "code",
   "execution_count": 8,
   "id": "4ce5d595",
   "metadata": {},
   "outputs": [
    {
     "name": "stdout",
     "output_type": "stream",
     "text": [
      "0\n",
      "1\n",
      "2\n",
      "3\n",
      "4\n"
     ]
    }
   ],
   "source": [
    "def numbers(i):\n",
    "    i=12 #local\n",
    "    return i\n",
    "\n",
    "for i in range(5):\n",
    "    print(i)\n",
    "              "
   ]
  },
  {
   "cell_type": "code",
   "execution_count": 9,
   "id": "e528bdbf",
   "metadata": {},
   "outputs": [
    {
     "name": "stdout",
     "output_type": "stream",
     "text": [
      "14\n"
     ]
    }
   ],
   "source": [
    "def numbers(i):\n",
    "    i+=1 #i=i+1\n",
    "    return 1\n",
    "\n",
    "i=14 #global\n",
    "print(i)"
   ]
  },
  {
   "cell_type": "code",
   "execution_count": 11,
   "id": "eed392f6",
   "metadata": {},
   "outputs": [
    {
     "name": "stdout",
     "output_type": "stream",
     "text": [
      "10\n",
      "1\n"
     ]
    }
   ],
   "source": [
    "def numbers(i):\n",
    "    i+=1 #i=i+1\n",
    "    return 1\n",
    "\n",
    "i=10 #global\n",
    "print(i)\n",
    "print(numbers(20))"
   ]
  },
  {
   "cell_type": "code",
   "execution_count": 13,
   "id": "7f6283a8",
   "metadata": {},
   "outputs": [
    {
     "data": {
      "text/plain": [
       "25"
      ]
     },
     "execution_count": 13,
     "metadata": {},
     "output_type": "execute_result"
    }
   ],
   "source": [
    "#Lamda Function\n",
    "def add(a,b):\n",
    "    return a+b\n",
    "sum=add(10,15)\n",
    "sum\n"
   ]
  },
  {
   "cell_type": "code",
   "execution_count": 14,
   "id": "9e452edb",
   "metadata": {},
   "outputs": [
    {
     "data": {
      "text/plain": [
       "<function __main__.<lambda>(a, b)>"
      ]
     },
     "execution_count": 14,
     "metadata": {},
     "output_type": "execute_result"
    }
   ],
   "source": [
    "sum=lambda a,b:a+b\n",
    "sum"
   ]
  },
  {
   "cell_type": "code",
   "execution_count": 16,
   "id": "38b6ec33",
   "metadata": {},
   "outputs": [
    {
     "data": {
      "text/plain": [
       "<function __main__.<lambda>(a, b)>"
      ]
     },
     "execution_count": 16,
     "metadata": {},
     "output_type": "execute_result"
    }
   ],
   "source": [
    "lambda_add=lambda a,b:a+b\n",
    "lambda_add"
   ]
  },
  {
   "cell_type": "code",
   "execution_count": 17,
   "id": "7726dfc9",
   "metadata": {},
   "outputs": [
    {
     "data": {
      "text/plain": [
       "25"
      ]
     },
     "execution_count": 17,
     "metadata": {},
     "output_type": "execute_result"
    }
   ],
   "source": [
    "lambda_add(10,15)"
   ]
  },
  {
   "cell_type": "code",
   "execution_count": 19,
   "id": "bd803f95",
   "metadata": {},
   "outputs": [
    {
     "data": {
      "text/plain": [
       "<map at 0x24f0e2e85e0>"
      ]
     },
     "execution_count": 19,
     "metadata": {},
     "output_type": "execute_result"
    }
   ],
   "source": [
    "#Map-->>built in function\n",
    "list=[1,2,3,4,5,6]\n",
    "square=lambda n:n*n #ekhne object ashtese value na\n",
    "map(square,list)"
   ]
  },
  {
   "cell_type": "code",
   "execution_count": 22,
   "id": "a3644648",
   "metadata": {},
   "outputs": [
    {
     "name": "stdout",
     "output_type": "stream",
     "text": [
      "<map object at 0x0000024F0E2E8640>\n",
      "{1, 4, 36, 9, 16, 25}\n"
     ]
    }
   ],
   "source": [
    "#Map-->>built in function\n",
    "list=[1,2,3,4,5,6]\n",
    "square=lambda n:n*n\n",
    "new=map(square,list) #set er jaygay list dewa jay but kaj krse na\n",
    "print(new)\n",
    "print(set(new))"
   ]
  },
  {
   "cell_type": "code",
   "execution_count": 23,
   "id": "61964d34",
   "metadata": {},
   "outputs": [
    {
     "name": "stdout",
     "output_type": "stream",
     "text": [
      "1\n",
      "4\n",
      "9\n",
      "16\n",
      "25\n",
      "36\n"
     ]
    }
   ],
   "source": [
    "for i in list:\n",
    "    print(i*i)"
   ]
  },
  {
   "cell_type": "code",
   "execution_count": null,
   "id": "297c0aee",
   "metadata": {},
   "outputs": [],
   "source": []
  }
 ],
 "metadata": {
  "kernelspec": {
   "display_name": "Python 3 (ipykernel)",
   "language": "python",
   "name": "python3"
  },
  "language_info": {
   "codemirror_mode": {
    "name": "ipython",
    "version": 3
   },
   "file_extension": ".py",
   "mimetype": "text/x-python",
   "name": "python",
   "nbconvert_exporter": "python",
   "pygments_lexer": "ipython3",
   "version": "3.10.10"
  }
 },
 "nbformat": 4,
 "nbformat_minor": 5
}
