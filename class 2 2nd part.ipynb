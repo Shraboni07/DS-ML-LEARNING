{
 "cells": [
  {
   "cell_type": "code",
   "execution_count": 1,
   "id": "412f4dd1",
   "metadata": {},
   "outputs": [],
   "source": [
    "#List\n",
    "list_1=['BUET','RUET','EWE','KUET']\n",
    "list_2=[1,2,3,4]"
   ]
  },
  {
   "cell_type": "code",
   "execution_count": 2,
   "id": "e8b220a8",
   "metadata": {},
   "outputs": [
    {
     "data": {
      "text/plain": [
       "['BUET', 'RUET', 'BRAC', 'EWE', 'KUET']"
      ]
     },
     "execution_count": 2,
     "metadata": {},
     "output_type": "execute_result"
    }
   ],
   "source": [
    "list_1.insert(2,'BRAC')\n",
    "list_1"
   ]
  },
  {
   "cell_type": "code",
   "execution_count": 3,
   "id": "199d94fc",
   "metadata": {},
   "outputs": [
    {
     "data": {
      "text/plain": [
       "['BUET', 'RUET', 'BRAC', 'EWE', 'KUET', 10, 20]"
      ]
     },
     "execution_count": 3,
     "metadata": {},
     "output_type": "execute_result"
    }
   ],
   "source": [
    "list_1.extend([10,20])\n",
    "list_1"
   ]
  },
  {
   "cell_type": "code",
   "execution_count": 4,
   "id": "7771dee5",
   "metadata": {},
   "outputs": [
    {
     "data": {
      "text/plain": [
       "['BUET', 'RUET', 'BRAC', 'EWE', 'KUET', 10, 20, 1, 2, 3, 4]"
      ]
     },
     "execution_count": 4,
     "metadata": {},
     "output_type": "execute_result"
    }
   ],
   "source": [
    "list_1.extend(list_2)\n",
    "list_1"
   ]
  },
  {
   "cell_type": "code",
   "execution_count": 5,
   "id": "63041ef9",
   "metadata": {},
   "outputs": [
    {
     "data": {
      "text/plain": [
       "['BUET', 'RUET', 'BRAC', 'EWE', 'KUET', 10, 20, 1, 2, 3, 4, 1, 2, 3, 4]"
      ]
     },
     "execution_count": 5,
     "metadata": {},
     "output_type": "execute_result"
    }
   ],
   "source": [
    "list_1+list_2"
   ]
  },
  {
   "cell_type": "code",
   "execution_count": 6,
   "id": "b899ebb2",
   "metadata": {},
   "outputs": [],
   "source": [
    "#Remove items\n",
    "del list_1[7:]"
   ]
  },
  {
   "cell_type": "code",
   "execution_count": 7,
   "id": "0a94ca3c",
   "metadata": {},
   "outputs": [
    {
     "data": {
      "text/plain": [
       "['BUET', 'RUET', 'BRAC', 'EWE', 'KUET', 10, 20]"
      ]
     },
     "execution_count": 7,
     "metadata": {},
     "output_type": "execute_result"
    }
   ],
   "source": [
    "list_1"
   ]
  },
  {
   "cell_type": "code",
   "execution_count": 8,
   "id": "2a460321",
   "metadata": {},
   "outputs": [
    {
     "data": {
      "text/plain": [
       "['BUET', 'RUET', 'BRAC', 'EWE', 'KUET', 20]"
      ]
     },
     "execution_count": 8,
     "metadata": {},
     "output_type": "execute_result"
    }
   ],
   "source": [
    "list_1.remove(10)\n",
    "list_1"
   ]
  },
  {
   "cell_type": "code",
   "execution_count": 10,
   "id": "4b14095c",
   "metadata": {},
   "outputs": [
    {
     "data": {
      "text/plain": [
       "['BUET', 'RUET', 'EWE', 20]"
      ]
     },
     "execution_count": 10,
     "metadata": {},
     "output_type": "execute_result"
    }
   ],
   "source": [
    "del list_1[-3]\n",
    "list_1"
   ]
  },
  {
   "cell_type": "code",
   "execution_count": 11,
   "id": "edc29a54",
   "metadata": {},
   "outputs": [
    {
     "data": {
      "text/plain": [
       "20"
      ]
     },
     "execution_count": 11,
     "metadata": {},
     "output_type": "execute_result"
    }
   ],
   "source": [
    "list_1.pop()"
   ]
  },
  {
   "cell_type": "code",
   "execution_count": 12,
   "id": "a32b89ad",
   "metadata": {},
   "outputs": [
    {
     "data": {
      "text/plain": [
       "['BUET', 'RUET', 'EWE', 'RUET', 'KUET']"
      ]
     },
     "execution_count": 12,
     "metadata": {},
     "output_type": "execute_result"
    }
   ],
   "source": [
    "list_1+=['RUET','KUET']\n",
    "list_1"
   ]
  },
  {
   "cell_type": "code",
   "execution_count": 13,
   "id": "1066a95e",
   "metadata": {},
   "outputs": [
    {
     "data": {
      "text/plain": [
       "2"
      ]
     },
     "execution_count": 13,
     "metadata": {},
     "output_type": "execute_result"
    }
   ],
   "source": [
    "list_1.count('RUET')"
   ]
  },
  {
   "cell_type": "code",
   "execution_count": 15,
   "id": "0b5cbfba",
   "metadata": {},
   "outputs": [
    {
     "data": {
      "text/plain": [
       "['a', 'b', 'c', 'd']"
      ]
     },
     "execution_count": 15,
     "metadata": {},
     "output_type": "execute_result"
    }
   ],
   "source": [
    "list_3=['c','b','a','d']\n",
    "sorted (list_3)"
   ]
  },
  {
   "cell_type": "markdown",
   "id": "b4ea452c",
   "metadata": {},
   "source": [
    "###TUPLE\n"
   ]
  },
  {
   "cell_type": "code",
   "execution_count": 16,
   "id": "06d9adfe",
   "metadata": {},
   "outputs": [],
   "source": [
    "tup=('a','b','c','d')#change kora jabe na icchamoto"
   ]
  },
  {
   "cell_type": "code",
   "execution_count": 17,
   "id": "de079eaf",
   "metadata": {},
   "outputs": [
    {
     "data": {
      "text/plain": [
       "(list, tuple)"
      ]
     },
     "execution_count": 17,
     "metadata": {},
     "output_type": "execute_result"
    }
   ],
   "source": [
    "type(list_1),type(tup)"
   ]
  },
  {
   "cell_type": "code",
   "execution_count": 18,
   "id": "03cd6efa",
   "metadata": {},
   "outputs": [
    {
     "data": {
      "text/plain": [
       "'BUET'"
      ]
     },
     "execution_count": 18,
     "metadata": {},
     "output_type": "execute_result"
    }
   ],
   "source": [
    "list_1[0]"
   ]
  },
  {
   "cell_type": "code",
   "execution_count": 19,
   "id": "137084c4",
   "metadata": {},
   "outputs": [
    {
     "data": {
      "text/plain": [
       "['DU', 'RUET', 'EWE', 'RUET', 'KUET']"
      ]
     },
     "execution_count": 19,
     "metadata": {},
     "output_type": "execute_result"
    }
   ],
   "source": [
    "list_1[0]='DU'\n",
    "list_1"
   ]
  },
  {
   "cell_type": "code",
   "execution_count": 20,
   "id": "8a7feb80",
   "metadata": {},
   "outputs": [
    {
     "ename": "TypeError",
     "evalue": "'tuple' object does not support item assignment",
     "output_type": "error",
     "traceback": [
      "\u001b[1;31m---------------------------------------------------------------------------\u001b[0m",
      "\u001b[1;31mTypeError\u001b[0m                                 Traceback (most recent call last)",
      "Cell \u001b[1;32mIn[20], line 1\u001b[0m\n\u001b[1;32m----> 1\u001b[0m \u001b[43mtup\u001b[49m\u001b[43m[\u001b[49m\u001b[38;5;241;43m0\u001b[39;49m\u001b[43m]\u001b[49m\u001b[38;5;241m=\u001b[39m\u001b[38;5;124m'\u001b[39m\u001b[38;5;124mz\u001b[39m\u001b[38;5;124m'\u001b[39m\n\u001b[0;32m      2\u001b[0m tup\n",
      "\u001b[1;31mTypeError\u001b[0m: 'tuple' object does not support item assignment"
     ]
    }
   ],
   "source": [
    "tup[0]='z'\n",
    "tup"
   ]
  },
  {
   "cell_type": "code",
   "execution_count": 22,
   "id": "100f7a8d",
   "metadata": {},
   "outputs": [
    {
     "data": {
      "text/plain": [
       "('a', 'b', 'c', 'd', 'e')"
      ]
     },
     "execution_count": 22,
     "metadata": {},
     "output_type": "execute_result"
    }
   ],
   "source": [
    "tup+('e',) #tuple howar jonno last ekoma dewa lagbe\n"
   ]
  },
  {
   "cell_type": "code",
   "execution_count": 23,
   "id": "7b37a3c9",
   "metadata": {},
   "outputs": [
    {
     "data": {
      "text/plain": [
       "('a', 'b', 'c', 'd')"
      ]
     },
     "execution_count": 23,
     "metadata": {},
     "output_type": "execute_result"
    }
   ],
   "source": [
    "tup #assign korte hbe age jdi parmnent krte chai"
   ]
  },
  {
   "cell_type": "code",
   "execution_count": 24,
   "id": "926486a4",
   "metadata": {},
   "outputs": [
    {
     "data": {
      "text/plain": [
       "('a', 'b', 'c', 'd', 'e')"
      ]
     },
     "execution_count": 24,
     "metadata": {},
     "output_type": "execute_result"
    }
   ],
   "source": [
    "tup=tup+('e',)  #+=mane ager list +new jeta add kora hoyeche\n",
    "tup"
   ]
  },
  {
   "cell_type": "code",
   "execution_count": 25,
   "id": "0372192e",
   "metadata": {},
   "outputs": [
    {
     "data": {
      "text/plain": [
       "5"
      ]
     },
     "execution_count": 25,
     "metadata": {},
     "output_type": "execute_result"
    }
   ],
   "source": [
    "len(tup)"
   ]
  },
  {
   "cell_type": "markdown",
   "id": "e5563837",
   "metadata": {},
   "source": [
    "Dictionary"
   ]
  },
  {
   "cell_type": "code",
   "execution_count": 27,
   "id": "5e29a685",
   "metadata": {},
   "outputs": [
    {
     "data": {
      "text/plain": [
       "'EWE'"
      ]
     },
     "execution_count": 27,
     "metadata": {},
     "output_type": "execute_result"
    }
   ],
   "source": [
    "dict={'b':'BUET', 'r':'RUET', 'b':'BRAC', 'e':'EWE', 'k':'KUET'}#b=key,buet=value\n",
    "dict['e']"
   ]
  },
  {
   "cell_type": "code",
   "execution_count": 28,
   "id": "5d6a137c",
   "metadata": {},
   "outputs": [
    {
     "data": {
      "text/plain": [
       "{'b': 'BRAC', 'r': 'RU', 'e': 'EWE', 'k': 'KUET'}"
      ]
     },
     "execution_count": 28,
     "metadata": {},
     "output_type": "execute_result"
    }
   ],
   "source": [
    "dict['r']='RU' #update\n",
    "dict"
   ]
  },
  {
   "cell_type": "code",
   "execution_count": 29,
   "id": "3e37fb8e",
   "metadata": {},
   "outputs": [
    {
     "data": {
      "text/plain": [
       "{'b': 'BRAC', 'r': 'RU', 'e': 'EWE', 'k': 'KUET', 'rt': 'RUET'}"
      ]
     },
     "execution_count": 29,
     "metadata": {},
     "output_type": "execute_result"
    }
   ],
   "source": [
    "dict['rt']='RUET' #update & insert\n",
    "dict"
   ]
  },
  {
   "cell_type": "code",
   "execution_count": 30,
   "id": "ea6e77cc",
   "metadata": {},
   "outputs": [
    {
     "data": {
      "text/plain": [
       "dict_keys(['b', 'r', 'e', 'k', 'rt'])"
      ]
     },
     "execution_count": 30,
     "metadata": {},
     "output_type": "execute_result"
    }
   ],
   "source": [
    "dict.keys()"
   ]
  },
  {
   "cell_type": "code",
   "execution_count": 31,
   "id": "1a820a0f",
   "metadata": {},
   "outputs": [
    {
     "data": {
      "text/plain": [
       "dict_values(['BRAC', 'RU', 'EWE', 'KUET', 'RUET'])"
      ]
     },
     "execution_count": 31,
     "metadata": {},
     "output_type": "execute_result"
    }
   ],
   "source": [
    "dict.values()"
   ]
  },
  {
   "cell_type": "code",
   "execution_count": 34,
   "id": "5c74de64",
   "metadata": {},
   "outputs": [
    {
     "data": {
      "text/plain": [
       "{1, 2, 3, 4, 5, 6, 9}"
      ]
     },
     "execution_count": 34,
     "metadata": {},
     "output_type": "execute_result"
    }
   ],
   "source": [
    "#set\n",
    "s={1,2,9,3,4,4,5,5,6} #set sort and duplicate remove kre \n",
    "s"
   ]
  },
  {
   "cell_type": "code",
   "execution_count": 35,
   "id": "efe4ff00",
   "metadata": {},
   "outputs": [
    {
     "ename": "TypeError",
     "evalue": "'set' object is not subscriptable",
     "output_type": "error",
     "traceback": [
      "\u001b[1;31m---------------------------------------------------------------------------\u001b[0m",
      "\u001b[1;31mTypeError\u001b[0m                                 Traceback (most recent call last)",
      "Cell \u001b[1;32mIn[35], line 1\u001b[0m\n\u001b[1;32m----> 1\u001b[0m \u001b[43ms\u001b[49m\u001b[43m[\u001b[49m\u001b[38;5;241;43m1\u001b[39;49m\u001b[43m]\u001b[49m\n",
      "\u001b[1;31mTypeError\u001b[0m: 'set' object is not subscriptable"
     ]
    }
   ],
   "source": [
    "s[1]"
   ]
  },
  {
   "cell_type": "markdown",
   "id": "db833354",
   "metadata": {},
   "source": [
    "String"
   ]
  },
  {
   "cell_type": "code",
   "execution_count": 36,
   "id": "deb221aa",
   "metadata": {},
   "outputs": [
    {
     "data": {
      "text/plain": [
       "'England'"
      ]
     },
     "execution_count": 36,
     "metadata": {},
     "output_type": "execute_result"
    }
   ],
   "source": [
    "string='England'\n",
    "string"
   ]
  },
  {
   "cell_type": "code",
   "execution_count": 38,
   "id": "e9a168a3",
   "metadata": {},
   "outputs": [
    {
     "data": {
      "text/plain": [
       "\"Bnagladesh is 'love'.I love her\""
      ]
     },
     "execution_count": 38,
     "metadata": {},
     "output_type": "execute_result"
    }
   ],
   "source": [
    "string=\"Bnagladesh is 'love'.I love her\"\n",
    "string"
   ]
  },
  {
   "cell_type": "code",
   "execution_count": 41,
   "id": "069a2595",
   "metadata": {},
   "outputs": [
    {
     "data": {
      "text/plain": [
       "\"Bnagladesh is 'love'.I love her\""
      ]
     },
     "execution_count": 41,
     "metadata": {},
     "output_type": "execute_result"
    }
   ],
   "source": [
    "string='Bnagladesh is \\'love\\'.I love her'\n",
    "string"
   ]
  },
  {
   "cell_type": "code",
   "execution_count": 43,
   "id": "f4d9087e",
   "metadata": {},
   "outputs": [
    {
     "data": {
      "text/plain": [
       "\"Bnagladesh is 'love'.\\n I love her\""
      ]
     },
     "execution_count": 43,
     "metadata": {},
     "output_type": "execute_result"
    }
   ],
   "source": [
    "\"Bnagladesh is 'love'.I love her\".\\n I love her\""
   ]
  },
  {
   "cell_type": "code",
   "execution_count": 47,
   "id": "3a644f53",
   "metadata": {},
   "outputs": [
    {
     "name": "stdout",
     "output_type": "stream",
     "text": [
      "Bnagladesh is 'love.I love her\n"
     ]
    }
   ],
   "source": [
    "print(\"Bnagladesh is 'love.\",end=\"\")\n",
    "print(\"I love her\")"
   ]
  },
  {
   "cell_type": "code",
   "execution_count": 48,
   "id": "09f5f10b",
   "metadata": {},
   "outputs": [
    {
     "name": "stdout",
     "output_type": "stream",
     "text": [
      "Bnagladesh is 'love.\n",
      "I love her\n"
     ]
    }
   ],
   "source": [
    "print(\"Bnagladesh is 'love.\",end=\"\\n\")\n",
    "print(\"I love her\")"
   ]
  },
  {
   "cell_type": "code",
   "execution_count": 49,
   "id": "b6699031",
   "metadata": {},
   "outputs": [
    {
     "name": "stdout",
     "output_type": "stream",
     "text": [
      "Bnagladesh is 'love.\tI love her\n"
     ]
    }
   ],
   "source": [
    "print(\"Bnagladesh is 'love.\",end=\"\\t\")\n",
    "print(\"I love her\")"
   ]
  },
  {
   "cell_type": "code",
   "execution_count": 50,
   "id": "7053e6e9",
   "metadata": {},
   "outputs": [
    {
     "data": {
      "text/plain": [
       "'nagla'"
      ]
     },
     "execution_count": 50,
     "metadata": {},
     "output_type": "execute_result"
    }
   ],
   "source": [
    "string[1:6]"
   ]
  },
  {
   "cell_type": "code",
   "execution_count": 51,
   "id": "35c81fb5",
   "metadata": {},
   "outputs": [
    {
     "name": "stdout",
     "output_type": "stream",
     "text": [
      "Bnagladesh is 'love'.I love her 15\n"
     ]
    }
   ],
   "source": [
    "n=15\n",
    "print(string,n)"
   ]
  },
  {
   "cell_type": "code",
   "execution_count": 52,
   "id": "f9e1c7eb",
   "metadata": {},
   "outputs": [
    {
     "name": "stdout",
     "output_type": "stream",
     "text": [
      "Area of BD is: 147570 sq.km.\n"
     ]
    }
   ],
   "source": [
    "v=147570\n",
    "string2=\"Area of BD is:\"\n",
    "print(string2,v,'sq.km.')"
   ]
  },
  {
   "cell_type": "code",
   "execution_count": 53,
   "id": "4293eff0",
   "metadata": {},
   "outputs": [
    {
     "name": "stdout",
     "output_type": "stream",
     "text": [
      "Area of BD is:147570sq.km.\n"
     ]
    }
   ],
   "source": [
    "print(f\"Area of BD is:{v}sq.km.\")"
   ]
  },
  {
   "cell_type": "code",
   "execution_count": 54,
   "id": "71afb199",
   "metadata": {},
   "outputs": [
    {
     "name": "stdout",
     "output_type": "stream",
     "text": [
      "Area of BD is:147570sq.km.\n"
     ]
    }
   ],
   "source": [
    "print(f\"{string2}{v}sq.km.\")"
   ]
  },
  {
   "cell_type": "code",
   "execution_count": 55,
   "id": "4cbe018e",
   "metadata": {},
   "outputs": [
    {
     "name": "stdout",
     "output_type": "stream",
     "text": [
      "Area\n"
     ]
    }
   ],
   "source": [
    "print(\"Area\")"
   ]
  },
  {
   "cell_type": "code",
   "execution_count": 56,
   "id": "fa43fc5d",
   "metadata": {},
   "outputs": [
    {
     "name": "stdout",
     "output_type": "stream",
     "text": [
      "n\n"
     ]
    }
   ],
   "source": [
    "print(\"n\")"
   ]
  },
  {
   "cell_type": "code",
   "execution_count": 57,
   "id": "58bcddbf",
   "metadata": {},
   "outputs": [
    {
     "name": "stdout",
     "output_type": "stream",
     "text": [
      "{15}\n"
     ]
    }
   ],
   "source": [
    "print({n})"
   ]
  },
  {
   "cell_type": "code",
   "execution_count": 58,
   "id": "fd523705",
   "metadata": {},
   "outputs": [
    {
     "name": "stdout",
     "output_type": "stream",
     "text": [
      "{v}\n"
     ]
    }
   ],
   "source": [
    "print(\"{v}\")"
   ]
  },
  {
   "cell_type": "code",
   "execution_count": 59,
   "id": "4e2341b5",
   "metadata": {},
   "outputs": [
    {
     "data": {
      "text/plain": [
       "int"
      ]
     },
     "execution_count": 59,
     "metadata": {},
     "output_type": "execute_result"
    }
   ],
   "source": [
    "type(n)"
   ]
  },
  {
   "cell_type": "code",
   "execution_count": 61,
   "id": "ade840be",
   "metadata": {},
   "outputs": [
    {
     "ename": "SyntaxError",
     "evalue": "invalid syntax (1670468992.py, line 1)",
     "output_type": "error",
     "traceback": [
      "\u001b[1;36m  Cell \u001b[1;32mIn[61], line 1\u001b[1;36m\u001b[0m\n\u001b[1;33m    type{string2}\u001b[0m\n\u001b[1;37m        ^\u001b[0m\n\u001b[1;31mSyntaxError\u001b[0m\u001b[1;31m:\u001b[0m invalid syntax\n"
     ]
    }
   ],
   "source": [
    "type{string2}"
   ]
  },
  {
   "cell_type": "code",
   "execution_count": 62,
   "id": "6e828f28",
   "metadata": {},
   "outputs": [
    {
     "data": {
      "text/plain": [
       "'banglawash'"
      ]
     },
     "execution_count": 62,
     "metadata": {},
     "output_type": "execute_result"
    }
   ],
   "source": [
    "s1='bangla'\n",
    "s2='wash'\n",
    "s1+s2"
   ]
  },
  {
   "cell_type": "code",
   "execution_count": 66,
   "id": "c9eee005",
   "metadata": {},
   "outputs": [
    {
     "data": {
      "text/plain": [
       "'bangla-wash'"
      ]
     },
     "execution_count": 66,
     "metadata": {},
     "output_type": "execute_result"
    }
   ],
   "source": [
    "washed=s1+'-'+s2\n",
    "washed"
   ]
  },
  {
   "cell_type": "code",
   "execution_count": 64,
   "id": "6a3568a5",
   "metadata": {},
   "outputs": [
    {
     "data": {
      "text/plain": [
       "6"
      ]
     },
     "execution_count": 64,
     "metadata": {},
     "output_type": "execute_result"
    }
   ],
   "source": [
    "len(s1)"
   ]
  },
  {
   "cell_type": "code",
   "execution_count": 67,
   "id": "c66420c7",
   "metadata": {},
   "outputs": [
    {
     "data": {
      "text/plain": [
       "['b', 'ngl', '-w', 'sh']"
      ]
     },
     "execution_count": 67,
     "metadata": {},
     "output_type": "execute_result"
    }
   ],
   "source": [
    "washed.split('a') #stripping"
   ]
  },
  {
   "cell_type": "code",
   "execution_count": 68,
   "id": "ebf985d9",
   "metadata": {},
   "outputs": [
    {
     "data": {
      "text/plain": [
       "7"
      ]
     },
     "execution_count": 68,
     "metadata": {},
     "output_type": "execute_result"
    }
   ],
   "source": [
    "washed.find(\"wash\")"
   ]
  },
  {
   "cell_type": "code",
   "execution_count": null,
   "id": "f061996e",
   "metadata": {},
   "outputs": [],
   "source": []
  }
 ],
 "metadata": {
  "kernelspec": {
   "display_name": "Python 3 (ipykernel)",
   "language": "python",
   "name": "python3"
  },
  "language_info": {
   "codemirror_mode": {
    "name": "ipython",
    "version": 3
   },
   "file_extension": ".py",
   "mimetype": "text/x-python",
   "name": "python",
   "nbconvert_exporter": "python",
   "pygments_lexer": "ipython3",
   "version": "3.10.10"
  }
 },
 "nbformat": 4,
 "nbformat_minor": 5
}
