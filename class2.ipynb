{
 "cells": [
  {
   "cell_type": "code",
   "execution_count": 2,
   "id": "5fdc0651",
   "metadata": {},
   "outputs": [
    {
     "name": "stdout",
     "output_type": "stream",
     "text": [
      "5 7\n"
     ]
    }
   ],
   "source": [
    "a=5\n",
    "b=7\n",
    "print(a,b)"
   ]
  },
  {
   "cell_type": "code",
   "execution_count": 3,
   "id": "e4a85399",
   "metadata": {},
   "outputs": [
    {
     "data": {
      "text/plain": [
       "1.4"
      ]
     },
     "execution_count": 3,
     "metadata": {},
     "output_type": "execute_result"
    }
   ],
   "source": [
    "b/a #floor division\n"
   ]
  },
  {
   "cell_type": "code",
   "execution_count": 4,
   "id": "2cada354",
   "metadata": {},
   "outputs": [
    {
     "data": {
      "text/plain": [
       "1"
      ]
     },
     "execution_count": 4,
     "metadata": {},
     "output_type": "execute_result"
    }
   ],
   "source": [
    "b//a"
   ]
  },
  {
   "cell_type": "code",
   "execution_count": 5,
   "id": "1dcc4a95",
   "metadata": {},
   "outputs": [
    {
     "data": {
      "text/plain": [
       "2"
      ]
     },
     "execution_count": 5,
     "metadata": {},
     "output_type": "execute_result"
    }
   ],
   "source": [
    "b%a\n"
   ]
  },
  {
   "cell_type": "code",
   "execution_count": 6,
   "id": "1138c3be",
   "metadata": {},
   "outputs": [
    {
     "data": {
      "text/plain": [
       "49"
      ]
     },
     "execution_count": 6,
     "metadata": {},
     "output_type": "execute_result"
    }
   ],
   "source": [
    "#exponent\n",
    "b**2"
   ]
  },
  {
   "cell_type": "markdown",
   "id": "d3716a94",
   "metadata": {},
   "source": [
    "###Comparison\n"
   ]
  },
  {
   "cell_type": "code",
   "execution_count": 8,
   "id": "68b924b0",
   "metadata": {},
   "outputs": [
    {
     "data": {
      "text/plain": [
       "False"
      ]
     },
     "execution_count": 8,
     "metadata": {},
     "output_type": "execute_result"
    }
   ],
   "source": [
    "a==b"
   ]
  },
  {
   "cell_type": "code",
   "execution_count": 9,
   "id": "4e811c9d",
   "metadata": {},
   "outputs": [
    {
     "data": {
      "text/plain": [
       "True"
      ]
     },
     "execution_count": 9,
     "metadata": {},
     "output_type": "execute_result"
    }
   ],
   "source": [
    "a!=b"
   ]
  },
  {
   "cell_type": "code",
   "execution_count": 10,
   "id": "3ac16ec6",
   "metadata": {},
   "outputs": [
    {
     "data": {
      "text/plain": [
       "False"
      ]
     },
     "execution_count": 10,
     "metadata": {},
     "output_type": "execute_result"
    }
   ],
   "source": [
    "a>b"
   ]
  },
  {
   "cell_type": "code",
   "execution_count": 11,
   "id": "512544e3",
   "metadata": {},
   "outputs": [
    {
     "data": {
      "text/plain": [
       "True"
      ]
     },
     "execution_count": 11,
     "metadata": {},
     "output_type": "execute_result"
    }
   ],
   "source": [
    "a<b"
   ]
  },
  {
   "cell_type": "markdown",
   "id": "e2d8bb40",
   "metadata": {},
   "source": [
    "###Logical\n"
   ]
  },
  {
   "cell_type": "code",
   "execution_count": 12,
   "id": "330136eb",
   "metadata": {},
   "outputs": [
    {
     "data": {
      "text/plain": [
       "False"
      ]
     },
     "execution_count": 12,
     "metadata": {},
     "output_type": "execute_result"
    }
   ],
   "source": [
    "x=4\n",
    "y=4\n",
    "z=6\n",
    "\n",
    "x==y and y==z"
   ]
  },
  {
   "cell_type": "markdown",
   "id": "08a83470",
   "metadata": {},
   "source": [
    "Or operation"
   ]
  },
  {
   "cell_type": "code",
   "execution_count": 13,
   "id": "7f7bbf10",
   "metadata": {},
   "outputs": [
    {
     "data": {
      "text/plain": [
       "True"
      ]
     },
     "execution_count": 13,
     "metadata": {},
     "output_type": "execute_result"
    }
   ],
   "source": [
    "x==y or y==z"
   ]
  },
  {
   "cell_type": "code",
   "execution_count": 14,
   "id": "6b016e1a",
   "metadata": {},
   "outputs": [
    {
     "data": {
      "text/plain": [
       "False"
      ]
     },
     "execution_count": 14,
     "metadata": {},
     "output_type": "execute_result"
    }
   ],
   "source": [
    "not x==y"
   ]
  },
  {
   "cell_type": "markdown",
   "id": "be4d8236",
   "metadata": {},
   "source": [
    "Membership"
   ]
  },
  {
   "cell_type": "code",
   "execution_count": 15,
   "id": "074c3766",
   "metadata": {},
   "outputs": [
    {
     "data": {
      "text/plain": [
       "True"
      ]
     },
     "execution_count": 15,
     "metadata": {},
     "output_type": "execute_result"
    }
   ],
   "source": [
    "\"desh\" in \"bangladesh\""
   ]
  },
  {
   "cell_type": "code",
   "execution_count": 16,
   "id": "453d6d5c",
   "metadata": {},
   "outputs": [
    {
     "data": {
      "text/plain": [
       "False"
      ]
     },
     "execution_count": 16,
     "metadata": {},
     "output_type": "execute_result"
    }
   ],
   "source": [
    "\"desh\" not in \"bangladesh\""
   ]
  },
  {
   "cell_type": "markdown",
   "id": "12648e2c",
   "metadata": {},
   "source": [
    "Identity"
   ]
  },
  {
   "cell_type": "code",
   "execution_count": 17,
   "id": "1183b49a",
   "metadata": {},
   "outputs": [
    {
     "data": {
      "text/plain": [
       "False"
      ]
     },
     "execution_count": 17,
     "metadata": {},
     "output_type": "execute_result"
    }
   ],
   "source": [
    "a is b"
   ]
  },
  {
   "cell_type": "markdown",
   "id": "8f00a462",
   "metadata": {},
   "source": [
    "Data Structure"
   ]
  },
  {
   "cell_type": "code",
   "execution_count": 18,
   "id": "e08ae6ef",
   "metadata": {},
   "outputs": [],
   "source": [
    "#List\n",
    "lst_1=['BUET','RUET','EWE','KUET']\n",
    "LST_2=[1,2,3,4]"
   ]
  },
  {
   "cell_type": "code",
   "execution_count": 19,
   "id": "3bf389df",
   "metadata": {},
   "outputs": [
    {
     "data": {
      "text/plain": [
       "'BUET'"
      ]
     },
     "execution_count": 19,
     "metadata": {},
     "output_type": "execute_result"
    }
   ],
   "source": [
    "lst_1[0]"
   ]
  },
  {
   "cell_type": "code",
   "execution_count": 20,
   "id": "6872adf8",
   "metadata": {},
   "outputs": [
    {
     "ename": "IndexError",
     "evalue": "list index out of range",
     "output_type": "error",
     "traceback": [
      "\u001b[1;31m---------------------------------------------------------------------------\u001b[0m",
      "\u001b[1;31mIndexError\u001b[0m                                Traceback (most recent call last)",
      "Cell \u001b[1;32mIn[20], line 1\u001b[0m\n\u001b[1;32m----> 1\u001b[0m \u001b[43mlst_1\u001b[49m\u001b[43m[\u001b[49m\u001b[38;5;241;43m4\u001b[39;49m\u001b[43m]\u001b[49m\n",
      "\u001b[1;31mIndexError\u001b[0m: list index out of range"
     ]
    }
   ],
   "source": [
    "lst_1[4]"
   ]
  },
  {
   "cell_type": "code",
   "execution_count": 22,
   "id": "39f688ca",
   "metadata": {},
   "outputs": [
    {
     "data": {
      "text/plain": [
       "['BUET', 'RUET']"
      ]
     },
     "execution_count": 22,
     "metadata": {},
     "output_type": "execute_result"
    }
   ],
   "source": [
    "lst_1[0:2]#slicing lower<=index<upper"
   ]
  },
  {
   "cell_type": "code",
   "execution_count": 23,
   "id": "42b646cd",
   "metadata": {},
   "outputs": [
    {
     "data": {
      "text/plain": [
       "['RUET', 'EWE']"
      ]
     },
     "execution_count": 23,
     "metadata": {},
     "output_type": "execute_result"
    }
   ],
   "source": [
    "lst_1[1:3]"
   ]
  },
  {
   "cell_type": "code",
   "execution_count": 24,
   "id": "32332769",
   "metadata": {},
   "outputs": [
    {
     "data": {
      "text/plain": [
       "['RUET', 'EWE', 'KUET']"
      ]
     },
     "execution_count": 24,
     "metadata": {},
     "output_type": "execute_result"
    }
   ],
   "source": [
    "lst_1[1:]"
   ]
  },
  {
   "cell_type": "code",
   "execution_count": 25,
   "id": "557b5a74",
   "metadata": {},
   "outputs": [
    {
     "ename": "IndexError",
     "evalue": "list assignment index out of range",
     "output_type": "error",
     "traceback": [
      "\u001b[1;31m---------------------------------------------------------------------------\u001b[0m",
      "\u001b[1;31mIndexError\u001b[0m                                Traceback (most recent call last)",
      "Cell \u001b[1;32mIn[25], line 2\u001b[0m\n\u001b[0;32m      1\u001b[0m \u001b[38;5;66;03m#update list\u001b[39;00m\n\u001b[1;32m----> 2\u001b[0m \u001b[43mlst_1\u001b[49m\u001b[43m[\u001b[49m\u001b[38;5;241;43m4\u001b[39;49m\u001b[43m]\u001b[49m\u001b[38;5;241m=\u001b[39m\u001b[38;5;124m'\u001b[39m\u001b[38;5;124mNSU\u001b[39m\u001b[38;5;124m'\u001b[39m\n\u001b[0;32m      3\u001b[0m lst_1\n",
      "\u001b[1;31mIndexError\u001b[0m: list assignment index out of range"
     ]
    }
   ],
   "source": [
    "#update list\n",
    "lst_1[4]='NSU'\n",
    "lst_1\n"
   ]
  },
  {
   "cell_type": "code",
   "execution_count": 26,
   "id": "94fb9cbb",
   "metadata": {},
   "outputs": [
    {
     "data": {
      "text/plain": [
       "['BUET', 'RUET', 'EWE', 'KUET', 'NSU']"
      ]
     },
     "execution_count": 26,
     "metadata": {},
     "output_type": "execute_result"
    }
   ],
   "source": [
    "#update list\n",
    "lst_1.append('NSU')\n",
    "lst_1"
   ]
  },
  {
   "cell_type": "code",
   "execution_count": null,
   "id": "e08b7264",
   "metadata": {},
   "outputs": [],
   "source": []
  }
 ],
 "metadata": {
  "kernelspec": {
   "display_name": "Python 3 (ipykernel)",
   "language": "python",
   "name": "python3"
  },
  "language_info": {
   "codemirror_mode": {
    "name": "ipython",
    "version": 3
   },
   "file_extension": ".py",
   "mimetype": "text/x-python",
   "name": "python",
   "nbconvert_exporter": "python",
   "pygments_lexer": "ipython3",
   "version": "3.10.10"
  }
 },
 "nbformat": 4,
 "nbformat_minor": 5
}
