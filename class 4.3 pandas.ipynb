{
 "cells": [
  {
   "cell_type": "code",
   "execution_count": 2,
   "id": "c078e0cc",
   "metadata": {},
   "outputs": [],
   "source": [
    "import pandas as pd\n",
    "import numpy as np"
   ]
  },
  {
   "cell_type": "code",
   "execution_count": 3,
   "id": "83f7e7db",
   "metadata": {},
   "outputs": [],
   "source": [
    "df=pd.DataFrame(np.arange(0,30).reshape(5,6),index=['R1','R2','R3','R4','R5'],columns=['C1','C2','C3','C4','C5','C6'])"
   ]
  },
  {
   "cell_type": "code",
   "execution_count": 4,
   "id": "69eddf04",
   "metadata": {},
   "outputs": [
    {
     "data": {
      "text/html": [
       "<div>\n",
       "<style scoped>\n",
       "    .dataframe tbody tr th:only-of-type {\n",
       "        vertical-align: middle;\n",
       "    }\n",
       "\n",
       "    .dataframe tbody tr th {\n",
       "        vertical-align: top;\n",
       "    }\n",
       "\n",
       "    .dataframe thead th {\n",
       "        text-align: right;\n",
       "    }\n",
       "</style>\n",
       "<table border=\"1\" class=\"dataframe\">\n",
       "  <thead>\n",
       "    <tr style=\"text-align: right;\">\n",
       "      <th></th>\n",
       "      <th>C1</th>\n",
       "      <th>C2</th>\n",
       "      <th>C3</th>\n",
       "      <th>C4</th>\n",
       "      <th>C5</th>\n",
       "      <th>C6</th>\n",
       "    </tr>\n",
       "  </thead>\n",
       "  <tbody>\n",
       "    <tr>\n",
       "      <th>R1</th>\n",
       "      <td>0</td>\n",
       "      <td>1</td>\n",
       "      <td>2</td>\n",
       "      <td>3</td>\n",
       "      <td>4</td>\n",
       "      <td>5</td>\n",
       "    </tr>\n",
       "    <tr>\n",
       "      <th>R2</th>\n",
       "      <td>6</td>\n",
       "      <td>7</td>\n",
       "      <td>8</td>\n",
       "      <td>9</td>\n",
       "      <td>10</td>\n",
       "      <td>11</td>\n",
       "    </tr>\n",
       "    <tr>\n",
       "      <th>R3</th>\n",
       "      <td>12</td>\n",
       "      <td>13</td>\n",
       "      <td>14</td>\n",
       "      <td>15</td>\n",
       "      <td>16</td>\n",
       "      <td>17</td>\n",
       "    </tr>\n",
       "    <tr>\n",
       "      <th>R4</th>\n",
       "      <td>18</td>\n",
       "      <td>19</td>\n",
       "      <td>20</td>\n",
       "      <td>21</td>\n",
       "      <td>22</td>\n",
       "      <td>23</td>\n",
       "    </tr>\n",
       "    <tr>\n",
       "      <th>R5</th>\n",
       "      <td>24</td>\n",
       "      <td>25</td>\n",
       "      <td>26</td>\n",
       "      <td>27</td>\n",
       "      <td>28</td>\n",
       "      <td>29</td>\n",
       "    </tr>\n",
       "  </tbody>\n",
       "</table>\n",
       "</div>"
      ],
      "text/plain": [
       "    C1  C2  C3  C4  C5  C6\n",
       "R1   0   1   2   3   4   5\n",
       "R2   6   7   8   9  10  11\n",
       "R3  12  13  14  15  16  17\n",
       "R4  18  19  20  21  22  23\n",
       "R5  24  25  26  27  28  29"
      ]
     },
     "execution_count": 4,
     "metadata": {},
     "output_type": "execute_result"
    }
   ],
   "source": [
    "df #index row k represent kore"
   ]
  },
  {
   "cell_type": "code",
   "execution_count": 5,
   "id": "3745247c",
   "metadata": {},
   "outputs": [
    {
     "data": {
      "text/html": [
       "<div>\n",
       "<style scoped>\n",
       "    .dataframe tbody tr th:only-of-type {\n",
       "        vertical-align: middle;\n",
       "    }\n",
       "\n",
       "    .dataframe tbody tr th {\n",
       "        vertical-align: top;\n",
       "    }\n",
       "\n",
       "    .dataframe thead th {\n",
       "        text-align: right;\n",
       "    }\n",
       "</style>\n",
       "<table border=\"1\" class=\"dataframe\">\n",
       "  <thead>\n",
       "    <tr style=\"text-align: right;\">\n",
       "      <th></th>\n",
       "      <th>C1</th>\n",
       "      <th>C2</th>\n",
       "      <th>C3</th>\n",
       "      <th>C4</th>\n",
       "      <th>C5</th>\n",
       "      <th>C6</th>\n",
       "    </tr>\n",
       "  </thead>\n",
       "  <tbody>\n",
       "    <tr>\n",
       "      <th>R1</th>\n",
       "      <td>0</td>\n",
       "      <td>1</td>\n",
       "      <td>2</td>\n",
       "      <td>3</td>\n",
       "      <td>4</td>\n",
       "      <td>5</td>\n",
       "    </tr>\n",
       "    <tr>\n",
       "      <th>R2</th>\n",
       "      <td>6</td>\n",
       "      <td>7</td>\n",
       "      <td>8</td>\n",
       "      <td>9</td>\n",
       "      <td>10</td>\n",
       "      <td>11</td>\n",
       "    </tr>\n",
       "    <tr>\n",
       "      <th>R3</th>\n",
       "      <td>12</td>\n",
       "      <td>13</td>\n",
       "      <td>14</td>\n",
       "      <td>15</td>\n",
       "      <td>16</td>\n",
       "      <td>17</td>\n",
       "    </tr>\n",
       "  </tbody>\n",
       "</table>\n",
       "</div>"
      ],
      "text/plain": [
       "    C1  C2  C3  C4  C5  C6\n",
       "R1   0   1   2   3   4   5\n",
       "R2   6   7   8   9  10  11\n",
       "R3  12  13  14  15  16  17"
      ]
     },
     "execution_count": 5,
     "metadata": {},
     "output_type": "execute_result"
    }
   ],
   "source": [
    "df.head(3)"
   ]
  },
  {
   "cell_type": "code",
   "execution_count": 6,
   "id": "4ba43f43",
   "metadata": {},
   "outputs": [
    {
     "data": {
      "text/html": [
       "<div>\n",
       "<style scoped>\n",
       "    .dataframe tbody tr th:only-of-type {\n",
       "        vertical-align: middle;\n",
       "    }\n",
       "\n",
       "    .dataframe tbody tr th {\n",
       "        vertical-align: top;\n",
       "    }\n",
       "\n",
       "    .dataframe thead th {\n",
       "        text-align: right;\n",
       "    }\n",
       "</style>\n",
       "<table border=\"1\" class=\"dataframe\">\n",
       "  <thead>\n",
       "    <tr style=\"text-align: right;\">\n",
       "      <th></th>\n",
       "      <th>C1</th>\n",
       "      <th>C2</th>\n",
       "      <th>C3</th>\n",
       "      <th>C4</th>\n",
       "      <th>C5</th>\n",
       "      <th>C6</th>\n",
       "    </tr>\n",
       "  </thead>\n",
       "  <tbody>\n",
       "    <tr>\n",
       "      <th>R3</th>\n",
       "      <td>12</td>\n",
       "      <td>13</td>\n",
       "      <td>14</td>\n",
       "      <td>15</td>\n",
       "      <td>16</td>\n",
       "      <td>17</td>\n",
       "    </tr>\n",
       "    <tr>\n",
       "      <th>R4</th>\n",
       "      <td>18</td>\n",
       "      <td>19</td>\n",
       "      <td>20</td>\n",
       "      <td>21</td>\n",
       "      <td>22</td>\n",
       "      <td>23</td>\n",
       "    </tr>\n",
       "    <tr>\n",
       "      <th>R5</th>\n",
       "      <td>24</td>\n",
       "      <td>25</td>\n",
       "      <td>26</td>\n",
       "      <td>27</td>\n",
       "      <td>28</td>\n",
       "      <td>29</td>\n",
       "    </tr>\n",
       "  </tbody>\n",
       "</table>\n",
       "</div>"
      ],
      "text/plain": [
       "    C1  C2  C3  C4  C5  C6\n",
       "R3  12  13  14  15  16  17\n",
       "R4  18  19  20  21  22  23\n",
       "R5  24  25  26  27  28  29"
      ]
     },
     "execution_count": 6,
     "metadata": {},
     "output_type": "execute_result"
    }
   ],
   "source": [
    "df.tail(3)"
   ]
  },
  {
   "cell_type": "code",
   "execution_count": 7,
   "id": "58a72fc9",
   "metadata": {},
   "outputs": [
    {
     "data": {
      "text/plain": [
       "C1    0\n",
       "C2    1\n",
       "C3    2\n",
       "C4    3\n",
       "C5    4\n",
       "C6    5\n",
       "Name: R1, dtype: int32"
      ]
     },
     "execution_count": 7,
     "metadata": {},
     "output_type": "execute_result"
    }
   ],
   "source": [
    "df.loc['R1']"
   ]
  },
  {
   "cell_type": "code",
   "execution_count": 8,
   "id": "a4e96809",
   "metadata": {},
   "outputs": [
    {
     "data": {
      "text/plain": [
       "C1    0\n",
       "C2    1\n",
       "C3    2\n",
       "C4    3\n",
       "C5    4\n",
       "C6    5\n",
       "Name: R1, dtype: int32"
      ]
     },
     "execution_count": 8,
     "metadata": {},
     "output_type": "execute_result"
    }
   ],
   "source": [
    "df.iloc[0]"
   ]
  },
  {
   "cell_type": "code",
   "execution_count": 9,
   "id": "c835f898",
   "metadata": {},
   "outputs": [
    {
     "data": {
      "text/html": [
       "<div>\n",
       "<style scoped>\n",
       "    .dataframe tbody tr th:only-of-type {\n",
       "        vertical-align: middle;\n",
       "    }\n",
       "\n",
       "    .dataframe tbody tr th {\n",
       "        vertical-align: top;\n",
       "    }\n",
       "\n",
       "    .dataframe thead th {\n",
       "        text-align: right;\n",
       "    }\n",
       "</style>\n",
       "<table border=\"1\" class=\"dataframe\">\n",
       "  <thead>\n",
       "    <tr style=\"text-align: right;\">\n",
       "      <th></th>\n",
       "      <th>C1</th>\n",
       "      <th>C2</th>\n",
       "      <th>C3</th>\n",
       "      <th>C4</th>\n",
       "      <th>C5</th>\n",
       "      <th>C6</th>\n",
       "    </tr>\n",
       "  </thead>\n",
       "  <tbody>\n",
       "    <tr>\n",
       "      <th>R1</th>\n",
       "      <td>0</td>\n",
       "      <td>1</td>\n",
       "      <td>2</td>\n",
       "      <td>3</td>\n",
       "      <td>4</td>\n",
       "      <td>5</td>\n",
       "    </tr>\n",
       "    <tr>\n",
       "      <th>R2</th>\n",
       "      <td>6</td>\n",
       "      <td>7</td>\n",
       "      <td>8</td>\n",
       "      <td>9</td>\n",
       "      <td>10</td>\n",
       "      <td>11</td>\n",
       "    </tr>\n",
       "  </tbody>\n",
       "</table>\n",
       "</div>"
      ],
      "text/plain": [
       "    C1  C2  C3  C4  C5  C6\n",
       "R1   0   1   2   3   4   5\n",
       "R2   6   7   8   9  10  11"
      ]
     },
     "execution_count": 9,
     "metadata": {},
     "output_type": "execute_result"
    }
   ],
   "source": [
    "#slicing\n",
    "df.iloc[:2]"
   ]
  },
  {
   "cell_type": "code",
   "execution_count": 10,
   "id": "5bdaaa5b",
   "metadata": {},
   "outputs": [
    {
     "data": {
      "text/html": [
       "<div>\n",
       "<style scoped>\n",
       "    .dataframe tbody tr th:only-of-type {\n",
       "        vertical-align: middle;\n",
       "    }\n",
       "\n",
       "    .dataframe tbody tr th {\n",
       "        vertical-align: top;\n",
       "    }\n",
       "\n",
       "    .dataframe thead th {\n",
       "        text-align: right;\n",
       "    }\n",
       "</style>\n",
       "<table border=\"1\" class=\"dataframe\">\n",
       "  <thead>\n",
       "    <tr style=\"text-align: right;\">\n",
       "      <th></th>\n",
       "      <th>C1</th>\n",
       "      <th>C2</th>\n",
       "      <th>C3</th>\n",
       "    </tr>\n",
       "  </thead>\n",
       "  <tbody>\n",
       "    <tr>\n",
       "      <th>R1</th>\n",
       "      <td>0</td>\n",
       "      <td>1</td>\n",
       "      <td>2</td>\n",
       "    </tr>\n",
       "    <tr>\n",
       "      <th>R2</th>\n",
       "      <td>6</td>\n",
       "      <td>7</td>\n",
       "      <td>8</td>\n",
       "    </tr>\n",
       "  </tbody>\n",
       "</table>\n",
       "</div>"
      ],
      "text/plain": [
       "    C1  C2  C3\n",
       "R1   0   1   2\n",
       "R2   6   7   8"
      ]
     },
     "execution_count": 10,
     "metadata": {},
     "output_type": "execute_result"
    }
   ],
   "source": [
    "df.iloc[:2,:3]"
   ]
  },
  {
   "cell_type": "code",
   "execution_count": 20,
   "id": "761bff9b",
   "metadata": {},
   "outputs": [
    {
     "data": {
      "text/plain": [
       "array([[ 0,  1,  2,  3,  4,  5],\n",
       "       [ 6,  7,  8,  9, 10, 11],\n",
       "       [12, 13, 14, 15, 16, 17],\n",
       "       [18, 19, 20, 21, 22, 23],\n",
       "       [24, 25, 26, 27, 28, 29]])"
      ]
     },
     "execution_count": 20,
     "metadata": {},
     "output_type": "execute_result"
    }
   ],
   "source": [
    "df.values"
   ]
  },
  {
   "cell_type": "code",
   "execution_count": 28,
   "id": "083a8b33",
   "metadata": {},
   "outputs": [
    {
     "ename": "FileNotFoundError",
     "evalue": "[Errno 2] No such file or directory: 'Datasets/Book1.csv'",
     "output_type": "error",
     "traceback": [
      "\u001b[1;31m---------------------------------------------------------------------------\u001b[0m",
      "\u001b[1;31mFileNotFoundError\u001b[0m                         Traceback (most recent call last)",
      "Cell \u001b[1;32mIn[28], line 1\u001b[0m\n\u001b[1;32m----> 1\u001b[0m df_mb\u001b[38;5;241m=\u001b[39m\u001b[43mpd\u001b[49m\u001b[38;5;241;43m.\u001b[39;49m\u001b[43mread_csv\u001b[49m\u001b[43m(\u001b[49m\u001b[38;5;124;43m\"\u001b[39;49m\u001b[38;5;124;43mDatasets/Book1.csv\u001b[39;49m\u001b[38;5;124;43m\"\u001b[39;49m\u001b[43m)\u001b[49m\n\u001b[0;32m      2\u001b[0m df_mb\u001b[38;5;241m.\u001b[39mhead()\n",
      "File \u001b[1;32m~\\AppData\\Local\\Programs\\Python\\Python310\\lib\\site-packages\\pandas\\io\\parsers\\readers.py:912\u001b[0m, in \u001b[0;36mread_csv\u001b[1;34m(filepath_or_buffer, sep, delimiter, header, names, index_col, usecols, dtype, engine, converters, true_values, false_values, skipinitialspace, skiprows, skipfooter, nrows, na_values, keep_default_na, na_filter, verbose, skip_blank_lines, parse_dates, infer_datetime_format, keep_date_col, date_parser, date_format, dayfirst, cache_dates, iterator, chunksize, compression, thousands, decimal, lineterminator, quotechar, quoting, doublequote, escapechar, comment, encoding, encoding_errors, dialect, on_bad_lines, delim_whitespace, low_memory, memory_map, float_precision, storage_options, dtype_backend)\u001b[0m\n\u001b[0;32m    899\u001b[0m kwds_defaults \u001b[38;5;241m=\u001b[39m _refine_defaults_read(\n\u001b[0;32m    900\u001b[0m     dialect,\n\u001b[0;32m    901\u001b[0m     delimiter,\n\u001b[1;32m   (...)\u001b[0m\n\u001b[0;32m    908\u001b[0m     dtype_backend\u001b[38;5;241m=\u001b[39mdtype_backend,\n\u001b[0;32m    909\u001b[0m )\n\u001b[0;32m    910\u001b[0m kwds\u001b[38;5;241m.\u001b[39mupdate(kwds_defaults)\n\u001b[1;32m--> 912\u001b[0m \u001b[38;5;28;01mreturn\u001b[39;00m \u001b[43m_read\u001b[49m\u001b[43m(\u001b[49m\u001b[43mfilepath_or_buffer\u001b[49m\u001b[43m,\u001b[49m\u001b[43m \u001b[49m\u001b[43mkwds\u001b[49m\u001b[43m)\u001b[49m\n",
      "File \u001b[1;32m~\\AppData\\Local\\Programs\\Python\\Python310\\lib\\site-packages\\pandas\\io\\parsers\\readers.py:577\u001b[0m, in \u001b[0;36m_read\u001b[1;34m(filepath_or_buffer, kwds)\u001b[0m\n\u001b[0;32m    574\u001b[0m _validate_names(kwds\u001b[38;5;241m.\u001b[39mget(\u001b[38;5;124m\"\u001b[39m\u001b[38;5;124mnames\u001b[39m\u001b[38;5;124m\"\u001b[39m, \u001b[38;5;28;01mNone\u001b[39;00m))\n\u001b[0;32m    576\u001b[0m \u001b[38;5;66;03m# Create the parser.\u001b[39;00m\n\u001b[1;32m--> 577\u001b[0m parser \u001b[38;5;241m=\u001b[39m TextFileReader(filepath_or_buffer, \u001b[38;5;241m*\u001b[39m\u001b[38;5;241m*\u001b[39mkwds)\n\u001b[0;32m    579\u001b[0m \u001b[38;5;28;01mif\u001b[39;00m chunksize \u001b[38;5;129;01mor\u001b[39;00m iterator:\n\u001b[0;32m    580\u001b[0m     \u001b[38;5;28;01mreturn\u001b[39;00m parser\n",
      "File \u001b[1;32m~\\AppData\\Local\\Programs\\Python\\Python310\\lib\\site-packages\\pandas\\io\\parsers\\readers.py:1407\u001b[0m, in \u001b[0;36mTextFileReader.__init__\u001b[1;34m(self, f, engine, **kwds)\u001b[0m\n\u001b[0;32m   1404\u001b[0m     \u001b[38;5;28mself\u001b[39m\u001b[38;5;241m.\u001b[39moptions[\u001b[38;5;124m\"\u001b[39m\u001b[38;5;124mhas_index_names\u001b[39m\u001b[38;5;124m\"\u001b[39m] \u001b[38;5;241m=\u001b[39m kwds[\u001b[38;5;124m\"\u001b[39m\u001b[38;5;124mhas_index_names\u001b[39m\u001b[38;5;124m\"\u001b[39m]\n\u001b[0;32m   1406\u001b[0m \u001b[38;5;28mself\u001b[39m\u001b[38;5;241m.\u001b[39mhandles: IOHandles \u001b[38;5;241m|\u001b[39m \u001b[38;5;28;01mNone\u001b[39;00m \u001b[38;5;241m=\u001b[39m \u001b[38;5;28;01mNone\u001b[39;00m\n\u001b[1;32m-> 1407\u001b[0m \u001b[38;5;28mself\u001b[39m\u001b[38;5;241m.\u001b[39m_engine \u001b[38;5;241m=\u001b[39m \u001b[38;5;28;43mself\u001b[39;49m\u001b[38;5;241;43m.\u001b[39;49m\u001b[43m_make_engine\u001b[49m\u001b[43m(\u001b[49m\u001b[43mf\u001b[49m\u001b[43m,\u001b[49m\u001b[43m \u001b[49m\u001b[38;5;28;43mself\u001b[39;49m\u001b[38;5;241;43m.\u001b[39;49m\u001b[43mengine\u001b[49m\u001b[43m)\u001b[49m\n",
      "File \u001b[1;32m~\\AppData\\Local\\Programs\\Python\\Python310\\lib\\site-packages\\pandas\\io\\parsers\\readers.py:1661\u001b[0m, in \u001b[0;36mTextFileReader._make_engine\u001b[1;34m(self, f, engine)\u001b[0m\n\u001b[0;32m   1659\u001b[0m     \u001b[38;5;28;01mif\u001b[39;00m \u001b[38;5;124m\"\u001b[39m\u001b[38;5;124mb\u001b[39m\u001b[38;5;124m\"\u001b[39m \u001b[38;5;129;01mnot\u001b[39;00m \u001b[38;5;129;01min\u001b[39;00m mode:\n\u001b[0;32m   1660\u001b[0m         mode \u001b[38;5;241m+\u001b[39m\u001b[38;5;241m=\u001b[39m \u001b[38;5;124m\"\u001b[39m\u001b[38;5;124mb\u001b[39m\u001b[38;5;124m\"\u001b[39m\n\u001b[1;32m-> 1661\u001b[0m \u001b[38;5;28mself\u001b[39m\u001b[38;5;241m.\u001b[39mhandles \u001b[38;5;241m=\u001b[39m \u001b[43mget_handle\u001b[49m\u001b[43m(\u001b[49m\n\u001b[0;32m   1662\u001b[0m \u001b[43m    \u001b[49m\u001b[43mf\u001b[49m\u001b[43m,\u001b[49m\n\u001b[0;32m   1663\u001b[0m \u001b[43m    \u001b[49m\u001b[43mmode\u001b[49m\u001b[43m,\u001b[49m\n\u001b[0;32m   1664\u001b[0m \u001b[43m    \u001b[49m\u001b[43mencoding\u001b[49m\u001b[38;5;241;43m=\u001b[39;49m\u001b[38;5;28;43mself\u001b[39;49m\u001b[38;5;241;43m.\u001b[39;49m\u001b[43moptions\u001b[49m\u001b[38;5;241;43m.\u001b[39;49m\u001b[43mget\u001b[49m\u001b[43m(\u001b[49m\u001b[38;5;124;43m\"\u001b[39;49m\u001b[38;5;124;43mencoding\u001b[39;49m\u001b[38;5;124;43m\"\u001b[39;49m\u001b[43m,\u001b[49m\u001b[43m \u001b[49m\u001b[38;5;28;43;01mNone\u001b[39;49;00m\u001b[43m)\u001b[49m\u001b[43m,\u001b[49m\n\u001b[0;32m   1665\u001b[0m \u001b[43m    \u001b[49m\u001b[43mcompression\u001b[49m\u001b[38;5;241;43m=\u001b[39;49m\u001b[38;5;28;43mself\u001b[39;49m\u001b[38;5;241;43m.\u001b[39;49m\u001b[43moptions\u001b[49m\u001b[38;5;241;43m.\u001b[39;49m\u001b[43mget\u001b[49m\u001b[43m(\u001b[49m\u001b[38;5;124;43m\"\u001b[39;49m\u001b[38;5;124;43mcompression\u001b[39;49m\u001b[38;5;124;43m\"\u001b[39;49m\u001b[43m,\u001b[49m\u001b[43m \u001b[49m\u001b[38;5;28;43;01mNone\u001b[39;49;00m\u001b[43m)\u001b[49m\u001b[43m,\u001b[49m\n\u001b[0;32m   1666\u001b[0m \u001b[43m    \u001b[49m\u001b[43mmemory_map\u001b[49m\u001b[38;5;241;43m=\u001b[39;49m\u001b[38;5;28;43mself\u001b[39;49m\u001b[38;5;241;43m.\u001b[39;49m\u001b[43moptions\u001b[49m\u001b[38;5;241;43m.\u001b[39;49m\u001b[43mget\u001b[49m\u001b[43m(\u001b[49m\u001b[38;5;124;43m\"\u001b[39;49m\u001b[38;5;124;43mmemory_map\u001b[39;49m\u001b[38;5;124;43m\"\u001b[39;49m\u001b[43m,\u001b[49m\u001b[43m \u001b[49m\u001b[38;5;28;43;01mFalse\u001b[39;49;00m\u001b[43m)\u001b[49m\u001b[43m,\u001b[49m\n\u001b[0;32m   1667\u001b[0m \u001b[43m    \u001b[49m\u001b[43mis_text\u001b[49m\u001b[38;5;241;43m=\u001b[39;49m\u001b[43mis_text\u001b[49m\u001b[43m,\u001b[49m\n\u001b[0;32m   1668\u001b[0m \u001b[43m    \u001b[49m\u001b[43merrors\u001b[49m\u001b[38;5;241;43m=\u001b[39;49m\u001b[38;5;28;43mself\u001b[39;49m\u001b[38;5;241;43m.\u001b[39;49m\u001b[43moptions\u001b[49m\u001b[38;5;241;43m.\u001b[39;49m\u001b[43mget\u001b[49m\u001b[43m(\u001b[49m\u001b[38;5;124;43m\"\u001b[39;49m\u001b[38;5;124;43mencoding_errors\u001b[39;49m\u001b[38;5;124;43m\"\u001b[39;49m\u001b[43m,\u001b[49m\u001b[43m \u001b[49m\u001b[38;5;124;43m\"\u001b[39;49m\u001b[38;5;124;43mstrict\u001b[39;49m\u001b[38;5;124;43m\"\u001b[39;49m\u001b[43m)\u001b[49m\u001b[43m,\u001b[49m\n\u001b[0;32m   1669\u001b[0m \u001b[43m    \u001b[49m\u001b[43mstorage_options\u001b[49m\u001b[38;5;241;43m=\u001b[39;49m\u001b[38;5;28;43mself\u001b[39;49m\u001b[38;5;241;43m.\u001b[39;49m\u001b[43moptions\u001b[49m\u001b[38;5;241;43m.\u001b[39;49m\u001b[43mget\u001b[49m\u001b[43m(\u001b[49m\u001b[38;5;124;43m\"\u001b[39;49m\u001b[38;5;124;43mstorage_options\u001b[39;49m\u001b[38;5;124;43m\"\u001b[39;49m\u001b[43m,\u001b[49m\u001b[43m \u001b[49m\u001b[38;5;28;43;01mNone\u001b[39;49;00m\u001b[43m)\u001b[49m\u001b[43m,\u001b[49m\n\u001b[0;32m   1670\u001b[0m \u001b[43m\u001b[49m\u001b[43m)\u001b[49m\n\u001b[0;32m   1671\u001b[0m \u001b[38;5;28;01massert\u001b[39;00m \u001b[38;5;28mself\u001b[39m\u001b[38;5;241m.\u001b[39mhandles \u001b[38;5;129;01mis\u001b[39;00m \u001b[38;5;129;01mnot\u001b[39;00m \u001b[38;5;28;01mNone\u001b[39;00m\n\u001b[0;32m   1672\u001b[0m f \u001b[38;5;241m=\u001b[39m \u001b[38;5;28mself\u001b[39m\u001b[38;5;241m.\u001b[39mhandles\u001b[38;5;241m.\u001b[39mhandle\n",
      "File \u001b[1;32m~\\AppData\\Local\\Programs\\Python\\Python310\\lib\\site-packages\\pandas\\io\\common.py:859\u001b[0m, in \u001b[0;36mget_handle\u001b[1;34m(path_or_buf, mode, encoding, compression, memory_map, is_text, errors, storage_options)\u001b[0m\n\u001b[0;32m    854\u001b[0m \u001b[38;5;28;01melif\u001b[39;00m \u001b[38;5;28misinstance\u001b[39m(handle, \u001b[38;5;28mstr\u001b[39m):\n\u001b[0;32m    855\u001b[0m     \u001b[38;5;66;03m# Check whether the filename is to be opened in binary mode.\u001b[39;00m\n\u001b[0;32m    856\u001b[0m     \u001b[38;5;66;03m# Binary mode does not support 'encoding' and 'newline'.\u001b[39;00m\n\u001b[0;32m    857\u001b[0m     \u001b[38;5;28;01mif\u001b[39;00m ioargs\u001b[38;5;241m.\u001b[39mencoding \u001b[38;5;129;01mand\u001b[39;00m \u001b[38;5;124m\"\u001b[39m\u001b[38;5;124mb\u001b[39m\u001b[38;5;124m\"\u001b[39m \u001b[38;5;129;01mnot\u001b[39;00m \u001b[38;5;129;01min\u001b[39;00m ioargs\u001b[38;5;241m.\u001b[39mmode:\n\u001b[0;32m    858\u001b[0m         \u001b[38;5;66;03m# Encoding\u001b[39;00m\n\u001b[1;32m--> 859\u001b[0m         handle \u001b[38;5;241m=\u001b[39m \u001b[38;5;28;43mopen\u001b[39;49m\u001b[43m(\u001b[49m\n\u001b[0;32m    860\u001b[0m \u001b[43m            \u001b[49m\u001b[43mhandle\u001b[49m\u001b[43m,\u001b[49m\n\u001b[0;32m    861\u001b[0m \u001b[43m            \u001b[49m\u001b[43mioargs\u001b[49m\u001b[38;5;241;43m.\u001b[39;49m\u001b[43mmode\u001b[49m\u001b[43m,\u001b[49m\n\u001b[0;32m    862\u001b[0m \u001b[43m            \u001b[49m\u001b[43mencoding\u001b[49m\u001b[38;5;241;43m=\u001b[39;49m\u001b[43mioargs\u001b[49m\u001b[38;5;241;43m.\u001b[39;49m\u001b[43mencoding\u001b[49m\u001b[43m,\u001b[49m\n\u001b[0;32m    863\u001b[0m \u001b[43m            \u001b[49m\u001b[43merrors\u001b[49m\u001b[38;5;241;43m=\u001b[39;49m\u001b[43merrors\u001b[49m\u001b[43m,\u001b[49m\n\u001b[0;32m    864\u001b[0m \u001b[43m            \u001b[49m\u001b[43mnewline\u001b[49m\u001b[38;5;241;43m=\u001b[39;49m\u001b[38;5;124;43m\"\u001b[39;49m\u001b[38;5;124;43m\"\u001b[39;49m\u001b[43m,\u001b[49m\n\u001b[0;32m    865\u001b[0m \u001b[43m        \u001b[49m\u001b[43m)\u001b[49m\n\u001b[0;32m    866\u001b[0m     \u001b[38;5;28;01melse\u001b[39;00m:\n\u001b[0;32m    867\u001b[0m         \u001b[38;5;66;03m# Binary mode\u001b[39;00m\n\u001b[0;32m    868\u001b[0m         handle \u001b[38;5;241m=\u001b[39m \u001b[38;5;28mopen\u001b[39m(handle, ioargs\u001b[38;5;241m.\u001b[39mmode)\n",
      "\u001b[1;31mFileNotFoundError\u001b[0m: [Errno 2] No such file or directory: 'Datasets/Book1.csv'"
     ]
    }
   ],
   "source": [
    "df_mb=pd.read_csv(\"Datasets/Book1.csv\")\n",
    "df_mb.head()"
   ]
  },
  {
   "cell_type": "code",
   "execution_count": 22,
   "id": "ffc2cdab",
   "metadata": {},
   "outputs": [],
   "source": [
    "import os"
   ]
  },
  {
   "cell_type": "code",
   "execution_count": 23,
   "id": "aac18eb3",
   "metadata": {},
   "outputs": [
    {
     "data": {
      "text/plain": [
       "'D:\\\\MACHINE LEARNING\\\\DS-ML-LEARNING'"
      ]
     },
     "execution_count": 23,
     "metadata": {},
     "output_type": "execute_result"
    }
   ],
   "source": [
    "os.getcwd()"
   ]
  },
  {
   "cell_type": "code",
   "execution_count": 24,
   "id": "76f5e1f1",
   "metadata": {},
   "outputs": [],
   "source": [
    "os.chdir(\"D:\\\\MACHINE LEARNING\\\\DS-ML-LEARNING\\\\Datasets\")"
   ]
  },
  {
   "cell_type": "code",
   "execution_count": 27,
   "id": "31e6aa1f",
   "metadata": {},
   "outputs": [
    {
     "ename": "NameError",
     "evalue": "name 'df_mb' is not defined",
     "output_type": "error",
     "traceback": [
      "\u001b[1;31m---------------------------------------------------------------------------\u001b[0m",
      "\u001b[1;31mNameError\u001b[0m                                 Traceback (most recent call last)",
      "Cell \u001b[1;32mIn[27], line 1\u001b[0m\n\u001b[1;32m----> 1\u001b[0m \u001b[43mdf_mb\u001b[49m\n",
      "\u001b[1;31mNameError\u001b[0m: name 'df_mb' is not defined"
     ]
    }
   ],
   "source": [
    "df_mb"
   ]
  },
  {
   "cell_type": "code",
   "execution_count": 29,
   "id": "7c13f5d4",
   "metadata": {},
   "outputs": [
    {
     "ename": "FileNotFoundError",
     "evalue": "[Errno 2] No such file or directory: 'Datasets/Book1.csv'",
     "output_type": "error",
     "traceback": [
      "\u001b[1;31m---------------------------------------------------------------------------\u001b[0m",
      "\u001b[1;31mFileNotFoundError\u001b[0m                         Traceback (most recent call last)",
      "Cell \u001b[1;32mIn[29], line 1\u001b[0m\n\u001b[1;32m----> 1\u001b[0m df_mb\u001b[38;5;241m=\u001b[39m\u001b[43mpd\u001b[49m\u001b[38;5;241;43m.\u001b[39;49m\u001b[43mread_csv\u001b[49m\u001b[43m(\u001b[49m\u001b[38;5;124;43m\"\u001b[39;49m\u001b[38;5;124;43mDatasets/Book1.csv\u001b[39;49m\u001b[38;5;124;43m\"\u001b[39;49m\u001b[43m)\u001b[49m\n\u001b[0;32m      2\u001b[0m df_mb\u001b[38;5;241m.\u001b[39mhead()\n",
      "File \u001b[1;32m~\\AppData\\Local\\Programs\\Python\\Python310\\lib\\site-packages\\pandas\\io\\parsers\\readers.py:912\u001b[0m, in \u001b[0;36mread_csv\u001b[1;34m(filepath_or_buffer, sep, delimiter, header, names, index_col, usecols, dtype, engine, converters, true_values, false_values, skipinitialspace, skiprows, skipfooter, nrows, na_values, keep_default_na, na_filter, verbose, skip_blank_lines, parse_dates, infer_datetime_format, keep_date_col, date_parser, date_format, dayfirst, cache_dates, iterator, chunksize, compression, thousands, decimal, lineterminator, quotechar, quoting, doublequote, escapechar, comment, encoding, encoding_errors, dialect, on_bad_lines, delim_whitespace, low_memory, memory_map, float_precision, storage_options, dtype_backend)\u001b[0m\n\u001b[0;32m    899\u001b[0m kwds_defaults \u001b[38;5;241m=\u001b[39m _refine_defaults_read(\n\u001b[0;32m    900\u001b[0m     dialect,\n\u001b[0;32m    901\u001b[0m     delimiter,\n\u001b[1;32m   (...)\u001b[0m\n\u001b[0;32m    908\u001b[0m     dtype_backend\u001b[38;5;241m=\u001b[39mdtype_backend,\n\u001b[0;32m    909\u001b[0m )\n\u001b[0;32m    910\u001b[0m kwds\u001b[38;5;241m.\u001b[39mupdate(kwds_defaults)\n\u001b[1;32m--> 912\u001b[0m \u001b[38;5;28;01mreturn\u001b[39;00m \u001b[43m_read\u001b[49m\u001b[43m(\u001b[49m\u001b[43mfilepath_or_buffer\u001b[49m\u001b[43m,\u001b[49m\u001b[43m \u001b[49m\u001b[43mkwds\u001b[49m\u001b[43m)\u001b[49m\n",
      "File \u001b[1;32m~\\AppData\\Local\\Programs\\Python\\Python310\\lib\\site-packages\\pandas\\io\\parsers\\readers.py:577\u001b[0m, in \u001b[0;36m_read\u001b[1;34m(filepath_or_buffer, kwds)\u001b[0m\n\u001b[0;32m    574\u001b[0m _validate_names(kwds\u001b[38;5;241m.\u001b[39mget(\u001b[38;5;124m\"\u001b[39m\u001b[38;5;124mnames\u001b[39m\u001b[38;5;124m\"\u001b[39m, \u001b[38;5;28;01mNone\u001b[39;00m))\n\u001b[0;32m    576\u001b[0m \u001b[38;5;66;03m# Create the parser.\u001b[39;00m\n\u001b[1;32m--> 577\u001b[0m parser \u001b[38;5;241m=\u001b[39m TextFileReader(filepath_or_buffer, \u001b[38;5;241m*\u001b[39m\u001b[38;5;241m*\u001b[39mkwds)\n\u001b[0;32m    579\u001b[0m \u001b[38;5;28;01mif\u001b[39;00m chunksize \u001b[38;5;129;01mor\u001b[39;00m iterator:\n\u001b[0;32m    580\u001b[0m     \u001b[38;5;28;01mreturn\u001b[39;00m parser\n",
      "File \u001b[1;32m~\\AppData\\Local\\Programs\\Python\\Python310\\lib\\site-packages\\pandas\\io\\parsers\\readers.py:1407\u001b[0m, in \u001b[0;36mTextFileReader.__init__\u001b[1;34m(self, f, engine, **kwds)\u001b[0m\n\u001b[0;32m   1404\u001b[0m     \u001b[38;5;28mself\u001b[39m\u001b[38;5;241m.\u001b[39moptions[\u001b[38;5;124m\"\u001b[39m\u001b[38;5;124mhas_index_names\u001b[39m\u001b[38;5;124m\"\u001b[39m] \u001b[38;5;241m=\u001b[39m kwds[\u001b[38;5;124m\"\u001b[39m\u001b[38;5;124mhas_index_names\u001b[39m\u001b[38;5;124m\"\u001b[39m]\n\u001b[0;32m   1406\u001b[0m \u001b[38;5;28mself\u001b[39m\u001b[38;5;241m.\u001b[39mhandles: IOHandles \u001b[38;5;241m|\u001b[39m \u001b[38;5;28;01mNone\u001b[39;00m \u001b[38;5;241m=\u001b[39m \u001b[38;5;28;01mNone\u001b[39;00m\n\u001b[1;32m-> 1407\u001b[0m \u001b[38;5;28mself\u001b[39m\u001b[38;5;241m.\u001b[39m_engine \u001b[38;5;241m=\u001b[39m \u001b[38;5;28;43mself\u001b[39;49m\u001b[38;5;241;43m.\u001b[39;49m\u001b[43m_make_engine\u001b[49m\u001b[43m(\u001b[49m\u001b[43mf\u001b[49m\u001b[43m,\u001b[49m\u001b[43m \u001b[49m\u001b[38;5;28;43mself\u001b[39;49m\u001b[38;5;241;43m.\u001b[39;49m\u001b[43mengine\u001b[49m\u001b[43m)\u001b[49m\n",
      "File \u001b[1;32m~\\AppData\\Local\\Programs\\Python\\Python310\\lib\\site-packages\\pandas\\io\\parsers\\readers.py:1661\u001b[0m, in \u001b[0;36mTextFileReader._make_engine\u001b[1;34m(self, f, engine)\u001b[0m\n\u001b[0;32m   1659\u001b[0m     \u001b[38;5;28;01mif\u001b[39;00m \u001b[38;5;124m\"\u001b[39m\u001b[38;5;124mb\u001b[39m\u001b[38;5;124m\"\u001b[39m \u001b[38;5;129;01mnot\u001b[39;00m \u001b[38;5;129;01min\u001b[39;00m mode:\n\u001b[0;32m   1660\u001b[0m         mode \u001b[38;5;241m+\u001b[39m\u001b[38;5;241m=\u001b[39m \u001b[38;5;124m\"\u001b[39m\u001b[38;5;124mb\u001b[39m\u001b[38;5;124m\"\u001b[39m\n\u001b[1;32m-> 1661\u001b[0m \u001b[38;5;28mself\u001b[39m\u001b[38;5;241m.\u001b[39mhandles \u001b[38;5;241m=\u001b[39m \u001b[43mget_handle\u001b[49m\u001b[43m(\u001b[49m\n\u001b[0;32m   1662\u001b[0m \u001b[43m    \u001b[49m\u001b[43mf\u001b[49m\u001b[43m,\u001b[49m\n\u001b[0;32m   1663\u001b[0m \u001b[43m    \u001b[49m\u001b[43mmode\u001b[49m\u001b[43m,\u001b[49m\n\u001b[0;32m   1664\u001b[0m \u001b[43m    \u001b[49m\u001b[43mencoding\u001b[49m\u001b[38;5;241;43m=\u001b[39;49m\u001b[38;5;28;43mself\u001b[39;49m\u001b[38;5;241;43m.\u001b[39;49m\u001b[43moptions\u001b[49m\u001b[38;5;241;43m.\u001b[39;49m\u001b[43mget\u001b[49m\u001b[43m(\u001b[49m\u001b[38;5;124;43m\"\u001b[39;49m\u001b[38;5;124;43mencoding\u001b[39;49m\u001b[38;5;124;43m\"\u001b[39;49m\u001b[43m,\u001b[49m\u001b[43m \u001b[49m\u001b[38;5;28;43;01mNone\u001b[39;49;00m\u001b[43m)\u001b[49m\u001b[43m,\u001b[49m\n\u001b[0;32m   1665\u001b[0m \u001b[43m    \u001b[49m\u001b[43mcompression\u001b[49m\u001b[38;5;241;43m=\u001b[39;49m\u001b[38;5;28;43mself\u001b[39;49m\u001b[38;5;241;43m.\u001b[39;49m\u001b[43moptions\u001b[49m\u001b[38;5;241;43m.\u001b[39;49m\u001b[43mget\u001b[49m\u001b[43m(\u001b[49m\u001b[38;5;124;43m\"\u001b[39;49m\u001b[38;5;124;43mcompression\u001b[39;49m\u001b[38;5;124;43m\"\u001b[39;49m\u001b[43m,\u001b[49m\u001b[43m \u001b[49m\u001b[38;5;28;43;01mNone\u001b[39;49;00m\u001b[43m)\u001b[49m\u001b[43m,\u001b[49m\n\u001b[0;32m   1666\u001b[0m \u001b[43m    \u001b[49m\u001b[43mmemory_map\u001b[49m\u001b[38;5;241;43m=\u001b[39;49m\u001b[38;5;28;43mself\u001b[39;49m\u001b[38;5;241;43m.\u001b[39;49m\u001b[43moptions\u001b[49m\u001b[38;5;241;43m.\u001b[39;49m\u001b[43mget\u001b[49m\u001b[43m(\u001b[49m\u001b[38;5;124;43m\"\u001b[39;49m\u001b[38;5;124;43mmemory_map\u001b[39;49m\u001b[38;5;124;43m\"\u001b[39;49m\u001b[43m,\u001b[49m\u001b[43m \u001b[49m\u001b[38;5;28;43;01mFalse\u001b[39;49;00m\u001b[43m)\u001b[49m\u001b[43m,\u001b[49m\n\u001b[0;32m   1667\u001b[0m \u001b[43m    \u001b[49m\u001b[43mis_text\u001b[49m\u001b[38;5;241;43m=\u001b[39;49m\u001b[43mis_text\u001b[49m\u001b[43m,\u001b[49m\n\u001b[0;32m   1668\u001b[0m \u001b[43m    \u001b[49m\u001b[43merrors\u001b[49m\u001b[38;5;241;43m=\u001b[39;49m\u001b[38;5;28;43mself\u001b[39;49m\u001b[38;5;241;43m.\u001b[39;49m\u001b[43moptions\u001b[49m\u001b[38;5;241;43m.\u001b[39;49m\u001b[43mget\u001b[49m\u001b[43m(\u001b[49m\u001b[38;5;124;43m\"\u001b[39;49m\u001b[38;5;124;43mencoding_errors\u001b[39;49m\u001b[38;5;124;43m\"\u001b[39;49m\u001b[43m,\u001b[49m\u001b[43m \u001b[49m\u001b[38;5;124;43m\"\u001b[39;49m\u001b[38;5;124;43mstrict\u001b[39;49m\u001b[38;5;124;43m\"\u001b[39;49m\u001b[43m)\u001b[49m\u001b[43m,\u001b[49m\n\u001b[0;32m   1669\u001b[0m \u001b[43m    \u001b[49m\u001b[43mstorage_options\u001b[49m\u001b[38;5;241;43m=\u001b[39;49m\u001b[38;5;28;43mself\u001b[39;49m\u001b[38;5;241;43m.\u001b[39;49m\u001b[43moptions\u001b[49m\u001b[38;5;241;43m.\u001b[39;49m\u001b[43mget\u001b[49m\u001b[43m(\u001b[49m\u001b[38;5;124;43m\"\u001b[39;49m\u001b[38;5;124;43mstorage_options\u001b[39;49m\u001b[38;5;124;43m\"\u001b[39;49m\u001b[43m,\u001b[49m\u001b[43m \u001b[49m\u001b[38;5;28;43;01mNone\u001b[39;49;00m\u001b[43m)\u001b[49m\u001b[43m,\u001b[49m\n\u001b[0;32m   1670\u001b[0m \u001b[43m\u001b[49m\u001b[43m)\u001b[49m\n\u001b[0;32m   1671\u001b[0m \u001b[38;5;28;01massert\u001b[39;00m \u001b[38;5;28mself\u001b[39m\u001b[38;5;241m.\u001b[39mhandles \u001b[38;5;129;01mis\u001b[39;00m \u001b[38;5;129;01mnot\u001b[39;00m \u001b[38;5;28;01mNone\u001b[39;00m\n\u001b[0;32m   1672\u001b[0m f \u001b[38;5;241m=\u001b[39m \u001b[38;5;28mself\u001b[39m\u001b[38;5;241m.\u001b[39mhandles\u001b[38;5;241m.\u001b[39mhandle\n",
      "File \u001b[1;32m~\\AppData\\Local\\Programs\\Python\\Python310\\lib\\site-packages\\pandas\\io\\common.py:859\u001b[0m, in \u001b[0;36mget_handle\u001b[1;34m(path_or_buf, mode, encoding, compression, memory_map, is_text, errors, storage_options)\u001b[0m\n\u001b[0;32m    854\u001b[0m \u001b[38;5;28;01melif\u001b[39;00m \u001b[38;5;28misinstance\u001b[39m(handle, \u001b[38;5;28mstr\u001b[39m):\n\u001b[0;32m    855\u001b[0m     \u001b[38;5;66;03m# Check whether the filename is to be opened in binary mode.\u001b[39;00m\n\u001b[0;32m    856\u001b[0m     \u001b[38;5;66;03m# Binary mode does not support 'encoding' and 'newline'.\u001b[39;00m\n\u001b[0;32m    857\u001b[0m     \u001b[38;5;28;01mif\u001b[39;00m ioargs\u001b[38;5;241m.\u001b[39mencoding \u001b[38;5;129;01mand\u001b[39;00m \u001b[38;5;124m\"\u001b[39m\u001b[38;5;124mb\u001b[39m\u001b[38;5;124m\"\u001b[39m \u001b[38;5;129;01mnot\u001b[39;00m \u001b[38;5;129;01min\u001b[39;00m ioargs\u001b[38;5;241m.\u001b[39mmode:\n\u001b[0;32m    858\u001b[0m         \u001b[38;5;66;03m# Encoding\u001b[39;00m\n\u001b[1;32m--> 859\u001b[0m         handle \u001b[38;5;241m=\u001b[39m \u001b[38;5;28;43mopen\u001b[39;49m\u001b[43m(\u001b[49m\n\u001b[0;32m    860\u001b[0m \u001b[43m            \u001b[49m\u001b[43mhandle\u001b[49m\u001b[43m,\u001b[49m\n\u001b[0;32m    861\u001b[0m \u001b[43m            \u001b[49m\u001b[43mioargs\u001b[49m\u001b[38;5;241;43m.\u001b[39;49m\u001b[43mmode\u001b[49m\u001b[43m,\u001b[49m\n\u001b[0;32m    862\u001b[0m \u001b[43m            \u001b[49m\u001b[43mencoding\u001b[49m\u001b[38;5;241;43m=\u001b[39;49m\u001b[43mioargs\u001b[49m\u001b[38;5;241;43m.\u001b[39;49m\u001b[43mencoding\u001b[49m\u001b[43m,\u001b[49m\n\u001b[0;32m    863\u001b[0m \u001b[43m            \u001b[49m\u001b[43merrors\u001b[49m\u001b[38;5;241;43m=\u001b[39;49m\u001b[43merrors\u001b[49m\u001b[43m,\u001b[49m\n\u001b[0;32m    864\u001b[0m \u001b[43m            \u001b[49m\u001b[43mnewline\u001b[49m\u001b[38;5;241;43m=\u001b[39;49m\u001b[38;5;124;43m\"\u001b[39;49m\u001b[38;5;124;43m\"\u001b[39;49m\u001b[43m,\u001b[49m\n\u001b[0;32m    865\u001b[0m \u001b[43m        \u001b[49m\u001b[43m)\u001b[49m\n\u001b[0;32m    866\u001b[0m     \u001b[38;5;28;01melse\u001b[39;00m:\n\u001b[0;32m    867\u001b[0m         \u001b[38;5;66;03m# Binary mode\u001b[39;00m\n\u001b[0;32m    868\u001b[0m         handle \u001b[38;5;241m=\u001b[39m \u001b[38;5;28mopen\u001b[39m(handle, ioargs\u001b[38;5;241m.\u001b[39mmode)\n",
      "\u001b[1;31mFileNotFoundError\u001b[0m: [Errno 2] No such file or directory: 'Datasets/Book1.csv'"
     ]
    }
   ],
   "source": [
    "df_mb=pd.read_csv(\"Datasets/Book1.csv\")\n",
    "df_mb.head()"
   ]
  },
  {
   "cell_type": "code",
   "execution_count": 30,
   "id": "d52355c4",
   "metadata": {},
   "outputs": [
    {
     "ename": "ImportError",
     "evalue": "Missing optional dependency 'openpyxl'.  Use pip or conda to install openpyxl.",
     "output_type": "error",
     "traceback": [
      "\u001b[1;31m---------------------------------------------------------------------------\u001b[0m",
      "\u001b[1;31mModuleNotFoundError\u001b[0m                       Traceback (most recent call last)",
      "File \u001b[1;32m~\\AppData\\Local\\Programs\\Python\\Python310\\lib\\site-packages\\pandas\\compat\\_optional.py:142\u001b[0m, in \u001b[0;36mimport_optional_dependency\u001b[1;34m(name, extra, errors, min_version)\u001b[0m\n\u001b[0;32m    141\u001b[0m \u001b[38;5;28;01mtry\u001b[39;00m:\n\u001b[1;32m--> 142\u001b[0m     module \u001b[38;5;241m=\u001b[39m \u001b[43mimportlib\u001b[49m\u001b[38;5;241;43m.\u001b[39;49m\u001b[43mimport_module\u001b[49m\u001b[43m(\u001b[49m\u001b[43mname\u001b[49m\u001b[43m)\u001b[49m\n\u001b[0;32m    143\u001b[0m \u001b[38;5;28;01mexcept\u001b[39;00m \u001b[38;5;167;01mImportError\u001b[39;00m:\n",
      "File \u001b[1;32m~\\AppData\\Local\\Programs\\Python\\Python310\\lib\\importlib\\__init__.py:126\u001b[0m, in \u001b[0;36mimport_module\u001b[1;34m(name, package)\u001b[0m\n\u001b[0;32m    125\u001b[0m         level \u001b[38;5;241m+\u001b[39m\u001b[38;5;241m=\u001b[39m \u001b[38;5;241m1\u001b[39m\n\u001b[1;32m--> 126\u001b[0m \u001b[38;5;28;01mreturn\u001b[39;00m \u001b[43m_bootstrap\u001b[49m\u001b[38;5;241;43m.\u001b[39;49m\u001b[43m_gcd_import\u001b[49m\u001b[43m(\u001b[49m\u001b[43mname\u001b[49m\u001b[43m[\u001b[49m\u001b[43mlevel\u001b[49m\u001b[43m:\u001b[49m\u001b[43m]\u001b[49m\u001b[43m,\u001b[49m\u001b[43m \u001b[49m\u001b[43mpackage\u001b[49m\u001b[43m,\u001b[49m\u001b[43m \u001b[49m\u001b[43mlevel\u001b[49m\u001b[43m)\u001b[49m\n",
      "File \u001b[1;32m<frozen importlib._bootstrap>:1050\u001b[0m, in \u001b[0;36m_gcd_import\u001b[1;34m(name, package, level)\u001b[0m\n",
      "File \u001b[1;32m<frozen importlib._bootstrap>:1027\u001b[0m, in \u001b[0;36m_find_and_load\u001b[1;34m(name, import_)\u001b[0m\n",
      "File \u001b[1;32m<frozen importlib._bootstrap>:1004\u001b[0m, in \u001b[0;36m_find_and_load_unlocked\u001b[1;34m(name, import_)\u001b[0m\n",
      "\u001b[1;31mModuleNotFoundError\u001b[0m: No module named 'openpyxl'",
      "\nDuring handling of the above exception, another exception occurred:\n",
      "\u001b[1;31mImportError\u001b[0m                               Traceback (most recent call last)",
      "Cell \u001b[1;32mIn[30], line 1\u001b[0m\n\u001b[1;32m----> 1\u001b[0m data\u001b[38;5;241m=\u001b[39m\u001b[43mpd\u001b[49m\u001b[38;5;241;43m.\u001b[39;49m\u001b[43mread_excel\u001b[49m\u001b[43m(\u001b[49m\u001b[38;5;124;43m\"\u001b[39;49m\u001b[38;5;124;43mBook1.xlsx\u001b[39;49m\u001b[38;5;124;43m\"\u001b[39;49m\u001b[43m)\u001b[49m\n\u001b[0;32m      2\u001b[0m data\n",
      "File \u001b[1;32m~\\AppData\\Local\\Programs\\Python\\Python310\\lib\\site-packages\\pandas\\io\\excel\\_base.py:478\u001b[0m, in \u001b[0;36mread_excel\u001b[1;34m(io, sheet_name, header, names, index_col, usecols, dtype, engine, converters, true_values, false_values, skiprows, nrows, na_values, keep_default_na, na_filter, verbose, parse_dates, date_parser, date_format, thousands, decimal, comment, skipfooter, storage_options, dtype_backend)\u001b[0m\n\u001b[0;32m    476\u001b[0m \u001b[38;5;28;01mif\u001b[39;00m \u001b[38;5;129;01mnot\u001b[39;00m \u001b[38;5;28misinstance\u001b[39m(io, ExcelFile):\n\u001b[0;32m    477\u001b[0m     should_close \u001b[38;5;241m=\u001b[39m \u001b[38;5;28;01mTrue\u001b[39;00m\n\u001b[1;32m--> 478\u001b[0m     io \u001b[38;5;241m=\u001b[39m \u001b[43mExcelFile\u001b[49m\u001b[43m(\u001b[49m\u001b[43mio\u001b[49m\u001b[43m,\u001b[49m\u001b[43m \u001b[49m\u001b[43mstorage_options\u001b[49m\u001b[38;5;241;43m=\u001b[39;49m\u001b[43mstorage_options\u001b[49m\u001b[43m,\u001b[49m\u001b[43m \u001b[49m\u001b[43mengine\u001b[49m\u001b[38;5;241;43m=\u001b[39;49m\u001b[43mengine\u001b[49m\u001b[43m)\u001b[49m\n\u001b[0;32m    479\u001b[0m \u001b[38;5;28;01melif\u001b[39;00m engine \u001b[38;5;129;01mand\u001b[39;00m engine \u001b[38;5;241m!=\u001b[39m io\u001b[38;5;241m.\u001b[39mengine:\n\u001b[0;32m    480\u001b[0m     \u001b[38;5;28;01mraise\u001b[39;00m \u001b[38;5;167;01mValueError\u001b[39;00m(\n\u001b[0;32m    481\u001b[0m         \u001b[38;5;124m\"\u001b[39m\u001b[38;5;124mEngine should not be specified when passing \u001b[39m\u001b[38;5;124m\"\u001b[39m\n\u001b[0;32m    482\u001b[0m         \u001b[38;5;124m\"\u001b[39m\u001b[38;5;124man ExcelFile - ExcelFile already has the engine set\u001b[39m\u001b[38;5;124m\"\u001b[39m\n\u001b[0;32m    483\u001b[0m     )\n",
      "File \u001b[1;32m~\\AppData\\Local\\Programs\\Python\\Python310\\lib\\site-packages\\pandas\\io\\excel\\_base.py:1513\u001b[0m, in \u001b[0;36mExcelFile.__init__\u001b[1;34m(self, path_or_buffer, engine, storage_options)\u001b[0m\n\u001b[0;32m   1510\u001b[0m \u001b[38;5;28mself\u001b[39m\u001b[38;5;241m.\u001b[39mengine \u001b[38;5;241m=\u001b[39m engine\n\u001b[0;32m   1511\u001b[0m \u001b[38;5;28mself\u001b[39m\u001b[38;5;241m.\u001b[39mstorage_options \u001b[38;5;241m=\u001b[39m storage_options\n\u001b[1;32m-> 1513\u001b[0m \u001b[38;5;28mself\u001b[39m\u001b[38;5;241m.\u001b[39m_reader \u001b[38;5;241m=\u001b[39m \u001b[38;5;28;43mself\u001b[39;49m\u001b[38;5;241;43m.\u001b[39;49m\u001b[43m_engines\u001b[49m\u001b[43m[\u001b[49m\u001b[43mengine\u001b[49m\u001b[43m]\u001b[49m\u001b[43m(\u001b[49m\u001b[38;5;28;43mself\u001b[39;49m\u001b[38;5;241;43m.\u001b[39;49m\u001b[43m_io\u001b[49m\u001b[43m,\u001b[49m\u001b[43m \u001b[49m\u001b[43mstorage_options\u001b[49m\u001b[38;5;241;43m=\u001b[39;49m\u001b[43mstorage_options\u001b[49m\u001b[43m)\u001b[49m\n",
      "File \u001b[1;32m~\\AppData\\Local\\Programs\\Python\\Python310\\lib\\site-packages\\pandas\\io\\excel\\_openpyxl.py:548\u001b[0m, in \u001b[0;36mOpenpyxlReader.__init__\u001b[1;34m(self, filepath_or_buffer, storage_options)\u001b[0m\n\u001b[0;32m    533\u001b[0m \u001b[38;5;129m@doc\u001b[39m(storage_options\u001b[38;5;241m=\u001b[39m_shared_docs[\u001b[38;5;124m\"\u001b[39m\u001b[38;5;124mstorage_options\u001b[39m\u001b[38;5;124m\"\u001b[39m])\n\u001b[0;32m    534\u001b[0m \u001b[38;5;28;01mdef\u001b[39;00m \u001b[38;5;21m__init__\u001b[39m(\n\u001b[0;32m    535\u001b[0m     \u001b[38;5;28mself\u001b[39m,\n\u001b[0;32m    536\u001b[0m     filepath_or_buffer: FilePath \u001b[38;5;241m|\u001b[39m ReadBuffer[\u001b[38;5;28mbytes\u001b[39m],\n\u001b[0;32m    537\u001b[0m     storage_options: StorageOptions \u001b[38;5;241m=\u001b[39m \u001b[38;5;28;01mNone\u001b[39;00m,\n\u001b[0;32m    538\u001b[0m ) \u001b[38;5;241m-\u001b[39m\u001b[38;5;241m>\u001b[39m \u001b[38;5;28;01mNone\u001b[39;00m:\n\u001b[0;32m    539\u001b[0m \u001b[38;5;250m    \u001b[39m\u001b[38;5;124;03m\"\"\"\u001b[39;00m\n\u001b[0;32m    540\u001b[0m \u001b[38;5;124;03m    Reader using openpyxl engine.\u001b[39;00m\n\u001b[0;32m    541\u001b[0m \n\u001b[1;32m   (...)\u001b[0m\n\u001b[0;32m    546\u001b[0m \u001b[38;5;124;03m    {storage_options}\u001b[39;00m\n\u001b[0;32m    547\u001b[0m \u001b[38;5;124;03m    \"\"\"\u001b[39;00m\n\u001b[1;32m--> 548\u001b[0m     \u001b[43mimport_optional_dependency\u001b[49m\u001b[43m(\u001b[49m\u001b[38;5;124;43m\"\u001b[39;49m\u001b[38;5;124;43mopenpyxl\u001b[39;49m\u001b[38;5;124;43m\"\u001b[39;49m\u001b[43m)\u001b[49m\n\u001b[0;32m    549\u001b[0m     \u001b[38;5;28msuper\u001b[39m()\u001b[38;5;241m.\u001b[39m\u001b[38;5;21m__init__\u001b[39m(filepath_or_buffer, storage_options\u001b[38;5;241m=\u001b[39mstorage_options)\n",
      "File \u001b[1;32m~\\AppData\\Local\\Programs\\Python\\Python310\\lib\\site-packages\\pandas\\compat\\_optional.py:145\u001b[0m, in \u001b[0;36mimport_optional_dependency\u001b[1;34m(name, extra, errors, min_version)\u001b[0m\n\u001b[0;32m    143\u001b[0m \u001b[38;5;28;01mexcept\u001b[39;00m \u001b[38;5;167;01mImportError\u001b[39;00m:\n\u001b[0;32m    144\u001b[0m     \u001b[38;5;28;01mif\u001b[39;00m errors \u001b[38;5;241m==\u001b[39m \u001b[38;5;124m\"\u001b[39m\u001b[38;5;124mraise\u001b[39m\u001b[38;5;124m\"\u001b[39m:\n\u001b[1;32m--> 145\u001b[0m         \u001b[38;5;28;01mraise\u001b[39;00m \u001b[38;5;167;01mImportError\u001b[39;00m(msg)\n\u001b[0;32m    146\u001b[0m     \u001b[38;5;28;01mreturn\u001b[39;00m \u001b[38;5;28;01mNone\u001b[39;00m\n\u001b[0;32m    148\u001b[0m \u001b[38;5;66;03m# Handle submodules: if we have submodule, grab parent module from sys.modules\u001b[39;00m\n",
      "\u001b[1;31mImportError\u001b[0m: Missing optional dependency 'openpyxl'.  Use pip or conda to install openpyxl."
     ]
    }
   ],
   "source": [
    "data=pd.read_excel(\"Book1.xlsx\")\n",
    "data"
   ]
  },
  {
   "cell_type": "code",
   "execution_count": 31,
   "id": "7a4a5786",
   "metadata": {},
   "outputs": [
    {
     "name": "stdout",
     "output_type": "stream",
     "text": [
      "Collecting openpyxlNote: you may need to restart the kernel to use updated packages.\n",
      "\n",
      "  Downloading openpyxl-3.1.2-py2.py3-none-any.whl (249 kB)\n",
      "     ---------------------------------------- 0.0/250.0 kB ? eta -:--:--\n",
      "     - -------------------------------------- 10.2/250.0 kB ? eta -:--:--\n",
      "     - -------------------------------------- 10.2/250.0 kB ? eta -:--:--\n",
      "     - -------------------------------------- 10.2/250.0 kB ? eta -:--:--\n",
      "     ---- -------------------------------- 30.7/250.0 kB 163.8 kB/s eta 0:00:02\n",
      "     ---- -------------------------------- 30.7/250.0 kB 163.8 kB/s eta 0:00:02\n",
      "     ---- -------------------------------- 30.7/250.0 kB 163.8 kB/s eta 0:00:02\n",
      "     --------- --------------------------- 61.4/250.0 kB 192.5 kB/s eta 0:00:01\n",
      "     ---------- -------------------------- 71.7/250.0 kB 206.9 kB/s eta 0:00:01\n",
      "     ---------- -------------------------- 71.7/250.0 kB 206.9 kB/s eta 0:00:01\n",
      "     ---------- -------------------------- 71.7/250.0 kB 206.9 kB/s eta 0:00:01\n",
      "     ---------- -------------------------- 71.7/250.0 kB 206.9 kB/s eta 0:00:01\n",
      "     ---------------- ------------------- 112.6/250.0 kB 218.3 kB/s eta 0:00:01\n",
      "     ---------------- ------------------- 112.6/250.0 kB 218.3 kB/s eta 0:00:01\n",
      "     -------------------- --------------- 143.4/250.0 kB 250.2 kB/s eta 0:00:01\n",
      "     ---------------------- ------------- 153.6/250.0 kB 254.6 kB/s eta 0:00:01\n",
      "     ---------------------------- ------- 194.6/250.0 kB 294.9 kB/s eta 0:00:01\n",
      "     ----------------------------- ------ 204.8/250.0 kB 296.1 kB/s eta 0:00:01\n",
      "     -------------------------------- --- 225.3/250.0 kB 305.9 kB/s eta 0:00:01\n",
      "     ------------------------------------ 250.0/250.0 kB 306.6 kB/s eta 0:00:00\n",
      "Collecting et-xmlfile\n",
      "  Downloading et_xmlfile-1.1.0-py3-none-any.whl (4.7 kB)\n",
      "Installing collected packages: et-xmlfile, openpyxl\n",
      "Successfully installed et-xmlfile-1.1.0 openpyxl-3.1.2\n"
     ]
    }
   ],
   "source": [
    "%pip install openpyxl"
   ]
  },
  {
   "cell_type": "code",
   "execution_count": 48,
   "id": "7d5b0666",
   "metadata": {},
   "outputs": [
    {
     "data": {
      "text/html": [
       "<div>\n",
       "<style scoped>\n",
       "    .dataframe tbody tr th:only-of-type {\n",
       "        vertical-align: middle;\n",
       "    }\n",
       "\n",
       "    .dataframe tbody tr th {\n",
       "        vertical-align: top;\n",
       "    }\n",
       "\n",
       "    .dataframe thead th {\n",
       "        text-align: right;\n",
       "    }\n",
       "</style>\n",
       "<table border=\"1\" class=\"dataframe\">\n",
       "  <thead>\n",
       "    <tr style=\"text-align: right;\">\n",
       "      <th></th>\n",
       "      <th>0</th>\n",
       "      <th>1</th>\n",
       "      <th>2</th>\n",
       "      <th>3</th>\n",
       "      <th>4</th>\n",
       "    </tr>\n",
       "  </thead>\n",
       "  <tbody>\n",
       "    <tr>\n",
       "      <th>0</th>\n",
       "      <td>10</td>\n",
       "      <td>20</td>\n",
       "      <td>212</td>\n",
       "      <td>84</td>\n",
       "      <td>21</td>\n",
       "    </tr>\n",
       "    <tr>\n",
       "      <th>1</th>\n",
       "      <td>14</td>\n",
       "      <td>2</td>\n",
       "      <td>22</td>\n",
       "      <td>87</td>\n",
       "      <td>65</td>\n",
       "    </tr>\n",
       "    <tr>\n",
       "      <th>2</th>\n",
       "      <td>14</td>\n",
       "      <td>16</td>\n",
       "      <td>52</td>\n",
       "      <td>5</td>\n",
       "      <td>65</td>\n",
       "    </tr>\n",
       "    <tr>\n",
       "      <th>3</th>\n",
       "      <td>22</td>\n",
       "      <td>15</td>\n",
       "      <td>32</td>\n",
       "      <td>54</td>\n",
       "      <td>65</td>\n",
       "    </tr>\n",
       "    <tr>\n",
       "      <th>4</th>\n",
       "      <td>33</td>\n",
       "      <td>141</td>\n",
       "      <td>58</td>\n",
       "      <td>54</td>\n",
       "      <td>65</td>\n",
       "    </tr>\n",
       "    <tr>\n",
       "      <th>5</th>\n",
       "      <td>66</td>\n",
       "      <td>13</td>\n",
       "      <td>78</td>\n",
       "      <td>244</td>\n",
       "      <td>64</td>\n",
       "    </tr>\n",
       "    <tr>\n",
       "      <th>6</th>\n",
       "      <td>44</td>\n",
       "      <td>12</td>\n",
       "      <td>87</td>\n",
       "      <td>644</td>\n",
       "      <td>636</td>\n",
       "    </tr>\n",
       "    <tr>\n",
       "      <th>7</th>\n",
       "      <td>55</td>\n",
       "      <td>14</td>\n",
       "      <td>98</td>\n",
       "      <td>244</td>\n",
       "      <td>62</td>\n",
       "    </tr>\n",
       "    <tr>\n",
       "      <th>8</th>\n",
       "      <td>77</td>\n",
       "      <td>25</td>\n",
       "      <td>89</td>\n",
       "      <td>22555</td>\n",
       "      <td>61</td>\n",
       "    </tr>\n",
       "    <tr>\n",
       "      <th>9</th>\n",
       "      <td>88</td>\n",
       "      <td>12</td>\n",
       "      <td>54</td>\n",
       "      <td>665</td>\n",
       "      <td>60</td>\n",
       "    </tr>\n",
       "    <tr>\n",
       "      <th>10</th>\n",
       "      <td>69</td>\n",
       "      <td>4</td>\n",
       "      <td>45</td>\n",
       "      <td>224</td>\n",
       "      <td>59</td>\n",
       "    </tr>\n",
       "    <tr>\n",
       "      <th>11</th>\n",
       "      <td>55</td>\n",
       "      <td>7</td>\n",
       "      <td>56</td>\n",
       "      <td>22</td>\n",
       "      <td>58</td>\n",
       "    </tr>\n",
       "    <tr>\n",
       "      <th>12</th>\n",
       "      <td>777</td>\n",
       "      <td>4</td>\n",
       "      <td>65</td>\n",
       "      <td>11</td>\n",
       "      <td>57</td>\n",
       "    </tr>\n",
       "    <tr>\n",
       "      <th>13</th>\n",
       "      <td>78</td>\n",
       "      <td>5</td>\n",
       "      <td>85</td>\n",
       "      <td>6</td>\n",
       "      <td>56</td>\n",
       "    </tr>\n",
       "    <tr>\n",
       "      <th>14</th>\n",
       "      <td>58</td>\n",
       "      <td>6</td>\n",
       "      <td>54</td>\n",
       "      <td>4</td>\n",
       "      <td>55</td>\n",
       "    </tr>\n",
       "    <tr>\n",
       "      <th>15</th>\n",
       "      <td>25</td>\n",
       "      <td>9</td>\n",
       "      <td>21</td>\n",
       "      <td>2</td>\n",
       "      <td>54</td>\n",
       "    </tr>\n",
       "    <tr>\n",
       "      <th>16</th>\n",
       "      <td>36</td>\n",
       "      <td>8</td>\n",
       "      <td>13</td>\n",
       "      <td>12</td>\n",
       "      <td>52</td>\n",
       "    </tr>\n",
       "    <tr>\n",
       "      <th>17</th>\n",
       "      <td>41</td>\n",
       "      <td>85</td>\n",
       "      <td>15</td>\n",
       "      <td>548</td>\n",
       "      <td>58</td>\n",
       "    </tr>\n",
       "    <tr>\n",
       "      <th>18</th>\n",
       "      <td>32</td>\n",
       "      <td>47</td>\n",
       "      <td>54</td>\n",
       "      <td>54</td>\n",
       "      <td>54</td>\n",
       "    </tr>\n",
       "    <tr>\n",
       "      <th>19</th>\n",
       "      <td>25</td>\n",
       "      <td>45</td>\n",
       "      <td>41</td>\n",
       "      <td>566</td>\n",
       "      <td>12</td>\n",
       "    </tr>\n",
       "    <tr>\n",
       "      <th>20</th>\n",
       "      <td>21</td>\n",
       "      <td>12</td>\n",
       "      <td>42</td>\n",
       "      <td>12</td>\n",
       "      <td>12</td>\n",
       "    </tr>\n",
       "  </tbody>\n",
       "</table>\n",
       "</div>"
      ],
      "text/plain": [
       "      0    1    2      3    4\n",
       "0    10   20  212     84   21\n",
       "1    14    2   22     87   65\n",
       "2    14   16   52      5   65\n",
       "3    22   15   32     54   65\n",
       "4    33  141   58     54   65\n",
       "5    66   13   78    244   64\n",
       "6    44   12   87    644  636\n",
       "7    55   14   98    244   62\n",
       "8    77   25   89  22555   61\n",
       "9    88   12   54    665   60\n",
       "10   69    4   45    224   59\n",
       "11   55    7   56     22   58\n",
       "12  777    4   65     11   57\n",
       "13   78    5   85      6   56\n",
       "14   58    6   54      4   55\n",
       "15   25    9   21      2   54\n",
       "16   36    8   13     12   52\n",
       "17   41   85   15    548   58\n",
       "18   32   47   54     54   54\n",
       "19   25   45   41    566   12\n",
       "20   21   12   42     12   12"
      ]
     },
     "execution_count": 48,
     "metadata": {},
     "output_type": "execute_result"
    }
   ],
   "source": [
    "data=pd.read_excel(\"Book1.xlsx\",header=None)\n",
    "data"
   ]
  },
  {
   "cell_type": "code",
   "execution_count": 33,
   "id": "457b9234",
   "metadata": {},
   "outputs": [
    {
     "data": {
      "text/html": [
       "<div>\n",
       "<style scoped>\n",
       "    .dataframe tbody tr th:only-of-type {\n",
       "        vertical-align: middle;\n",
       "    }\n",
       "\n",
       "    .dataframe tbody tr th {\n",
       "        vertical-align: top;\n",
       "    }\n",
       "\n",
       "    .dataframe thead th {\n",
       "        text-align: right;\n",
       "    }\n",
       "</style>\n",
       "<table border=\"1\" class=\"dataframe\">\n",
       "  <thead>\n",
       "    <tr style=\"text-align: right;\">\n",
       "      <th></th>\n",
       "      <th>10</th>\n",
       "      <th>20</th>\n",
       "      <th>212</th>\n",
       "      <th>84</th>\n",
       "      <th>21</th>\n",
       "    </tr>\n",
       "  </thead>\n",
       "  <tbody>\n",
       "    <tr>\n",
       "      <th>0</th>\n",
       "      <td>14</td>\n",
       "      <td>2</td>\n",
       "      <td>22</td>\n",
       "      <td>87</td>\n",
       "      <td>65</td>\n",
       "    </tr>\n",
       "    <tr>\n",
       "      <th>1</th>\n",
       "      <td>14</td>\n",
       "      <td>16</td>\n",
       "      <td>52</td>\n",
       "      <td>5</td>\n",
       "      <td>65</td>\n",
       "    </tr>\n",
       "    <tr>\n",
       "      <th>2</th>\n",
       "      <td>22</td>\n",
       "      <td>15</td>\n",
       "      <td>32</td>\n",
       "      <td>54</td>\n",
       "      <td>65</td>\n",
       "    </tr>\n",
       "    <tr>\n",
       "      <th>3</th>\n",
       "      <td>33</td>\n",
       "      <td>141</td>\n",
       "      <td>58</td>\n",
       "      <td>54</td>\n",
       "      <td>65</td>\n",
       "    </tr>\n",
       "    <tr>\n",
       "      <th>4</th>\n",
       "      <td>66</td>\n",
       "      <td>13</td>\n",
       "      <td>78</td>\n",
       "      <td>244</td>\n",
       "      <td>64</td>\n",
       "    </tr>\n",
       "  </tbody>\n",
       "</table>\n",
       "</div>"
      ],
      "text/plain": [
       "   10   20   212  84   21 \n",
       "0   14    2   22   87   65\n",
       "1   14   16   52    5   65\n",
       "2   22   15   32   54   65\n",
       "3   33  141   58   54   65\n",
       "4   66   13   78  244   64"
      ]
     },
     "execution_count": 33,
     "metadata": {},
     "output_type": "execute_result"
    }
   ],
   "source": [
    "data.head(5)"
   ]
  },
  {
   "cell_type": "code",
   "execution_count": 34,
   "id": "26d17c9c",
   "metadata": {},
   "outputs": [
    {
     "name": "stdout",
     "output_type": "stream",
     "text": [
      "<class 'pandas.core.frame.DataFrame'>\n",
      "Index: 5 entries, R1 to R5\n",
      "Data columns (total 6 columns):\n",
      " #   Column  Non-Null Count  Dtype\n",
      "---  ------  --------------  -----\n",
      " 0   C1      5 non-null      int32\n",
      " 1   C2      5 non-null      int32\n",
      " 2   C3      5 non-null      int32\n",
      " 3   C4      5 non-null      int32\n",
      " 4   C5      5 non-null      int32\n",
      " 5   C6      5 non-null      int32\n",
      "dtypes: int32(6)\n",
      "memory usage: 332.0+ bytes\n"
     ]
    }
   ],
   "source": [
    "df.info()"
   ]
  },
  {
   "cell_type": "code",
   "execution_count": 35,
   "id": "7fb47db0",
   "metadata": {},
   "outputs": [
    {
     "name": "stdout",
     "output_type": "stream",
     "text": [
      "<class 'pandas.core.frame.DataFrame'>\n",
      "RangeIndex: 20 entries, 0 to 19\n",
      "Data columns (total 5 columns):\n",
      " #   Column  Non-Null Count  Dtype\n",
      "---  ------  --------------  -----\n",
      " 0   10      20 non-null     int64\n",
      " 1   20      20 non-null     int64\n",
      " 2   212     20 non-null     int64\n",
      " 3   84      20 non-null     int64\n",
      " 4   21      20 non-null     int64\n",
      "dtypes: int64(5)\n",
      "memory usage: 928.0 bytes\n"
     ]
    }
   ],
   "source": [
    "data.info()"
   ]
  },
  {
   "cell_type": "code",
   "execution_count": 36,
   "id": "e56efbc9",
   "metadata": {},
   "outputs": [
    {
     "data": {
      "text/html": [
       "<div>\n",
       "<style scoped>\n",
       "    .dataframe tbody tr th:only-of-type {\n",
       "        vertical-align: middle;\n",
       "    }\n",
       "\n",
       "    .dataframe tbody tr th {\n",
       "        vertical-align: top;\n",
       "    }\n",
       "\n",
       "    .dataframe thead th {\n",
       "        text-align: right;\n",
       "    }\n",
       "</style>\n",
       "<table border=\"1\" class=\"dataframe\">\n",
       "  <thead>\n",
       "    <tr style=\"text-align: right;\">\n",
       "      <th></th>\n",
       "      <th>10</th>\n",
       "      <th>20</th>\n",
       "      <th>212</th>\n",
       "      <th>84</th>\n",
       "      <th>21</th>\n",
       "    </tr>\n",
       "  </thead>\n",
       "  <tbody>\n",
       "    <tr>\n",
       "      <th>count</th>\n",
       "      <td>20.000000</td>\n",
       "      <td>20.000000</td>\n",
       "      <td>20.000000</td>\n",
       "      <td>20.000000</td>\n",
       "      <td>20.000000</td>\n",
       "    </tr>\n",
       "    <tr>\n",
       "      <th>mean</th>\n",
       "      <td>81.500000</td>\n",
       "      <td>24.100000</td>\n",
       "      <td>53.050000</td>\n",
       "      <td>1300.650000</td>\n",
       "      <td>83.500000</td>\n",
       "    </tr>\n",
       "    <tr>\n",
       "      <th>std</th>\n",
       "      <td>165.237469</td>\n",
       "      <td>33.964223</td>\n",
       "      <td>25.242977</td>\n",
       "      <td>5008.195266</td>\n",
       "      <td>130.918818</td>\n",
       "    </tr>\n",
       "    <tr>\n",
       "      <th>min</th>\n",
       "      <td>14.000000</td>\n",
       "      <td>2.000000</td>\n",
       "      <td>13.000000</td>\n",
       "      <td>2.000000</td>\n",
       "      <td>12.000000</td>\n",
       "    </tr>\n",
       "    <tr>\n",
       "      <th>25%</th>\n",
       "      <td>25.000000</td>\n",
       "      <td>6.750000</td>\n",
       "      <td>38.750000</td>\n",
       "      <td>11.750000</td>\n",
       "      <td>54.750000</td>\n",
       "    </tr>\n",
       "    <tr>\n",
       "      <th>50%</th>\n",
       "      <td>42.500000</td>\n",
       "      <td>12.000000</td>\n",
       "      <td>54.000000</td>\n",
       "      <td>54.000000</td>\n",
       "      <td>58.500000</td>\n",
       "    </tr>\n",
       "    <tr>\n",
       "      <th>75%</th>\n",
       "      <td>66.750000</td>\n",
       "      <td>18.250000</td>\n",
       "      <td>68.250000</td>\n",
       "      <td>320.000000</td>\n",
       "      <td>64.250000</td>\n",
       "    </tr>\n",
       "    <tr>\n",
       "      <th>max</th>\n",
       "      <td>777.000000</td>\n",
       "      <td>141.000000</td>\n",
       "      <td>98.000000</td>\n",
       "      <td>22555.000000</td>\n",
       "      <td>636.000000</td>\n",
       "    </tr>\n",
       "  </tbody>\n",
       "</table>\n",
       "</div>"
      ],
      "text/plain": [
       "              10          20         212           84          21 \n",
       "count   20.000000   20.000000  20.000000     20.000000   20.000000\n",
       "mean    81.500000   24.100000  53.050000   1300.650000   83.500000\n",
       "std    165.237469   33.964223  25.242977   5008.195266  130.918818\n",
       "min     14.000000    2.000000  13.000000      2.000000   12.000000\n",
       "25%     25.000000    6.750000  38.750000     11.750000   54.750000\n",
       "50%     42.500000   12.000000  54.000000     54.000000   58.500000\n",
       "75%     66.750000   18.250000  68.250000    320.000000   64.250000\n",
       "max    777.000000  141.000000  98.000000  22555.000000  636.000000"
      ]
     },
     "execution_count": 36,
     "metadata": {},
     "output_type": "execute_result"
    }
   ],
   "source": [
    "data.describe()"
   ]
  },
  {
   "cell_type": "code",
   "execution_count": 37,
   "id": "de5ddb1f",
   "metadata": {},
   "outputs": [
    {
     "ename": "KeyError",
     "evalue": "'10'",
     "output_type": "error",
     "traceback": [
      "\u001b[1;31m---------------------------------------------------------------------------\u001b[0m",
      "\u001b[1;31mKeyError\u001b[0m                                  Traceback (most recent call last)",
      "File \u001b[1;32m~\\AppData\\Local\\Programs\\Python\\Python310\\lib\\site-packages\\pandas\\core\\indexes\\base.py:3652\u001b[0m, in \u001b[0;36mIndex.get_loc\u001b[1;34m(self, key)\u001b[0m\n\u001b[0;32m   3651\u001b[0m \u001b[38;5;28;01mtry\u001b[39;00m:\n\u001b[1;32m-> 3652\u001b[0m     \u001b[38;5;28;01mreturn\u001b[39;00m \u001b[38;5;28;43mself\u001b[39;49m\u001b[38;5;241;43m.\u001b[39;49m\u001b[43m_engine\u001b[49m\u001b[38;5;241;43m.\u001b[39;49m\u001b[43mget_loc\u001b[49m\u001b[43m(\u001b[49m\u001b[43mcasted_key\u001b[49m\u001b[43m)\u001b[49m\n\u001b[0;32m   3653\u001b[0m \u001b[38;5;28;01mexcept\u001b[39;00m \u001b[38;5;167;01mKeyError\u001b[39;00m \u001b[38;5;28;01mas\u001b[39;00m err:\n",
      "File \u001b[1;32m~\\AppData\\Local\\Programs\\Python\\Python310\\lib\\site-packages\\pandas\\_libs\\index.pyx:147\u001b[0m, in \u001b[0;36mpandas._libs.index.IndexEngine.get_loc\u001b[1;34m()\u001b[0m\n",
      "File \u001b[1;32m~\\AppData\\Local\\Programs\\Python\\Python310\\lib\\site-packages\\pandas\\_libs\\index.pyx:155\u001b[0m, in \u001b[0;36mpandas._libs.index.IndexEngine.get_loc\u001b[1;34m()\u001b[0m\n",
      "File \u001b[1;32mpandas\\_libs\\index_class_helper.pxi:70\u001b[0m, in \u001b[0;36mpandas._libs.index.Int64Engine._check_type\u001b[1;34m()\u001b[0m\n",
      "\u001b[1;31mKeyError\u001b[0m: '10'",
      "\nThe above exception was the direct cause of the following exception:\n",
      "\u001b[1;31mKeyError\u001b[0m                                  Traceback (most recent call last)",
      "Cell \u001b[1;32mIn[37], line 1\u001b[0m\n\u001b[1;32m----> 1\u001b[0m \u001b[43mdata\u001b[49m\u001b[38;5;241;43m.\u001b[39;49m\u001b[43mloc\u001b[49m\u001b[43m[\u001b[49m\u001b[43m:\u001b[49m\u001b[43m,\u001b[49m\u001b[38;5;124;43m'\u001b[39;49m\u001b[38;5;124;43m10\u001b[39;49m\u001b[38;5;124;43m'\u001b[39;49m\u001b[43m]\u001b[49m\n",
      "File \u001b[1;32m~\\AppData\\Local\\Programs\\Python\\Python310\\lib\\site-packages\\pandas\\core\\indexing.py:1097\u001b[0m, in \u001b[0;36m_LocationIndexer.__getitem__\u001b[1;34m(self, key)\u001b[0m\n\u001b[0;32m   1095\u001b[0m     \u001b[38;5;28;01mif\u001b[39;00m \u001b[38;5;28mself\u001b[39m\u001b[38;5;241m.\u001b[39m_is_scalar_access(key):\n\u001b[0;32m   1096\u001b[0m         \u001b[38;5;28;01mreturn\u001b[39;00m \u001b[38;5;28mself\u001b[39m\u001b[38;5;241m.\u001b[39mobj\u001b[38;5;241m.\u001b[39m_get_value(\u001b[38;5;241m*\u001b[39mkey, takeable\u001b[38;5;241m=\u001b[39m\u001b[38;5;28mself\u001b[39m\u001b[38;5;241m.\u001b[39m_takeable)\n\u001b[1;32m-> 1097\u001b[0m     \u001b[38;5;28;01mreturn\u001b[39;00m \u001b[38;5;28;43mself\u001b[39;49m\u001b[38;5;241;43m.\u001b[39;49m\u001b[43m_getitem_tuple\u001b[49m\u001b[43m(\u001b[49m\u001b[43mkey\u001b[49m\u001b[43m)\u001b[49m\n\u001b[0;32m   1098\u001b[0m \u001b[38;5;28;01melse\u001b[39;00m:\n\u001b[0;32m   1099\u001b[0m     \u001b[38;5;66;03m# we by definition only have the 0th axis\u001b[39;00m\n\u001b[0;32m   1100\u001b[0m     axis \u001b[38;5;241m=\u001b[39m \u001b[38;5;28mself\u001b[39m\u001b[38;5;241m.\u001b[39maxis \u001b[38;5;129;01mor\u001b[39;00m \u001b[38;5;241m0\u001b[39m\n",
      "File \u001b[1;32m~\\AppData\\Local\\Programs\\Python\\Python310\\lib\\site-packages\\pandas\\core\\indexing.py:1280\u001b[0m, in \u001b[0;36m_LocIndexer._getitem_tuple\u001b[1;34m(self, tup)\u001b[0m\n\u001b[0;32m   1278\u001b[0m \u001b[38;5;28;01mwith\u001b[39;00m suppress(IndexingError):\n\u001b[0;32m   1279\u001b[0m     tup \u001b[38;5;241m=\u001b[39m \u001b[38;5;28mself\u001b[39m\u001b[38;5;241m.\u001b[39m_expand_ellipsis(tup)\n\u001b[1;32m-> 1280\u001b[0m     \u001b[38;5;28;01mreturn\u001b[39;00m \u001b[38;5;28;43mself\u001b[39;49m\u001b[38;5;241;43m.\u001b[39;49m\u001b[43m_getitem_lowerdim\u001b[49m\u001b[43m(\u001b[49m\u001b[43mtup\u001b[49m\u001b[43m)\u001b[49m\n\u001b[0;32m   1282\u001b[0m \u001b[38;5;66;03m# no multi-index, so validate all of the indexers\u001b[39;00m\n\u001b[0;32m   1283\u001b[0m tup \u001b[38;5;241m=\u001b[39m \u001b[38;5;28mself\u001b[39m\u001b[38;5;241m.\u001b[39m_validate_tuple_indexer(tup)\n",
      "File \u001b[1;32m~\\AppData\\Local\\Programs\\Python\\Python310\\lib\\site-packages\\pandas\\core\\indexing.py:1000\u001b[0m, in \u001b[0;36m_LocationIndexer._getitem_lowerdim\u001b[1;34m(self, tup)\u001b[0m\n\u001b[0;32m    996\u001b[0m \u001b[38;5;28;01mfor\u001b[39;00m i, key \u001b[38;5;129;01min\u001b[39;00m \u001b[38;5;28menumerate\u001b[39m(tup):\n\u001b[0;32m    997\u001b[0m     \u001b[38;5;28;01mif\u001b[39;00m is_label_like(key):\n\u001b[0;32m    998\u001b[0m         \u001b[38;5;66;03m# We don't need to check for tuples here because those are\u001b[39;00m\n\u001b[0;32m    999\u001b[0m         \u001b[38;5;66;03m#  caught by the _is_nested_tuple_indexer check above.\u001b[39;00m\n\u001b[1;32m-> 1000\u001b[0m         section \u001b[38;5;241m=\u001b[39m \u001b[38;5;28;43mself\u001b[39;49m\u001b[38;5;241;43m.\u001b[39;49m\u001b[43m_getitem_axis\u001b[49m\u001b[43m(\u001b[49m\u001b[43mkey\u001b[49m\u001b[43m,\u001b[49m\u001b[43m \u001b[49m\u001b[43maxis\u001b[49m\u001b[38;5;241;43m=\u001b[39;49m\u001b[43mi\u001b[49m\u001b[43m)\u001b[49m\n\u001b[0;32m   1002\u001b[0m         \u001b[38;5;66;03m# We should never have a scalar section here, because\u001b[39;00m\n\u001b[0;32m   1003\u001b[0m         \u001b[38;5;66;03m#  _getitem_lowerdim is only called after a check for\u001b[39;00m\n\u001b[0;32m   1004\u001b[0m         \u001b[38;5;66;03m#  is_scalar_access, which that would be.\u001b[39;00m\n\u001b[0;32m   1005\u001b[0m         \u001b[38;5;28;01mif\u001b[39;00m section\u001b[38;5;241m.\u001b[39mndim \u001b[38;5;241m==\u001b[39m \u001b[38;5;28mself\u001b[39m\u001b[38;5;241m.\u001b[39mndim:\n\u001b[0;32m   1006\u001b[0m             \u001b[38;5;66;03m# we're in the middle of slicing through a MultiIndex\u001b[39;00m\n\u001b[0;32m   1007\u001b[0m             \u001b[38;5;66;03m# revise the key wrt to `section` by inserting an _NS\u001b[39;00m\n",
      "File \u001b[1;32m~\\AppData\\Local\\Programs\\Python\\Python310\\lib\\site-packages\\pandas\\core\\indexing.py:1343\u001b[0m, in \u001b[0;36m_LocIndexer._getitem_axis\u001b[1;34m(self, key, axis)\u001b[0m\n\u001b[0;32m   1341\u001b[0m \u001b[38;5;66;03m# fall thru to straight lookup\u001b[39;00m\n\u001b[0;32m   1342\u001b[0m \u001b[38;5;28mself\u001b[39m\u001b[38;5;241m.\u001b[39m_validate_key(key, axis)\n\u001b[1;32m-> 1343\u001b[0m \u001b[38;5;28;01mreturn\u001b[39;00m \u001b[38;5;28;43mself\u001b[39;49m\u001b[38;5;241;43m.\u001b[39;49m\u001b[43m_get_label\u001b[49m\u001b[43m(\u001b[49m\u001b[43mkey\u001b[49m\u001b[43m,\u001b[49m\u001b[43m \u001b[49m\u001b[43maxis\u001b[49m\u001b[38;5;241;43m=\u001b[39;49m\u001b[43maxis\u001b[49m\u001b[43m)\u001b[49m\n",
      "File \u001b[1;32m~\\AppData\\Local\\Programs\\Python\\Python310\\lib\\site-packages\\pandas\\core\\indexing.py:1293\u001b[0m, in \u001b[0;36m_LocIndexer._get_label\u001b[1;34m(self, label, axis)\u001b[0m\n\u001b[0;32m   1291\u001b[0m \u001b[38;5;28;01mdef\u001b[39;00m \u001b[38;5;21m_get_label\u001b[39m(\u001b[38;5;28mself\u001b[39m, label, axis: AxisInt):\n\u001b[0;32m   1292\u001b[0m     \u001b[38;5;66;03m# GH#5567 this will fail if the label is not present in the axis.\u001b[39;00m\n\u001b[1;32m-> 1293\u001b[0m     \u001b[38;5;28;01mreturn\u001b[39;00m \u001b[38;5;28;43mself\u001b[39;49m\u001b[38;5;241;43m.\u001b[39;49m\u001b[43mobj\u001b[49m\u001b[38;5;241;43m.\u001b[39;49m\u001b[43mxs\u001b[49m\u001b[43m(\u001b[49m\u001b[43mlabel\u001b[49m\u001b[43m,\u001b[49m\u001b[43m \u001b[49m\u001b[43maxis\u001b[49m\u001b[38;5;241;43m=\u001b[39;49m\u001b[43maxis\u001b[49m\u001b[43m)\u001b[49m\n",
      "File \u001b[1;32m~\\AppData\\Local\\Programs\\Python\\Python310\\lib\\site-packages\\pandas\\core\\generic.py:4082\u001b[0m, in \u001b[0;36mNDFrame.xs\u001b[1;34m(self, key, axis, level, drop_level)\u001b[0m\n\u001b[0;32m   4080\u001b[0m \u001b[38;5;28;01mif\u001b[39;00m axis \u001b[38;5;241m==\u001b[39m \u001b[38;5;241m1\u001b[39m:\n\u001b[0;32m   4081\u001b[0m     \u001b[38;5;28;01mif\u001b[39;00m drop_level:\n\u001b[1;32m-> 4082\u001b[0m         \u001b[38;5;28;01mreturn\u001b[39;00m \u001b[38;5;28;43mself\u001b[39;49m\u001b[43m[\u001b[49m\u001b[43mkey\u001b[49m\u001b[43m]\u001b[49m\n\u001b[0;32m   4083\u001b[0m     index \u001b[38;5;241m=\u001b[39m \u001b[38;5;28mself\u001b[39m\u001b[38;5;241m.\u001b[39mcolumns\n\u001b[0;32m   4084\u001b[0m \u001b[38;5;28;01melse\u001b[39;00m:\n",
      "File \u001b[1;32m~\\AppData\\Local\\Programs\\Python\\Python310\\lib\\site-packages\\pandas\\core\\frame.py:3760\u001b[0m, in \u001b[0;36mDataFrame.__getitem__\u001b[1;34m(self, key)\u001b[0m\n\u001b[0;32m   3758\u001b[0m \u001b[38;5;28;01mif\u001b[39;00m \u001b[38;5;28mself\u001b[39m\u001b[38;5;241m.\u001b[39mcolumns\u001b[38;5;241m.\u001b[39mnlevels \u001b[38;5;241m>\u001b[39m \u001b[38;5;241m1\u001b[39m:\n\u001b[0;32m   3759\u001b[0m     \u001b[38;5;28;01mreturn\u001b[39;00m \u001b[38;5;28mself\u001b[39m\u001b[38;5;241m.\u001b[39m_getitem_multilevel(key)\n\u001b[1;32m-> 3760\u001b[0m indexer \u001b[38;5;241m=\u001b[39m \u001b[38;5;28;43mself\u001b[39;49m\u001b[38;5;241;43m.\u001b[39;49m\u001b[43mcolumns\u001b[49m\u001b[38;5;241;43m.\u001b[39;49m\u001b[43mget_loc\u001b[49m\u001b[43m(\u001b[49m\u001b[43mkey\u001b[49m\u001b[43m)\u001b[49m\n\u001b[0;32m   3761\u001b[0m \u001b[38;5;28;01mif\u001b[39;00m is_integer(indexer):\n\u001b[0;32m   3762\u001b[0m     indexer \u001b[38;5;241m=\u001b[39m [indexer]\n",
      "File \u001b[1;32m~\\AppData\\Local\\Programs\\Python\\Python310\\lib\\site-packages\\pandas\\core\\indexes\\base.py:3654\u001b[0m, in \u001b[0;36mIndex.get_loc\u001b[1;34m(self, key)\u001b[0m\n\u001b[0;32m   3652\u001b[0m     \u001b[38;5;28;01mreturn\u001b[39;00m \u001b[38;5;28mself\u001b[39m\u001b[38;5;241m.\u001b[39m_engine\u001b[38;5;241m.\u001b[39mget_loc(casted_key)\n\u001b[0;32m   3653\u001b[0m \u001b[38;5;28;01mexcept\u001b[39;00m \u001b[38;5;167;01mKeyError\u001b[39;00m \u001b[38;5;28;01mas\u001b[39;00m err:\n\u001b[1;32m-> 3654\u001b[0m     \u001b[38;5;28;01mraise\u001b[39;00m \u001b[38;5;167;01mKeyError\u001b[39;00m(key) \u001b[38;5;28;01mfrom\u001b[39;00m \u001b[38;5;21;01merr\u001b[39;00m\n\u001b[0;32m   3655\u001b[0m \u001b[38;5;28;01mexcept\u001b[39;00m \u001b[38;5;167;01mTypeError\u001b[39;00m:\n\u001b[0;32m   3656\u001b[0m     \u001b[38;5;66;03m# If we have a listlike key, _check_indexing_error will raise\u001b[39;00m\n\u001b[0;32m   3657\u001b[0m     \u001b[38;5;66;03m#  InvalidIndexError. Otherwise we fall through and re-raise\u001b[39;00m\n\u001b[0;32m   3658\u001b[0m     \u001b[38;5;66;03m#  the TypeError.\u001b[39;00m\n\u001b[0;32m   3659\u001b[0m     \u001b[38;5;28mself\u001b[39m\u001b[38;5;241m.\u001b[39m_check_indexing_error(key)\n",
      "\u001b[1;31mKeyError\u001b[0m: '10'"
     ]
    }
   ],
   "source": [
    "data.loc[:,'10']"
   ]
  },
  {
   "cell_type": "code",
   "execution_count": 38,
   "id": "821b1469",
   "metadata": {},
   "outputs": [
    {
     "data": {
      "text/plain": [
       "(20, 5)"
      ]
     },
     "execution_count": 38,
     "metadata": {},
     "output_type": "execute_result"
    }
   ],
   "source": [
    "data.shape"
   ]
  },
  {
   "cell_type": "code",
   "execution_count": 39,
   "id": "087169ec",
   "metadata": {},
   "outputs": [
    {
     "data": {
      "text/plain": [
       "pandas.core.frame.DataFrame"
      ]
     },
     "execution_count": 39,
     "metadata": {},
     "output_type": "execute_result"
    }
   ],
   "source": [
    "type(data)"
   ]
  },
  {
   "cell_type": "code",
   "execution_count": 40,
   "id": "634a1f32",
   "metadata": {},
   "outputs": [
    {
     "ename": "KeyError",
     "evalue": "'10'",
     "output_type": "error",
     "traceback": [
      "\u001b[1;31m---------------------------------------------------------------------------\u001b[0m",
      "\u001b[1;31mKeyError\u001b[0m                                  Traceback (most recent call last)",
      "File \u001b[1;32m~\\AppData\\Local\\Programs\\Python\\Python310\\lib\\site-packages\\pandas\\core\\indexes\\base.py:3652\u001b[0m, in \u001b[0;36mIndex.get_loc\u001b[1;34m(self, key)\u001b[0m\n\u001b[0;32m   3651\u001b[0m \u001b[38;5;28;01mtry\u001b[39;00m:\n\u001b[1;32m-> 3652\u001b[0m     \u001b[38;5;28;01mreturn\u001b[39;00m \u001b[38;5;28;43mself\u001b[39;49m\u001b[38;5;241;43m.\u001b[39;49m\u001b[43m_engine\u001b[49m\u001b[38;5;241;43m.\u001b[39;49m\u001b[43mget_loc\u001b[49m\u001b[43m(\u001b[49m\u001b[43mcasted_key\u001b[49m\u001b[43m)\u001b[49m\n\u001b[0;32m   3653\u001b[0m \u001b[38;5;28;01mexcept\u001b[39;00m \u001b[38;5;167;01mKeyError\u001b[39;00m \u001b[38;5;28;01mas\u001b[39;00m err:\n",
      "File \u001b[1;32m~\\AppData\\Local\\Programs\\Python\\Python310\\lib\\site-packages\\pandas\\_libs\\index.pyx:147\u001b[0m, in \u001b[0;36mpandas._libs.index.IndexEngine.get_loc\u001b[1;34m()\u001b[0m\n",
      "File \u001b[1;32m~\\AppData\\Local\\Programs\\Python\\Python310\\lib\\site-packages\\pandas\\_libs\\index.pyx:155\u001b[0m, in \u001b[0;36mpandas._libs.index.IndexEngine.get_loc\u001b[1;34m()\u001b[0m\n",
      "File \u001b[1;32mpandas\\_libs\\index_class_helper.pxi:70\u001b[0m, in \u001b[0;36mpandas._libs.index.Int64Engine._check_type\u001b[1;34m()\u001b[0m\n",
      "\u001b[1;31mKeyError\u001b[0m: '10'",
      "\nThe above exception was the direct cause of the following exception:\n",
      "\u001b[1;31mKeyError\u001b[0m                                  Traceback (most recent call last)",
      "Cell \u001b[1;32mIn[40], line 1\u001b[0m\n\u001b[1;32m----> 1\u001b[0m data[\u001b[43mdata\u001b[49m\u001b[43m[\u001b[49m\u001b[38;5;124;43m'\u001b[39;49m\u001b[38;5;124;43m10\u001b[39;49m\u001b[38;5;124;43m'\u001b[39;49m\u001b[43m]\u001b[49m\u001b[38;5;241m>\u001b[39m\u001b[38;5;241m5\u001b[39m]\n",
      "File \u001b[1;32m~\\AppData\\Local\\Programs\\Python\\Python310\\lib\\site-packages\\pandas\\core\\frame.py:3760\u001b[0m, in \u001b[0;36mDataFrame.__getitem__\u001b[1;34m(self, key)\u001b[0m\n\u001b[0;32m   3758\u001b[0m \u001b[38;5;28;01mif\u001b[39;00m \u001b[38;5;28mself\u001b[39m\u001b[38;5;241m.\u001b[39mcolumns\u001b[38;5;241m.\u001b[39mnlevels \u001b[38;5;241m>\u001b[39m \u001b[38;5;241m1\u001b[39m:\n\u001b[0;32m   3759\u001b[0m     \u001b[38;5;28;01mreturn\u001b[39;00m \u001b[38;5;28mself\u001b[39m\u001b[38;5;241m.\u001b[39m_getitem_multilevel(key)\n\u001b[1;32m-> 3760\u001b[0m indexer \u001b[38;5;241m=\u001b[39m \u001b[38;5;28;43mself\u001b[39;49m\u001b[38;5;241;43m.\u001b[39;49m\u001b[43mcolumns\u001b[49m\u001b[38;5;241;43m.\u001b[39;49m\u001b[43mget_loc\u001b[49m\u001b[43m(\u001b[49m\u001b[43mkey\u001b[49m\u001b[43m)\u001b[49m\n\u001b[0;32m   3761\u001b[0m \u001b[38;5;28;01mif\u001b[39;00m is_integer(indexer):\n\u001b[0;32m   3762\u001b[0m     indexer \u001b[38;5;241m=\u001b[39m [indexer]\n",
      "File \u001b[1;32m~\\AppData\\Local\\Programs\\Python\\Python310\\lib\\site-packages\\pandas\\core\\indexes\\base.py:3654\u001b[0m, in \u001b[0;36mIndex.get_loc\u001b[1;34m(self, key)\u001b[0m\n\u001b[0;32m   3652\u001b[0m     \u001b[38;5;28;01mreturn\u001b[39;00m \u001b[38;5;28mself\u001b[39m\u001b[38;5;241m.\u001b[39m_engine\u001b[38;5;241m.\u001b[39mget_loc(casted_key)\n\u001b[0;32m   3653\u001b[0m \u001b[38;5;28;01mexcept\u001b[39;00m \u001b[38;5;167;01mKeyError\u001b[39;00m \u001b[38;5;28;01mas\u001b[39;00m err:\n\u001b[1;32m-> 3654\u001b[0m     \u001b[38;5;28;01mraise\u001b[39;00m \u001b[38;5;167;01mKeyError\u001b[39;00m(key) \u001b[38;5;28;01mfrom\u001b[39;00m \u001b[38;5;21;01merr\u001b[39;00m\n\u001b[0;32m   3655\u001b[0m \u001b[38;5;28;01mexcept\u001b[39;00m \u001b[38;5;167;01mTypeError\u001b[39;00m:\n\u001b[0;32m   3656\u001b[0m     \u001b[38;5;66;03m# If we have a listlike key, _check_indexing_error will raise\u001b[39;00m\n\u001b[0;32m   3657\u001b[0m     \u001b[38;5;66;03m#  InvalidIndexError. Otherwise we fall through and re-raise\u001b[39;00m\n\u001b[0;32m   3658\u001b[0m     \u001b[38;5;66;03m#  the TypeError.\u001b[39;00m\n\u001b[0;32m   3659\u001b[0m     \u001b[38;5;28mself\u001b[39m\u001b[38;5;241m.\u001b[39m_check_indexing_error(key)\n",
      "\u001b[1;31mKeyError\u001b[0m: '10'"
     ]
    }
   ],
   "source": [
    "data[data['10']>5] #5 er theke boro entry dekhr jnne "
   ]
  },
  {
   "cell_type": "code",
   "execution_count": 42,
   "id": "bbf7e28c",
   "metadata": {},
   "outputs": [
    {
     "data": {
      "text/html": [
       "<div>\n",
       "<style scoped>\n",
       "    .dataframe tbody tr th:only-of-type {\n",
       "        vertical-align: middle;\n",
       "    }\n",
       "\n",
       "    .dataframe tbody tr th {\n",
       "        vertical-align: top;\n",
       "    }\n",
       "\n",
       "    .dataframe thead th {\n",
       "        text-align: right;\n",
       "    }\n",
       "</style>\n",
       "<table border=\"1\" class=\"dataframe\">\n",
       "  <thead>\n",
       "    <tr style=\"text-align: right;\">\n",
       "      <th></th>\n",
       "      <th>10</th>\n",
       "      <th>20</th>\n",
       "      <th>212</th>\n",
       "      <th>84</th>\n",
       "      <th>21</th>\n",
       "    </tr>\n",
       "  </thead>\n",
       "  <tbody>\n",
       "    <tr>\n",
       "      <th>10</th>\n",
       "      <td>1.000000</td>\n",
       "      <td>-0.164352</td>\n",
       "      <td>0.187361</td>\n",
       "      <td>-0.012573</td>\n",
       "      <td>-0.044102</td>\n",
       "    </tr>\n",
       "    <tr>\n",
       "      <th>20</th>\n",
       "      <td>-0.164352</td>\n",
       "      <td>1.000000</td>\n",
       "      <td>-0.104182</td>\n",
       "      <td>0.013593</td>\n",
       "      <td>-0.080796</td>\n",
       "    </tr>\n",
       "    <tr>\n",
       "      <th>212</th>\n",
       "      <td>0.187361</td>\n",
       "      <td>-0.104182</td>\n",
       "      <td>1.000000</td>\n",
       "      <td>0.340181</td>\n",
       "      <td>0.335487</td>\n",
       "    </tr>\n",
       "    <tr>\n",
       "      <th>84</th>\n",
       "      <td>-0.012573</td>\n",
       "      <td>0.013593</td>\n",
       "      <td>0.340181</td>\n",
       "      <td>1.000000</td>\n",
       "      <td>-0.019663</td>\n",
       "    </tr>\n",
       "    <tr>\n",
       "      <th>21</th>\n",
       "      <td>-0.044102</td>\n",
       "      <td>-0.080796</td>\n",
       "      <td>0.335487</td>\n",
       "      <td>-0.019663</td>\n",
       "      <td>1.000000</td>\n",
       "    </tr>\n",
       "  </tbody>\n",
       "</table>\n",
       "</div>"
      ],
      "text/plain": [
       "          10        20        212       84        21 \n",
       "10   1.000000 -0.164352  0.187361 -0.012573 -0.044102\n",
       "20  -0.164352  1.000000 -0.104182  0.013593 -0.080796\n",
       "212  0.187361 -0.104182  1.000000  0.340181  0.335487\n",
       "84  -0.012573  0.013593  0.340181  1.000000 -0.019663\n",
       "21  -0.044102 -0.080796  0.335487 -0.019663  1.000000"
      ]
     },
     "execution_count": 42,
     "metadata": {},
     "output_type": "execute_result"
    }
   ],
   "source": [
    "data.corr() #csv=comma separated values"
   ]
  },
  {
   "cell_type": "code",
   "execution_count": 44,
   "id": "17606bb6",
   "metadata": {},
   "outputs": [
    {
     "data": {
      "text/html": [
       "<div>\n",
       "<style scoped>\n",
       "    .dataframe tbody tr th:only-of-type {\n",
       "        vertical-align: middle;\n",
       "    }\n",
       "\n",
       "    .dataframe tbody tr th {\n",
       "        vertical-align: top;\n",
       "    }\n",
       "\n",
       "    .dataframe thead th {\n",
       "        text-align: right;\n",
       "    }\n",
       "</style>\n",
       "<table border=\"1\" class=\"dataframe\">\n",
       "  <thead>\n",
       "    <tr style=\"text-align: right;\">\n",
       "      <th></th>\n",
       "      <th>item_code</th>\n",
       "      <th>item_name</th>\n",
       "      <th>display_level</th>\n",
       "      <th>selectable</th>\n",
       "      <th>sort_sequence</th>\n",
       "    </tr>\n",
       "  </thead>\n",
       "  <tbody>\n",
       "    <tr>\n",
       "      <th>0</th>\n",
       "      <td>AA0</td>\n",
       "      <td>All items - old base</td>\n",
       "      <td>0</td>\n",
       "      <td>T</td>\n",
       "      <td>2</td>\n",
       "    </tr>\n",
       "    <tr>\n",
       "      <th>1</th>\n",
       "      <td>AA0R</td>\n",
       "      <td>Purchasing power of the consumer dollar - old ...</td>\n",
       "      <td>0</td>\n",
       "      <td>T</td>\n",
       "      <td>400</td>\n",
       "    </tr>\n",
       "    <tr>\n",
       "      <th>2</th>\n",
       "      <td>SA0</td>\n",
       "      <td>All items</td>\n",
       "      <td>0</td>\n",
       "      <td>T</td>\n",
       "      <td>1</td>\n",
       "    </tr>\n",
       "    <tr>\n",
       "      <th>3</th>\n",
       "      <td>SA0E</td>\n",
       "      <td>Energy</td>\n",
       "      <td>1</td>\n",
       "      <td>T</td>\n",
       "      <td>375</td>\n",
       "    </tr>\n",
       "    <tr>\n",
       "      <th>4</th>\n",
       "      <td>SA0L1</td>\n",
       "      <td>All items less food</td>\n",
       "      <td>1</td>\n",
       "      <td>T</td>\n",
       "      <td>359</td>\n",
       "    </tr>\n",
       "    <tr>\n",
       "      <th>...</th>\n",
       "      <td>...</td>\n",
       "      <td>...</td>\n",
       "      <td>...</td>\n",
       "      <td>...</td>\n",
       "      <td>...</td>\n",
       "    </tr>\n",
       "    <tr>\n",
       "      <th>395</th>\n",
       "      <td>SSEA011</td>\n",
       "      <td>College textbooks</td>\n",
       "      <td>3</td>\n",
       "      <td>T</td>\n",
       "      <td>314</td>\n",
       "    </tr>\n",
       "    <tr>\n",
       "      <th>396</th>\n",
       "      <td>SSEE041</td>\n",
       "      <td>Smartphones</td>\n",
       "      <td>4</td>\n",
       "      <td>T</td>\n",
       "      <td>335</td>\n",
       "    </tr>\n",
       "    <tr>\n",
       "      <th>397</th>\n",
       "      <td>SSFV031A</td>\n",
       "      <td>Food at elementary and secondary schools</td>\n",
       "      <td>3</td>\n",
       "      <td>T</td>\n",
       "      <td>122</td>\n",
       "    </tr>\n",
       "    <tr>\n",
       "      <th>398</th>\n",
       "      <td>SSGE013</td>\n",
       "      <td>Infants' equipment</td>\n",
       "      <td>3</td>\n",
       "      <td>T</td>\n",
       "      <td>356</td>\n",
       "    </tr>\n",
       "    <tr>\n",
       "      <th>399</th>\n",
       "      <td>SSHJ031</td>\n",
       "      <td>Infants' furniture</td>\n",
       "      <td>3</td>\n",
       "      <td>T</td>\n",
       "      <td>165</td>\n",
       "    </tr>\n",
       "  </tbody>\n",
       "</table>\n",
       "<p>400 rows × 5 columns</p>\n",
       "</div>"
      ],
      "text/plain": [
       "    item_code                                          item_name   \n",
       "0         AA0                               All items - old base  \\\n",
       "1        AA0R  Purchasing power of the consumer dollar - old ...   \n",
       "2         SA0                                          All items   \n",
       "3        SA0E                                             Energy   \n",
       "4       SA0L1                                All items less food   \n",
       "..        ...                                                ...   \n",
       "395   SSEA011                                  College textbooks   \n",
       "396   SSEE041                                        Smartphones   \n",
       "397  SSFV031A           Food at elementary and secondary schools   \n",
       "398   SSGE013                                 Infants' equipment   \n",
       "399   SSHJ031                                 Infants' furniture   \n",
       "\n",
       "     display_level selectable  sort_sequence  \n",
       "0                0          T              2  \n",
       "1                0          T            400  \n",
       "2                0          T              1  \n",
       "3                1          T            375  \n",
       "4                1          T            359  \n",
       "..             ...        ...            ...  \n",
       "395              3          T            314  \n",
       "396              4          T            335  \n",
       "397              3          T            122  \n",
       "398              3          T            356  \n",
       "399              3          T            165  \n",
       "\n",
       "[400 rows x 5 columns]"
      ]
     },
     "execution_count": 44,
     "metadata": {},
     "output_type": "execute_result"
    }
   ],
   "source": [
    "df=pd.read_csv(\"https://download.bls.gov/pub/time.series/cu/cu.item\",sep='\\t')\n",
    "df"
   ]
  },
  {
   "cell_type": "code",
   "execution_count": 45,
   "id": "e5ade391",
   "metadata": {},
   "outputs": [
    {
     "data": {
      "text/html": [
       "<div>\n",
       "<style scoped>\n",
       "    .dataframe tbody tr th:only-of-type {\n",
       "        vertical-align: middle;\n",
       "    }\n",
       "\n",
       "    .dataframe tbody tr th {\n",
       "        vertical-align: top;\n",
       "    }\n",
       "\n",
       "    .dataframe thead th {\n",
       "        text-align: right;\n",
       "    }\n",
       "</style>\n",
       "<table border=\"1\" class=\"dataframe\">\n",
       "  <thead>\n",
       "    <tr style=\"text-align: right;\">\n",
       "      <th></th>\n",
       "      <th>item_code</th>\n",
       "      <th>item_name</th>\n",
       "      <th>display_level</th>\n",
       "      <th>selectable</th>\n",
       "      <th>sort_sequence</th>\n",
       "    </tr>\n",
       "  </thead>\n",
       "  <tbody>\n",
       "    <tr>\n",
       "      <th>0</th>\n",
       "      <td>AA0</td>\n",
       "      <td>All items - old base</td>\n",
       "      <td>0</td>\n",
       "      <td>T</td>\n",
       "      <td>2</td>\n",
       "    </tr>\n",
       "    <tr>\n",
       "      <th>1</th>\n",
       "      <td>AA0R</td>\n",
       "      <td>Purchasing power of the consumer dollar - old ...</td>\n",
       "      <td>0</td>\n",
       "      <td>T</td>\n",
       "      <td>400</td>\n",
       "    </tr>\n",
       "    <tr>\n",
       "      <th>2</th>\n",
       "      <td>SA0</td>\n",
       "      <td>All items</td>\n",
       "      <td>0</td>\n",
       "      <td>T</td>\n",
       "      <td>1</td>\n",
       "    </tr>\n",
       "    <tr>\n",
       "      <th>3</th>\n",
       "      <td>SA0E</td>\n",
       "      <td>Energy</td>\n",
       "      <td>1</td>\n",
       "      <td>T</td>\n",
       "      <td>375</td>\n",
       "    </tr>\n",
       "    <tr>\n",
       "      <th>4</th>\n",
       "      <td>SA0L1</td>\n",
       "      <td>All items less food</td>\n",
       "      <td>1</td>\n",
       "      <td>T</td>\n",
       "      <td>359</td>\n",
       "    </tr>\n",
       "  </tbody>\n",
       "</table>\n",
       "</div>"
      ],
      "text/plain": [
       "  item_code                                          item_name  display_level   \n",
       "0       AA0                               All items - old base              0  \\\n",
       "1      AA0R  Purchasing power of the consumer dollar - old ...              0   \n",
       "2       SA0                                          All items              0   \n",
       "3      SA0E                                             Energy              1   \n",
       "4     SA0L1                                All items less food              1   \n",
       "\n",
       "  selectable  sort_sequence  \n",
       "0          T              2  \n",
       "1          T            400  \n",
       "2          T              1  \n",
       "3          T            375  \n",
       "4          T            359  "
      ]
     },
     "execution_count": 45,
     "metadata": {},
     "output_type": "execute_result"
    }
   ],
   "source": [
    "df.head()"
   ]
  },
  {
   "cell_type": "code",
   "execution_count": 46,
   "id": "dd815f97",
   "metadata": {},
   "outputs": [
    {
     "data": {
      "text/plain": [
       "(400, 5)"
      ]
     },
     "execution_count": 46,
     "metadata": {},
     "output_type": "execute_result"
    }
   ],
   "source": [
    "df.shape"
   ]
  },
  {
   "cell_type": "markdown",
   "id": "bf8ec524",
   "metadata": {},
   "source": [
    "#JSON, HTML, Pickle\n"
   ]
  },
  {
   "cell_type": "code",
   "execution_count": 47,
   "id": "11c28594",
   "metadata": {},
   "outputs": [
    {
     "ename": "ValueError",
     "evalue": "If using all scalar values, you must pass an index",
     "output_type": "error",
     "traceback": [
      "\u001b[1;31m---------------------------------------------------------------------------\u001b[0m",
      "\u001b[1;31mValueError\u001b[0m                                Traceback (most recent call last)",
      "Cell \u001b[1;32mIn[47], line 3\u001b[0m\n\u001b[0;32m      1\u001b[0m \u001b[38;5;66;03m#json=javascript object notation\u001b[39;00m\n\u001b[0;32m      2\u001b[0m data1\u001b[38;5;241m=\u001b[39m\u001b[38;5;124m'\u001b[39m\u001b[38;5;124m{\u001b[39m\u001b[38;5;124m\"\u001b[39m\u001b[38;5;124mname\u001b[39m\u001b[38;5;124m\"\u001b[39m\u001b[38;5;124m:\u001b[39m\u001b[38;5;124m\"\u001b[39m\u001b[38;5;124mjames\u001b[39m\u001b[38;5;124m\"\u001b[39m\u001b[38;5;124m,\u001b[39m\u001b[38;5;124m\"\u001b[39m\u001b[38;5;124memail\u001b[39m\u001b[38;5;124m\"\u001b[39m\u001b[38;5;124m:\u001b[39m\u001b[38;5;124m\"\u001b[39m\u001b[38;5;124mjames@gmail.com\u001b[39m\u001b[38;5;124m\"\u001b[39m\u001b[38;5;124m}\u001b[39m\u001b[38;5;124m'\u001b[39m\n\u001b[1;32m----> 3\u001b[0m \u001b[43mpd\u001b[49m\u001b[38;5;241;43m.\u001b[39;49m\u001b[43mread_json\u001b[49m\u001b[43m(\u001b[49m\u001b[43mdata1\u001b[49m\u001b[43m)\u001b[49m\n",
      "File \u001b[1;32m~\\AppData\\Local\\Programs\\Python\\Python310\\lib\\site-packages\\pandas\\io\\json\\_json.py:784\u001b[0m, in \u001b[0;36mread_json\u001b[1;34m(path_or_buf, orient, typ, dtype, convert_axes, convert_dates, keep_default_dates, precise_float, date_unit, encoding, encoding_errors, lines, chunksize, compression, nrows, storage_options, dtype_backend, engine)\u001b[0m\n\u001b[0;32m    782\u001b[0m     \u001b[38;5;28;01mreturn\u001b[39;00m json_reader\n\u001b[0;32m    783\u001b[0m \u001b[38;5;28;01melse\u001b[39;00m:\n\u001b[1;32m--> 784\u001b[0m     \u001b[38;5;28;01mreturn\u001b[39;00m \u001b[43mjson_reader\u001b[49m\u001b[38;5;241;43m.\u001b[39;49m\u001b[43mread\u001b[49m\u001b[43m(\u001b[49m\u001b[43m)\u001b[49m\n",
      "File \u001b[1;32m~\\AppData\\Local\\Programs\\Python\\Python310\\lib\\site-packages\\pandas\\io\\json\\_json.py:975\u001b[0m, in \u001b[0;36mJsonReader.read\u001b[1;34m(self)\u001b[0m\n\u001b[0;32m    973\u001b[0m         obj \u001b[38;5;241m=\u001b[39m \u001b[38;5;28mself\u001b[39m\u001b[38;5;241m.\u001b[39m_get_object_parser(\u001b[38;5;28mself\u001b[39m\u001b[38;5;241m.\u001b[39m_combine_lines(data_lines))\n\u001b[0;32m    974\u001b[0m \u001b[38;5;28;01melse\u001b[39;00m:\n\u001b[1;32m--> 975\u001b[0m     obj \u001b[38;5;241m=\u001b[39m \u001b[38;5;28;43mself\u001b[39;49m\u001b[38;5;241;43m.\u001b[39;49m\u001b[43m_get_object_parser\u001b[49m\u001b[43m(\u001b[49m\u001b[38;5;28;43mself\u001b[39;49m\u001b[38;5;241;43m.\u001b[39;49m\u001b[43mdata\u001b[49m\u001b[43m)\u001b[49m\n\u001b[0;32m    976\u001b[0m \u001b[38;5;28;01mif\u001b[39;00m \u001b[38;5;28mself\u001b[39m\u001b[38;5;241m.\u001b[39mdtype_backend \u001b[38;5;129;01mis\u001b[39;00m \u001b[38;5;129;01mnot\u001b[39;00m lib\u001b[38;5;241m.\u001b[39mno_default:\n\u001b[0;32m    977\u001b[0m     \u001b[38;5;28;01mreturn\u001b[39;00m obj\u001b[38;5;241m.\u001b[39mconvert_dtypes(\n\u001b[0;32m    978\u001b[0m         infer_objects\u001b[38;5;241m=\u001b[39m\u001b[38;5;28;01mFalse\u001b[39;00m, dtype_backend\u001b[38;5;241m=\u001b[39m\u001b[38;5;28mself\u001b[39m\u001b[38;5;241m.\u001b[39mdtype_backend\n\u001b[0;32m    979\u001b[0m     )\n",
      "File \u001b[1;32m~\\AppData\\Local\\Programs\\Python\\Python310\\lib\\site-packages\\pandas\\io\\json\\_json.py:1001\u001b[0m, in \u001b[0;36mJsonReader._get_object_parser\u001b[1;34m(self, json)\u001b[0m\n\u001b[0;32m    999\u001b[0m obj \u001b[38;5;241m=\u001b[39m \u001b[38;5;28;01mNone\u001b[39;00m\n\u001b[0;32m   1000\u001b[0m \u001b[38;5;28;01mif\u001b[39;00m typ \u001b[38;5;241m==\u001b[39m \u001b[38;5;124m\"\u001b[39m\u001b[38;5;124mframe\u001b[39m\u001b[38;5;124m\"\u001b[39m:\n\u001b[1;32m-> 1001\u001b[0m     obj \u001b[38;5;241m=\u001b[39m \u001b[43mFrameParser\u001b[49m\u001b[43m(\u001b[49m\u001b[43mjson\u001b[49m\u001b[43m,\u001b[49m\u001b[43m \u001b[49m\u001b[38;5;241;43m*\u001b[39;49m\u001b[38;5;241;43m*\u001b[39;49m\u001b[43mkwargs\u001b[49m\u001b[43m)\u001b[49m\u001b[38;5;241;43m.\u001b[39;49m\u001b[43mparse\u001b[49m\u001b[43m(\u001b[49m\u001b[43m)\u001b[49m\n\u001b[0;32m   1003\u001b[0m \u001b[38;5;28;01mif\u001b[39;00m typ \u001b[38;5;241m==\u001b[39m \u001b[38;5;124m\"\u001b[39m\u001b[38;5;124mseries\u001b[39m\u001b[38;5;124m\"\u001b[39m \u001b[38;5;129;01mor\u001b[39;00m obj \u001b[38;5;129;01mis\u001b[39;00m \u001b[38;5;28;01mNone\u001b[39;00m:\n\u001b[0;32m   1004\u001b[0m     \u001b[38;5;28;01mif\u001b[39;00m \u001b[38;5;129;01mnot\u001b[39;00m \u001b[38;5;28misinstance\u001b[39m(dtype, \u001b[38;5;28mbool\u001b[39m):\n",
      "File \u001b[1;32m~\\AppData\\Local\\Programs\\Python\\Python310\\lib\\site-packages\\pandas\\io\\json\\_json.py:1134\u001b[0m, in \u001b[0;36mParser.parse\u001b[1;34m(self)\u001b[0m\n\u001b[0;32m   1133\u001b[0m \u001b[38;5;28;01mdef\u001b[39;00m \u001b[38;5;21mparse\u001b[39m(\u001b[38;5;28mself\u001b[39m):\n\u001b[1;32m-> 1134\u001b[0m     \u001b[38;5;28;43mself\u001b[39;49m\u001b[38;5;241;43m.\u001b[39;49m\u001b[43m_parse\u001b[49m\u001b[43m(\u001b[49m\u001b[43m)\u001b[49m\n\u001b[0;32m   1136\u001b[0m     \u001b[38;5;28;01mif\u001b[39;00m \u001b[38;5;28mself\u001b[39m\u001b[38;5;241m.\u001b[39mobj \u001b[38;5;129;01mis\u001b[39;00m \u001b[38;5;28;01mNone\u001b[39;00m:\n\u001b[0;32m   1137\u001b[0m         \u001b[38;5;28;01mreturn\u001b[39;00m \u001b[38;5;28;01mNone\u001b[39;00m\n",
      "File \u001b[1;32m~\\AppData\\Local\\Programs\\Python\\Python310\\lib\\site-packages\\pandas\\io\\json\\_json.py:1319\u001b[0m, in \u001b[0;36mFrameParser._parse\u001b[1;34m(self)\u001b[0m\n\u001b[0;32m   1316\u001b[0m orient \u001b[38;5;241m=\u001b[39m \u001b[38;5;28mself\u001b[39m\u001b[38;5;241m.\u001b[39morient\n\u001b[0;32m   1318\u001b[0m \u001b[38;5;28;01mif\u001b[39;00m orient \u001b[38;5;241m==\u001b[39m \u001b[38;5;124m\"\u001b[39m\u001b[38;5;124mcolumns\u001b[39m\u001b[38;5;124m\"\u001b[39m:\n\u001b[1;32m-> 1319\u001b[0m     \u001b[38;5;28mself\u001b[39m\u001b[38;5;241m.\u001b[39mobj \u001b[38;5;241m=\u001b[39m \u001b[43mDataFrame\u001b[49m\u001b[43m(\u001b[49m\n\u001b[0;32m   1320\u001b[0m \u001b[43m        \u001b[49m\u001b[43mloads\u001b[49m\u001b[43m(\u001b[49m\u001b[43mjson\u001b[49m\u001b[43m,\u001b[49m\u001b[43m \u001b[49m\u001b[43mprecise_float\u001b[49m\u001b[38;5;241;43m=\u001b[39;49m\u001b[38;5;28;43mself\u001b[39;49m\u001b[38;5;241;43m.\u001b[39;49m\u001b[43mprecise_float\u001b[49m\u001b[43m)\u001b[49m\u001b[43m,\u001b[49m\u001b[43m \u001b[49m\u001b[43mdtype\u001b[49m\u001b[38;5;241;43m=\u001b[39;49m\u001b[38;5;28;43;01mNone\u001b[39;49;00m\n\u001b[0;32m   1321\u001b[0m \u001b[43m    \u001b[49m\u001b[43m)\u001b[49m\n\u001b[0;32m   1322\u001b[0m \u001b[38;5;28;01melif\u001b[39;00m orient \u001b[38;5;241m==\u001b[39m \u001b[38;5;124m\"\u001b[39m\u001b[38;5;124msplit\u001b[39m\u001b[38;5;124m\"\u001b[39m:\n\u001b[0;32m   1323\u001b[0m     decoded \u001b[38;5;241m=\u001b[39m {\n\u001b[0;32m   1324\u001b[0m         \u001b[38;5;28mstr\u001b[39m(k): v\n\u001b[0;32m   1325\u001b[0m         \u001b[38;5;28;01mfor\u001b[39;00m k, v \u001b[38;5;129;01min\u001b[39;00m loads(json, precise_float\u001b[38;5;241m=\u001b[39m\u001b[38;5;28mself\u001b[39m\u001b[38;5;241m.\u001b[39mprecise_float)\u001b[38;5;241m.\u001b[39mitems()\n\u001b[0;32m   1326\u001b[0m     }\n",
      "File \u001b[1;32m~\\AppData\\Local\\Programs\\Python\\Python310\\lib\\site-packages\\pandas\\core\\frame.py:708\u001b[0m, in \u001b[0;36mDataFrame.__init__\u001b[1;34m(self, data, index, columns, dtype, copy)\u001b[0m\n\u001b[0;32m    702\u001b[0m     mgr \u001b[38;5;241m=\u001b[39m \u001b[38;5;28mself\u001b[39m\u001b[38;5;241m.\u001b[39m_init_mgr(\n\u001b[0;32m    703\u001b[0m         data, axes\u001b[38;5;241m=\u001b[39m{\u001b[38;5;124m\"\u001b[39m\u001b[38;5;124mindex\u001b[39m\u001b[38;5;124m\"\u001b[39m: index, \u001b[38;5;124m\"\u001b[39m\u001b[38;5;124mcolumns\u001b[39m\u001b[38;5;124m\"\u001b[39m: columns}, dtype\u001b[38;5;241m=\u001b[39mdtype, copy\u001b[38;5;241m=\u001b[39mcopy\n\u001b[0;32m    704\u001b[0m     )\n\u001b[0;32m    706\u001b[0m \u001b[38;5;28;01melif\u001b[39;00m \u001b[38;5;28misinstance\u001b[39m(data, \u001b[38;5;28mdict\u001b[39m):\n\u001b[0;32m    707\u001b[0m     \u001b[38;5;66;03m# GH#38939 de facto copy defaults to False only in non-dict cases\u001b[39;00m\n\u001b[1;32m--> 708\u001b[0m     mgr \u001b[38;5;241m=\u001b[39m \u001b[43mdict_to_mgr\u001b[49m\u001b[43m(\u001b[49m\u001b[43mdata\u001b[49m\u001b[43m,\u001b[49m\u001b[43m \u001b[49m\u001b[43mindex\u001b[49m\u001b[43m,\u001b[49m\u001b[43m \u001b[49m\u001b[43mcolumns\u001b[49m\u001b[43m,\u001b[49m\u001b[43m \u001b[49m\u001b[43mdtype\u001b[49m\u001b[38;5;241;43m=\u001b[39;49m\u001b[43mdtype\u001b[49m\u001b[43m,\u001b[49m\u001b[43m \u001b[49m\u001b[43mcopy\u001b[49m\u001b[38;5;241;43m=\u001b[39;49m\u001b[43mcopy\u001b[49m\u001b[43m,\u001b[49m\u001b[43m \u001b[49m\u001b[43mtyp\u001b[49m\u001b[38;5;241;43m=\u001b[39;49m\u001b[43mmanager\u001b[49m\u001b[43m)\u001b[49m\n\u001b[0;32m    709\u001b[0m \u001b[38;5;28;01melif\u001b[39;00m \u001b[38;5;28misinstance\u001b[39m(data, ma\u001b[38;5;241m.\u001b[39mMaskedArray):\n\u001b[0;32m    710\u001b[0m     \u001b[38;5;28;01mfrom\u001b[39;00m \u001b[38;5;21;01mnumpy\u001b[39;00m\u001b[38;5;21;01m.\u001b[39;00m\u001b[38;5;21;01mma\u001b[39;00m \u001b[38;5;28;01mimport\u001b[39;00m mrecords\n",
      "File \u001b[1;32m~\\AppData\\Local\\Programs\\Python\\Python310\\lib\\site-packages\\pandas\\core\\internals\\construction.py:481\u001b[0m, in \u001b[0;36mdict_to_mgr\u001b[1;34m(data, index, columns, dtype, typ, copy)\u001b[0m\n\u001b[0;32m    477\u001b[0m     \u001b[38;5;28;01melse\u001b[39;00m:\n\u001b[0;32m    478\u001b[0m         \u001b[38;5;66;03m# dtype check to exclude e.g. range objects, scalars\u001b[39;00m\n\u001b[0;32m    479\u001b[0m         arrays \u001b[38;5;241m=\u001b[39m [x\u001b[38;5;241m.\u001b[39mcopy() \u001b[38;5;28;01mif\u001b[39;00m \u001b[38;5;28mhasattr\u001b[39m(x, \u001b[38;5;124m\"\u001b[39m\u001b[38;5;124mdtype\u001b[39m\u001b[38;5;124m\"\u001b[39m) \u001b[38;5;28;01melse\u001b[39;00m x \u001b[38;5;28;01mfor\u001b[39;00m x \u001b[38;5;129;01min\u001b[39;00m arrays]\n\u001b[1;32m--> 481\u001b[0m \u001b[38;5;28;01mreturn\u001b[39;00m \u001b[43marrays_to_mgr\u001b[49m\u001b[43m(\u001b[49m\u001b[43marrays\u001b[49m\u001b[43m,\u001b[49m\u001b[43m \u001b[49m\u001b[43mcolumns\u001b[49m\u001b[43m,\u001b[49m\u001b[43m \u001b[49m\u001b[43mindex\u001b[49m\u001b[43m,\u001b[49m\u001b[43m \u001b[49m\u001b[43mdtype\u001b[49m\u001b[38;5;241;43m=\u001b[39;49m\u001b[43mdtype\u001b[49m\u001b[43m,\u001b[49m\u001b[43m \u001b[49m\u001b[43mtyp\u001b[49m\u001b[38;5;241;43m=\u001b[39;49m\u001b[43mtyp\u001b[49m\u001b[43m,\u001b[49m\u001b[43m \u001b[49m\u001b[43mconsolidate\u001b[49m\u001b[38;5;241;43m=\u001b[39;49m\u001b[43mcopy\u001b[49m\u001b[43m)\u001b[49m\n",
      "File \u001b[1;32m~\\AppData\\Local\\Programs\\Python\\Python310\\lib\\site-packages\\pandas\\core\\internals\\construction.py:115\u001b[0m, in \u001b[0;36marrays_to_mgr\u001b[1;34m(arrays, columns, index, dtype, verify_integrity, typ, consolidate)\u001b[0m\n\u001b[0;32m    112\u001b[0m \u001b[38;5;28;01mif\u001b[39;00m verify_integrity:\n\u001b[0;32m    113\u001b[0m     \u001b[38;5;66;03m# figure out the index, if necessary\u001b[39;00m\n\u001b[0;32m    114\u001b[0m     \u001b[38;5;28;01mif\u001b[39;00m index \u001b[38;5;129;01mis\u001b[39;00m \u001b[38;5;28;01mNone\u001b[39;00m:\n\u001b[1;32m--> 115\u001b[0m         index \u001b[38;5;241m=\u001b[39m \u001b[43m_extract_index\u001b[49m\u001b[43m(\u001b[49m\u001b[43marrays\u001b[49m\u001b[43m)\u001b[49m\n\u001b[0;32m    116\u001b[0m     \u001b[38;5;28;01melse\u001b[39;00m:\n\u001b[0;32m    117\u001b[0m         index \u001b[38;5;241m=\u001b[39m ensure_index(index)\n",
      "File \u001b[1;32m~\\AppData\\Local\\Programs\\Python\\Python310\\lib\\site-packages\\pandas\\core\\internals\\construction.py:645\u001b[0m, in \u001b[0;36m_extract_index\u001b[1;34m(data)\u001b[0m\n\u001b[0;32m    642\u001b[0m         \u001b[38;5;28;01mraise\u001b[39;00m \u001b[38;5;167;01mValueError\u001b[39;00m(\u001b[38;5;124m\"\u001b[39m\u001b[38;5;124mPer-column arrays must each be 1-dimensional\u001b[39m\u001b[38;5;124m\"\u001b[39m)\n\u001b[0;32m    644\u001b[0m \u001b[38;5;28;01mif\u001b[39;00m \u001b[38;5;129;01mnot\u001b[39;00m indexes \u001b[38;5;129;01mand\u001b[39;00m \u001b[38;5;129;01mnot\u001b[39;00m raw_lengths:\n\u001b[1;32m--> 645\u001b[0m     \u001b[38;5;28;01mraise\u001b[39;00m \u001b[38;5;167;01mValueError\u001b[39;00m(\u001b[38;5;124m\"\u001b[39m\u001b[38;5;124mIf using all scalar values, you must pass an index\u001b[39m\u001b[38;5;124m\"\u001b[39m)\n\u001b[0;32m    647\u001b[0m \u001b[38;5;28;01mif\u001b[39;00m have_series:\n\u001b[0;32m    648\u001b[0m     index \u001b[38;5;241m=\u001b[39m union_indexes(indexes)\n",
      "\u001b[1;31mValueError\u001b[0m: If using all scalar values, you must pass an index"
     ]
    }
   ],
   "source": [
    "#json=javascript object notation\n",
    "data1='{\"name\":\"james\",\"email\":\"james@gmail.com\"}'\n",
    "pd.read_json(data1)"
   ]
  },
  {
   "cell_type": "code",
   "execution_count": 49,
   "id": "a1aac320",
   "metadata": {},
   "outputs": [],
   "source": [
    "df.to_csv('Book1.csv')"
   ]
  },
  {
   "cell_type": "code",
   "execution_count": 51,
   "id": "c32504ed",
   "metadata": {},
   "outputs": [
    {
     "data": {
      "text/plain": [
       "'{\"0\":{\"item_code\":\"AA0\",\"item_name\":\"All items - old base\",\"display_level\":0,\"selectable\":\"T\",\"sort_sequence\":2},\"1\":{\"item_code\":\"AA0R\",\"item_name\":\"Purchasing power of the consumer dollar - old base\",\"display_level\":0,\"selectable\":\"T\",\"sort_sequence\":400},\"2\":{\"item_code\":\"SA0\",\"item_name\":\"All items\",\"display_level\":0,\"selectable\":\"T\",\"sort_sequence\":1},\"3\":{\"item_code\":\"SA0E\",\"item_name\":\"Energy\",\"display_level\":1,\"selectable\":\"T\",\"sort_sequence\":375},\"4\":{\"item_code\":\"SA0L1\",\"item_name\":\"All items less food\",\"display_level\":1,\"selectable\":\"T\",\"sort_sequence\":359},\"5\":{\"item_code\":\"SA0L12\",\"item_name\":\"All items less food and shelter\",\"display_level\":1,\"selectable\":\"T\",\"sort_sequence\":362},\"6\":{\"item_code\":\"SA0L12E\",\"item_name\":\"All items less food, shelter, and energy\",\"display_level\":1,\"selectable\":\"T\",\"sort_sequence\":363},\"7\":{\"item_code\":\"SA0L12E4\",\"item_name\":\"All items less food, shelter, energy, and used cars and trucks\",\"display_level\":1,\"selectable\":\"T\",\"sort_sequence\":364},\"8\":{\"item_code\":\"SA0L1E\",\"item_name\":\"All items less food and energy\",\"display_level\":1,\"selectable\":\"T\",\"sort_sequence\":360},\"9\":{\"item_code\":\"SA0L2\",\"item_name\":\"All items less shelter\",\"display_level\":1,\"selectable\":\"T\",\"sort_sequence\":361},\"10\":{\"item_code\":\"SA0L5\",\"item_name\":\"All items less medical care\",\"display_level\":1,\"selectable\":\"T\",\"sort_sequence\":357},\"11\":{\"item_code\":\"SA0LE\",\"item_name\":\"All items less energy\",\"display_level\":1,\"selectable\":\"T\",\"sort_sequence\":358},\"12\":{\"item_code\":\"SA0R\",\"item_name\":\"Purchasing power of the consumer dollar\",\"display_level\":0,\"selectable\":\"T\",\"sort_sequence\":399},\"13\":{\"item_code\":\"SA311\",\"item_name\":\"Apparel less footwear\",\"display_level\":1,\"selectable\":\"T\",\"sort_sequence\":365},\"14\":{\"item_code\":\"SAA\",\"item_name\":\"Apparel\",\"display_level\":0,\"selectable\":\"T\",\"sort_sequence\":187},\"15\":{\"item_code\":\"SAA1\",\"item_name\":\"Men\\'s and boys\\' apparel\",\"display_level\":1,\"selectable\":\"T\",\"sort_sequence\":188},\"16\":{\"item_code\":\"SAA2\",\"item_name\":\"Women\\'s and girls\\' apparel\",\"display_level\":1,\"selectable\":\"T\",\"sort_sequence\":195},\"17\":{\"item_code\":\"SAC\",\"item_name\":\"Commodities\",\"display_level\":1,\"selectable\":\"T\",\"sort_sequence\":366},\"18\":{\"item_code\":\"SACE\",\"item_name\":\"Energy commodities\",\"display_level\":1,\"selectable\":\"T\",\"sort_sequence\":376},\"19\":{\"item_code\":\"SACL1\",\"item_name\":\"Commodities less food\",\"display_level\":1,\"selectable\":\"T\",\"sort_sequence\":367},\"20\":{\"item_code\":\"SACL11\",\"item_name\":\"Commodities less food and beverages\",\"display_level\":1,\"selectable\":\"T\",\"sort_sequence\":368},\"21\":{\"item_code\":\"SACL1E\",\"item_name\":\"Commodities less food and energy commodities\",\"display_level\":1,\"selectable\":\"T\",\"sort_sequence\":369},\"22\":{\"item_code\":\"SACL1E4\",\"item_name\":\"Commodities less food, energy, and used cars and trucks\",\"display_level\":1,\"selectable\":\"T\",\"sort_sequence\":370},\"23\":{\"item_code\":\"SAD\",\"item_name\":\"Durables\",\"display_level\":1,\"selectable\":\"T\",\"sort_sequence\":372},\"24\":{\"item_code\":\"SAE\",\"item_name\":\"Education and communication\",\"display_level\":0,\"selectable\":\"T\",\"sort_sequence\":311},\"25\":{\"item_code\":\"SAE1\",\"item_name\":\"Education\",\"display_level\":1,\"selectable\":\"T\",\"sort_sequence\":312},\"26\":{\"item_code\":\"SAE2\",\"item_name\":\"Communication\",\"display_level\":1,\"selectable\":\"T\",\"sort_sequence\":320},\"27\":{\"item_code\":\"SAE21\",\"item_name\":\"Information and information processing\",\"display_level\":2,\"selectable\":\"T\",\"sort_sequence\":324},\"28\":{\"item_code\":\"SAEC\",\"item_name\":\"Education and communication commodities\",\"display_level\":1,\"selectable\":\"T\",\"sort_sequence\":373},\"29\":{\"item_code\":\"SAES\",\"item_name\":\"Education and communication services\",\"display_level\":1,\"selectable\":\"T\",\"sort_sequence\":374},\"30\":{\"item_code\":\"SAF\",\"item_name\":\"Food and beverages\",\"display_level\":0,\"selectable\":\"T\",\"sort_sequence\":3},\"31\":{\"item_code\":\"SAF1\",\"item_name\":\"Food\",\"display_level\":1,\"selectable\":\"T\",\"sort_sequence\":4},\"32\":{\"item_code\":\"SAF11\",\"item_name\":\"Food at home\",\"display_level\":2,\"selectable\":\"T\",\"sort_sequence\":5},\"33\":{\"item_code\":\"SAF111\",\"item_name\":\"Cereals and bakery products\",\"display_level\":3,\"selectable\":\"T\",\"sort_sequence\":6},\"34\":{\"item_code\":\"SAF112\",\"item_name\":\"Meats, poultry, fish, and eggs\",\"display_level\":3,\"selectable\":\"T\",\"sort_sequence\":24},\"35\":{\"item_code\":\"SAF1121\",\"item_name\":\"Meats, poultry, and fish\",\"display_level\":4,\"selectable\":\"T\",\"sort_sequence\":25},\"36\":{\"item_code\":\"SAF11211\",\"item_name\":\"Meats\",\"display_level\":5,\"selectable\":\"T\",\"sort_sequence\":26},\"37\":{\"item_code\":\"SAF113\",\"item_name\":\"Fruits and vegetables\",\"display_level\":3,\"selectable\":\"T\",\"sort_sequence\":63},\"38\":{\"item_code\":\"SAF1131\",\"item_name\":\"Fresh fruits and vegetables\",\"display_level\":4,\"selectable\":\"T\",\"sort_sequence\":64},\"39\":{\"item_code\":\"SAF114\",\"item_name\":\"Nonalcoholic beverages and beverage materials\",\"display_level\":3,\"selectable\":\"T\",\"sort_sequence\":84},\"40\":{\"item_code\":\"SAF115\",\"item_name\":\"Other food at home\",\"display_level\":3,\"selectable\":\"T\",\"sort_sequence\":94},\"41\":{\"item_code\":\"SAF116\",\"item_name\":\"Alcoholic beverages\",\"display_level\":2,\"selectable\":\"T\",\"sort_sequence\":125},\"42\":{\"item_code\":\"SAG\",\"item_name\":\"Other goods and services\",\"display_level\":0,\"selectable\":\"T\",\"sort_sequence\":336},\"43\":{\"item_code\":\"SAG1\",\"item_name\":\"Personal care\",\"display_level\":1,\"selectable\":\"T\",\"sort_sequence\":340},\"44\":{\"item_code\":\"SAGC\",\"item_name\":\"Other goods\",\"display_level\":1,\"selectable\":\"T\",\"sort_sequence\":384},\"45\":{\"item_code\":\"SAGS\",\"item_name\":\"Other personal services\",\"display_level\":1,\"selectable\":\"T\",\"sort_sequence\":385},\"46\":{\"item_code\":\"SAH\",\"item_name\":\"Housing\",\"display_level\":0,\"selectable\":\"T\",\"sort_sequence\":136},\"47\":{\"item_code\":\"SAH1\",\"item_name\":\"Shelter\",\"display_level\":1,\"selectable\":\"T\",\"sort_sequence\":137},\"48\":{\"item_code\":\"SAH2\",\"item_name\":\"Fuels and utilities\",\"display_level\":1,\"selectable\":\"T\",\"sort_sequence\":145},\"49\":{\"item_code\":\"SAH21\",\"item_name\":\"Household energy\",\"display_level\":2,\"selectable\":\"T\",\"sort_sequence\":146},\"50\":{\"item_code\":\"SAH3\",\"item_name\":\"Household furnishings and operations\",\"display_level\":1,\"selectable\":\"T\",\"sort_sequence\":156},\"51\":{\"item_code\":\"SAH31\",\"item_name\":\"Household furnishings and supplies\",\"display_level\":1,\"selectable\":\"T\",\"sort_sequence\":377},\"52\":{\"item_code\":\"SAM\",\"item_name\":\"Medical care\",\"display_level\":0,\"selectable\":\"T\",\"sort_sequence\":250},\"53\":{\"item_code\":\"SAM1\",\"item_name\":\"Medical care commodities\",\"display_level\":1,\"selectable\":\"T\",\"sort_sequence\":251},\"54\":{\"item_code\":\"SAM2\",\"item_name\":\"Medical care services\",\"display_level\":1,\"selectable\":\"T\",\"sort_sequence\":256},\"55\":{\"item_code\":\"SAN\",\"item_name\":\"Nondurables\",\"display_level\":1,\"selectable\":\"T\",\"sort_sequence\":379},\"56\":{\"item_code\":\"SAN1D\",\"item_name\":\"Domestically produced farm food\",\"display_level\":1,\"selectable\":\"T\",\"sort_sequence\":371},\"57\":{\"item_code\":\"SANL1\",\"item_name\":\"Nondurables less food\",\"display_level\":1,\"selectable\":\"T\",\"sort_sequence\":380},\"58\":{\"item_code\":\"SANL11\",\"item_name\":\"Nondurables less food and beverages\",\"display_level\":1,\"selectable\":\"T\",\"sort_sequence\":382},\"59\":{\"item_code\":\"SANL113\",\"item_name\":\"Nondurables less food, beverages, and apparel\",\"display_level\":1,\"selectable\":\"T\",\"sort_sequence\":383},\"60\":{\"item_code\":\"SANL13\",\"item_name\":\"Nondurables less food and apparel\",\"display_level\":1,\"selectable\":\"T\",\"sort_sequence\":381},\"61\":{\"item_code\":\"SAR\",\"item_name\":\"Recreation\",\"display_level\":0,\"selectable\":\"T\",\"sort_sequence\":269},\"62\":{\"item_code\":\"SARC\",\"item_name\":\"Recreation commodities\",\"display_level\":1,\"selectable\":\"T\",\"sort_sequence\":387},\"63\":{\"item_code\":\"SARS\",\"item_name\":\"Recreation services\",\"display_level\":1,\"selectable\":\"T\",\"sort_sequence\":388},\"64\":{\"item_code\":\"SAS\",\"item_name\":\"Services\",\"display_level\":1,\"selectable\":\"T\",\"sort_sequence\":390},\"65\":{\"item_code\":\"SAS24\",\"item_name\":\"Utilities and public transportation\",\"display_level\":1,\"selectable\":\"T\",\"sort_sequence\":396},\"66\":{\"item_code\":\"SAS2RS\",\"item_name\":\"Rent of shelter\",\"display_level\":1,\"selectable\":\"T\",\"sort_sequence\":389},\"67\":{\"item_code\":\"SAS367\",\"item_name\":\"Other services\",\"display_level\":1,\"selectable\":\"T\",\"sort_sequence\":386},\"68\":{\"item_code\":\"SAS4\",\"item_name\":\"Transportation services\",\"display_level\":1,\"selectable\":\"T\",\"sort_sequence\":395},\"69\":{\"item_code\":\"SASL2RS\",\"item_name\":\"Services less rent of shelter\",\"display_level\":1,\"selectable\":\"T\",\"sort_sequence\":393},\"70\":{\"item_code\":\"SASL5\",\"item_name\":\"Services less medical care services\",\"display_level\":1,\"selectable\":\"T\",\"sort_sequence\":392},\"71\":{\"item_code\":\"SASLE\",\"item_name\":\"Services less energy services\",\"display_level\":1,\"selectable\":\"T\",\"sort_sequence\":391},\"72\":{\"item_code\":\"SAT\",\"item_name\":\"Transportation\",\"display_level\":0,\"selectable\":\"T\",\"sort_sequence\":210},\"73\":{\"item_code\":\"SAT1\",\"item_name\":\"Private transportation\",\"display_level\":1,\"selectable\":\"T\",\"sort_sequence\":211},\"74\":{\"item_code\":\"SATCLTB\",\"item_name\":\"Transportation commodities less motor fuel\",\"display_level\":1,\"selectable\":\"T\",\"sort_sequence\":394},\"75\":{\"item_code\":\"SEAA\",\"item_name\":\"Men\\'s apparel\",\"display_level\":2,\"selectable\":\"T\",\"sort_sequence\":189},\"76\":{\"item_code\":\"SEAA01\",\"item_name\":\"Men\\'s suits, sport coats, and outerwear\",\"display_level\":3,\"selectable\":\"T\",\"sort_sequence\":190},\"77\":{\"item_code\":\"SEAA02\",\"item_name\":\"Men\\'s underwear, nightwear, swimwear and accessories\",\"display_level\":3,\"selectable\":\"T\",\"sort_sequence\":191},\"78\":{\"item_code\":\"SEAA03\",\"item_name\":\"Men\\'s shirts and sweaters\",\"display_level\":3,\"selectable\":\"T\",\"sort_sequence\":192},\"79\":{\"item_code\":\"SEAA04\",\"item_name\":\"Men\\'s pants and shorts\",\"display_level\":3,\"selectable\":\"T\",\"sort_sequence\":193},\"80\":{\"item_code\":\"SEAB\",\"item_name\":\"Boys\\' apparel\",\"display_level\":2,\"selectable\":\"T\",\"sort_sequence\":194},\"81\":{\"item_code\":\"SEAC\",\"item_name\":\"Women\\'s apparel\",\"display_level\":2,\"selectable\":\"T\",\"sort_sequence\":196},\"82\":{\"item_code\":\"SEAC01\",\"item_name\":\"Women\\'s outerwear\",\"display_level\":3,\"selectable\":\"T\",\"sort_sequence\":197},\"83\":{\"item_code\":\"SEAC02\",\"item_name\":\"Women\\'s dresses\",\"display_level\":3,\"selectable\":\"T\",\"sort_sequence\":198},\"84\":{\"item_code\":\"SEAC03\",\"item_name\":\"Women\\'s suits and separates\",\"display_level\":3,\"selectable\":\"T\",\"sort_sequence\":199},\"85\":{\"item_code\":\"SEAC04\",\"item_name\":\"Women\\'s underwear, nightwear, swimwear and accessories\",\"display_level\":3,\"selectable\":\"T\",\"sort_sequence\":200},\"86\":{\"item_code\":\"SEAD\",\"item_name\":\"Girls\\' apparel\",\"display_level\":2,\"selectable\":\"T\",\"sort_sequence\":201},\"87\":{\"item_code\":\"SEAE\",\"item_name\":\"Footwear\",\"display_level\":1,\"selectable\":\"T\",\"sort_sequence\":202},\"88\":{\"item_code\":\"SEAE01\",\"item_name\":\"Men\\'s footwear\",\"display_level\":2,\"selectable\":\"T\",\"sort_sequence\":203},\"89\":{\"item_code\":\"SEAE02\",\"item_name\":\"Boys\\' and girls\\' footwear\",\"display_level\":2,\"selectable\":\"T\",\"sort_sequence\":204},\"90\":{\"item_code\":\"SEAE03\",\"item_name\":\"Women\\'s footwear\",\"display_level\":2,\"selectable\":\"T\",\"sort_sequence\":205},\"91\":{\"item_code\":\"SEAF\",\"item_name\":\"Infants\\' and toddlers\\' apparel\",\"display_level\":1,\"selectable\":\"T\",\"sort_sequence\":206},\"92\":{\"item_code\":\"SEAG\",\"item_name\":\"Jewelry and watches\",\"display_level\":1,\"selectable\":\"T\",\"sort_sequence\":207},\"93\":{\"item_code\":\"SEAG01\",\"item_name\":\"Watches\",\"display_level\":2,\"selectable\":\"T\",\"sort_sequence\":208},\"94\":{\"item_code\":\"SEAG02\",\"item_name\":\"Jewelry\",\"display_level\":2,\"selectable\":\"T\",\"sort_sequence\":209},\"95\":{\"item_code\":\"SEEA\",\"item_name\":\"Educational books and supplies\",\"display_level\":2,\"selectable\":\"T\",\"sort_sequence\":313},\"96\":{\"item_code\":\"SEEB\",\"item_name\":\"Tuition, other school fees, and childcare\",\"display_level\":2,\"selectable\":\"T\",\"sort_sequence\":315},\"97\":{\"item_code\":\"SEEB01\",\"item_name\":\"College tuition and fees\",\"display_level\":3,\"selectable\":\"T\",\"sort_sequence\":316},\"98\":{\"item_code\":\"SEEB02\",\"item_name\":\"Elementary and high school tuition and fees\",\"display_level\":3,\"selectable\":\"T\",\"sort_sequence\":317},\"99\":{\"item_code\":\"SEEB03\",\"item_name\":\"Day care and preschool\",\"display_level\":3,\"selectable\":\"T\",\"sort_sequence\":318},\"100\":{\"item_code\":\"SEEB04\",\"item_name\":\"Technical and business school tuition and fees\",\"display_level\":3,\"selectable\":\"T\",\"sort_sequence\":319},\"101\":{\"item_code\":\"SEEC\",\"item_name\":\"Postage and delivery services\",\"display_level\":2,\"selectable\":\"T\",\"sort_sequence\":321},\"102\":{\"item_code\":\"SEEC01\",\"item_name\":\"Postage\",\"display_level\":3,\"selectable\":\"T\",\"sort_sequence\":322},\"103\":{\"item_code\":\"SEEC02\",\"item_name\":\"Delivery services\",\"display_level\":3,\"selectable\":\"T\",\"sort_sequence\":323},\"104\":{\"item_code\":\"SEED\",\"item_name\":\"Telephone services\",\"display_level\":3,\"selectable\":\"T\",\"sort_sequence\":325},\"105\":{\"item_code\":\"SEED03\",\"item_name\":\"Wireless telephone services\",\"display_level\":4,\"selectable\":\"T\",\"sort_sequence\":326},\"106\":{\"item_code\":\"SEED04\",\"item_name\":\"Residential telephone services\",\"display_level\":4,\"selectable\":\"T\",\"sort_sequence\":327},\"107\":{\"item_code\":\"SEEE\",\"item_name\":\"Information technology, hardware and services\",\"display_level\":2,\"selectable\":\"T\",\"sort_sequence\":330},\"108\":{\"item_code\":\"SEEE01\",\"item_name\":\"Computers, peripherals, and smart home assistants\",\"display_level\":3,\"selectable\":\"T\",\"sort_sequence\":331},\"109\":{\"item_code\":\"SEEE02\",\"item_name\":\"Computer software and accessories\",\"display_level\":3,\"selectable\":\"T\",\"sort_sequence\":332},\"110\":{\"item_code\":\"SEEE03\",\"item_name\":\"Internet services and electronic information providers\",\"display_level\":3,\"selectable\":\"T\",\"sort_sequence\":333},\"111\":{\"item_code\":\"SEEE04\",\"item_name\":\"Telephone hardware, calculators, and other consumer information items\",\"display_level\":3,\"selectable\":\"T\",\"sort_sequence\":334},\"112\":{\"item_code\":\"SEEEC\",\"item_name\":\"Information technology commodities\",\"display_level\":1,\"selectable\":\"T\",\"sort_sequence\":378},\"113\":{\"item_code\":\"SEFA\",\"item_name\":\"Cereals and cereal products\",\"display_level\":4,\"selectable\":\"T\",\"sort_sequence\":7},\"114\":{\"item_code\":\"SEFA01\",\"item_name\":\"Flour and prepared flour mixes\",\"display_level\":5,\"selectable\":\"T\",\"sort_sequence\":8},\"115\":{\"item_code\":\"SEFA02\",\"item_name\":\"Breakfast cereal\",\"display_level\":5,\"selectable\":\"T\",\"sort_sequence\":9},\"116\":{\"item_code\":\"SEFA03\",\"item_name\":\"Rice, pasta, cornmeal\",\"display_level\":5,\"selectable\":\"T\",\"sort_sequence\":10},\"117\":{\"item_code\":\"SEFB\",\"item_name\":\"Bakery products\",\"display_level\":4,\"selectable\":\"T\",\"sort_sequence\":12},\"118\":{\"item_code\":\"SEFB01\",\"item_name\":\"Bread\",\"display_level\":5,\"selectable\":\"T\",\"sort_sequence\":13},\"119\":{\"item_code\":\"SEFB02\",\"item_name\":\"Fresh biscuits, rolls, muffins\",\"display_level\":5,\"selectable\":\"T\",\"sort_sequence\":16},\"120\":{\"item_code\":\"SEFB03\",\"item_name\":\"Cakes, cupcakes, and cookies\",\"display_level\":5,\"selectable\":\"T\",\"sort_sequence\":17},\"121\":{\"item_code\":\"SEFB04\",\"item_name\":\"Other bakery products\",\"display_level\":5,\"selectable\":\"T\",\"sort_sequence\":20},\"122\":{\"item_code\":\"SEFC\",\"item_name\":\"Beef and veal\",\"display_level\":6,\"selectable\":\"T\",\"sort_sequence\":27},\"123\":{\"item_code\":\"SEFC01\",\"item_name\":\"Uncooked ground beef\",\"display_level\":7,\"selectable\":\"T\",\"sort_sequence\":28},\"124\":{\"item_code\":\"SEFC02\",\"item_name\":\"Uncooked beef roasts\",\"display_level\":7,\"selectable\":\"T\",\"sort_sequence\":29},\"125\":{\"item_code\":\"SEFC03\",\"item_name\":\"Uncooked beef steaks\",\"display_level\":7,\"selectable\":\"T\",\"sort_sequence\":30},\"126\":{\"item_code\":\"SEFC04\",\"item_name\":\"Uncooked other beef and veal\",\"display_level\":7,\"selectable\":\"T\",\"sort_sequence\":31},\"127\":{\"item_code\":\"SEFD\",\"item_name\":\"Pork\",\"display_level\":6,\"selectable\":\"T\",\"sort_sequence\":32},\"128\":{\"item_code\":\"SEFD01\",\"item_name\":\"Bacon, breakfast sausage, and related products\",\"display_level\":7,\"selectable\":\"T\",\"sort_sequence\":33},\"129\":{\"item_code\":\"SEFD02\",\"item_name\":\"Ham\",\"display_level\":7,\"selectable\":\"T\",\"sort_sequence\":36},\"130\":{\"item_code\":\"SEFD03\",\"item_name\":\"Pork chops\",\"display_level\":7,\"selectable\":\"T\",\"sort_sequence\":38},\"131\":{\"item_code\":\"SEFD04\",\"item_name\":\"Other pork including roasts, steaks, and ribs\",\"display_level\":7,\"selectable\":\"T\",\"sort_sequence\":39},\"132\":{\"item_code\":\"SEFE\",\"item_name\":\"Other meats\",\"display_level\":6,\"selectable\":\"T\",\"sort_sequence\":40},\"133\":{\"item_code\":\"SEFF\",\"item_name\":\"Poultry\",\"display_level\":6,\"selectable\":\"T\",\"sort_sequence\":45},\"134\":{\"item_code\":\"SEFF01\",\"item_name\":\"Chicken\",\"display_level\":7,\"selectable\":\"T\",\"sort_sequence\":46},\"135\":{\"item_code\":\"SEFF02\",\"item_name\":\"Other uncooked poultry including turkey\",\"display_level\":6,\"selectable\":\"T\",\"sort_sequence\":49},\"136\":{\"item_code\":\"SEFG\",\"item_name\":\"Fish and seafood\",\"display_level\":5,\"selectable\":\"T\",\"sort_sequence\":50},\"137\":{\"item_code\":\"SEFG01\",\"item_name\":\"Fresh fish and seafood\",\"display_level\":6,\"selectable\":\"T\",\"sort_sequence\":51},\"138\":{\"item_code\":\"SEFG02\",\"item_name\":\"Processed fish and seafood\",\"display_level\":6,\"selectable\":\"T\",\"sort_sequence\":52},\"139\":{\"item_code\":\"SEFH\",\"item_name\":\"Eggs\",\"display_level\":4,\"selectable\":\"T\",\"sort_sequence\":55},\"140\":{\"item_code\":\"SEFJ\",\"item_name\":\"Dairy and related products\",\"display_level\":3,\"selectable\":\"T\",\"sort_sequence\":56},\"141\":{\"item_code\":\"SEFJ01\",\"item_name\":\"Milk\",\"display_level\":4,\"selectable\":\"T\",\"sort_sequence\":57},\"142\":{\"item_code\":\"SEFJ02\",\"item_name\":\"Cheese and related products\",\"display_level\":4,\"selectable\":\"T\",\"sort_sequence\":60},\"143\":{\"item_code\":\"SEFJ03\",\"item_name\":\"Ice cream and related products\",\"display_level\":4,\"selectable\":\"T\",\"sort_sequence\":61},\"144\":{\"item_code\":\"SEFJ04\",\"item_name\":\"Other dairy and related products\",\"display_level\":4,\"selectable\":\"T\",\"sort_sequence\":62},\"145\":{\"item_code\":\"SEFK\",\"item_name\":\"Fresh fruits\",\"display_level\":5,\"selectable\":\"T\",\"sort_sequence\":65},\"146\":{\"item_code\":\"SEFK01\",\"item_name\":\"Apples\",\"display_level\":6,\"selectable\":\"T\",\"sort_sequence\":66},\"147\":{\"item_code\":\"SEFK02\",\"item_name\":\"Bananas\",\"display_level\":6,\"selectable\":\"T\",\"sort_sequence\":67},\"148\":{\"item_code\":\"SEFK03\",\"item_name\":\"Citrus fruits\",\"display_level\":6,\"selectable\":\"T\",\"sort_sequence\":68},\"149\":{\"item_code\":\"SEFK04\",\"item_name\":\"Other fresh fruits\",\"display_level\":6,\"selectable\":\"T\",\"sort_sequence\":70},\"150\":{\"item_code\":\"SEFL\",\"item_name\":\"Fresh vegetables\",\"display_level\":5,\"selectable\":\"T\",\"sort_sequence\":71},\"151\":{\"item_code\":\"SEFL01\",\"item_name\":\"Potatoes\",\"display_level\":6,\"selectable\":\"T\",\"sort_sequence\":72},\"152\":{\"item_code\":\"SEFL02\",\"item_name\":\"Lettuce\",\"display_level\":6,\"selectable\":\"T\",\"sort_sequence\":73},\"153\":{\"item_code\":\"SEFL03\",\"item_name\":\"Tomatoes\",\"display_level\":6,\"selectable\":\"T\",\"sort_sequence\":74},\"154\":{\"item_code\":\"SEFL04\",\"item_name\":\"Other fresh vegetables\",\"display_level\":6,\"selectable\":\"T\",\"sort_sequence\":75},\"155\":{\"item_code\":\"SEFM\",\"item_name\":\"Processed fruits and vegetables\",\"display_level\":4,\"selectable\":\"T\",\"sort_sequence\":76},\"156\":{\"item_code\":\"SEFM01\",\"item_name\":\"Canned fruits and vegetables\",\"display_level\":5,\"selectable\":\"T\",\"sort_sequence\":77},\"157\":{\"item_code\":\"SEFM02\",\"item_name\":\"Frozen fruits and vegetables\",\"display_level\":5,\"selectable\":\"T\",\"sort_sequence\":80},\"158\":{\"item_code\":\"SEFM03\",\"item_name\":\"Other processed fruits and vegetables including dried\",\"display_level\":5,\"selectable\":\"T\",\"sort_sequence\":82},\"159\":{\"item_code\":\"SEFN\",\"item_name\":\"Juices and nonalcoholic drinks\",\"display_level\":4,\"selectable\":\"T\",\"sort_sequence\":85},\"160\":{\"item_code\":\"SEFN01\",\"item_name\":\"Carbonated drinks\",\"display_level\":5,\"selectable\":\"T\",\"sort_sequence\":86},\"161\":{\"item_code\":\"SEFN02\",\"item_name\":\"Frozen noncarbonated juices and drinks\",\"display_level\":5,\"selectable\":\"T\",\"sort_sequence\":87},\"162\":{\"item_code\":\"SEFN03\",\"item_name\":\"Nonfrozen noncarbonated juices and drinks\",\"display_level\":5,\"selectable\":\"T\",\"sort_sequence\":88},\"163\":{\"item_code\":\"SEFP\",\"item_name\":\"Beverage materials including coffee and tea\",\"display_level\":4,\"selectable\":\"T\",\"sort_sequence\":89},\"164\":{\"item_code\":\"SEFP01\",\"item_name\":\"Coffee\",\"display_level\":5,\"selectable\":\"T\",\"sort_sequence\":90},\"165\":{\"item_code\":\"SEFP02\",\"item_name\":\"Other beverage materials including tea\",\"display_level\":5,\"selectable\":\"T\",\"sort_sequence\":93},\"166\":{\"item_code\":\"SEFR\",\"item_name\":\"Sugar and sweets\",\"display_level\":4,\"selectable\":\"T\",\"sort_sequence\":95},\"167\":{\"item_code\":\"SEFR01\",\"item_name\":\"Sugar and sugar substitutes\",\"display_level\":5,\"selectable\":\"T\",\"sort_sequence\":96},\"168\":{\"item_code\":\"SEFR02\",\"item_name\":\"Candy and chewing gum\",\"display_level\":5,\"selectable\":\"T\",\"sort_sequence\":97},\"169\":{\"item_code\":\"SEFR03\",\"item_name\":\"Other sweets\",\"display_level\":5,\"selectable\":\"T\",\"sort_sequence\":98},\"170\":{\"item_code\":\"SEFS\",\"item_name\":\"Fats and oils\",\"display_level\":4,\"selectable\":\"T\",\"sort_sequence\":99},\"171\":{\"item_code\":\"SEFS01\",\"item_name\":\"Butter and margarine\",\"display_level\":5,\"selectable\":\"T\",\"sort_sequence\":100},\"172\":{\"item_code\":\"SEFS02\",\"item_name\":\"Salad dressing\",\"display_level\":5,\"selectable\":\"T\",\"sort_sequence\":103},\"173\":{\"item_code\":\"SEFS03\",\"item_name\":\"Other fats and oils including peanut butter\",\"display_level\":5,\"selectable\":\"T\",\"sort_sequence\":104},\"174\":{\"item_code\":\"SEFT\",\"item_name\":\"Other foods\",\"display_level\":4,\"selectable\":\"T\",\"sort_sequence\":106},\"175\":{\"item_code\":\"SEFT01\",\"item_name\":\"Soups\",\"display_level\":5,\"selectable\":\"T\",\"sort_sequence\":107},\"176\":{\"item_code\":\"SEFT02\",\"item_name\":\"Frozen and freeze dried prepared foods\",\"display_level\":5,\"selectable\":\"T\",\"sort_sequence\":108},\"177\":{\"item_code\":\"SEFT03\",\"item_name\":\"Snacks\",\"display_level\":5,\"selectable\":\"T\",\"sort_sequence\":109},\"178\":{\"item_code\":\"SEFT04\",\"item_name\":\"Spices, seasonings, condiments, sauces\",\"display_level\":5,\"selectable\":\"T\",\"sort_sequence\":110},\"179\":{\"item_code\":\"SEFT05\",\"item_name\":\"Baby food and formula\",\"display_level\":5,\"selectable\":\"T\",\"sort_sequence\":115},\"180\":{\"item_code\":\"SEFT06\",\"item_name\":\"Other miscellaneous foods\",\"display_level\":5,\"selectable\":\"T\",\"sort_sequence\":116},\"181\":{\"item_code\":\"SEFV\",\"item_name\":\"Food away from home\",\"display_level\":2,\"selectable\":\"T\",\"sort_sequence\":118},\"182\":{\"item_code\":\"SEFV01\",\"item_name\":\"Full service meals and snacks\",\"display_level\":3,\"selectable\":\"T\",\"sort_sequence\":119},\"183\":{\"item_code\":\"SEFV02\",\"item_name\":\"Limited service meals and snacks\",\"display_level\":3,\"selectable\":\"T\",\"sort_sequence\":120},\"184\":{\"item_code\":\"SEFV03\",\"item_name\":\"Food at employee sites and schools\",\"display_level\":3,\"selectable\":\"T\",\"sort_sequence\":121},\"185\":{\"item_code\":\"SEFV04\",\"item_name\":\"Food from vending machines and mobile vendors\",\"display_level\":3,\"selectable\":\"T\",\"sort_sequence\":123},\"186\":{\"item_code\":\"SEFV05\",\"item_name\":\"Other food away from home\",\"display_level\":3,\"selectable\":\"T\",\"sort_sequence\":124},\"187\":{\"item_code\":\"SEFW\",\"item_name\":\"Alcoholic beverages at home\",\"display_level\":3,\"selectable\":\"T\",\"sort_sequence\":126},\"188\":{\"item_code\":\"SEFW01\",\"item_name\":\"Beer, ale, and other malt beverages at home\",\"display_level\":4,\"selectable\":\"T\",\"sort_sequence\":127},\"189\":{\"item_code\":\"SEFW02\",\"item_name\":\"Distilled spirits at home\",\"display_level\":4,\"selectable\":\"T\",\"sort_sequence\":128},\"190\":{\"item_code\":\"SEFW03\",\"item_name\":\"Wine at home\",\"display_level\":4,\"selectable\":\"T\",\"sort_sequence\":131},\"191\":{\"item_code\":\"SEFX\",\"item_name\":\"Alcoholic beverages away from home\",\"display_level\":3,\"selectable\":\"T\",\"sort_sequence\":132},\"192\":{\"item_code\":\"SEGA\",\"item_name\":\"Tobacco and smoking products\",\"display_level\":1,\"selectable\":\"T\",\"sort_sequence\":337},\"193\":{\"item_code\":\"SEGA01\",\"item_name\":\"Cigarettes\",\"display_level\":2,\"selectable\":\"T\",\"sort_sequence\":338},\"194\":{\"item_code\":\"SEGA02\",\"item_name\":\"Tobacco products other than cigarettes\",\"display_level\":2,\"selectable\":\"T\",\"sort_sequence\":339},\"195\":{\"item_code\":\"SEGB\",\"item_name\":\"Personal care products\",\"display_level\":2,\"selectable\":\"T\",\"sort_sequence\":341},\"196\":{\"item_code\":\"SEGB01\",\"item_name\":\"Hair, dental, shaving, and miscellaneous personal care products\",\"display_level\":3,\"selectable\":\"T\",\"sort_sequence\":342},\"197\":{\"item_code\":\"SEGB02\",\"item_name\":\"Cosmetics, perfume, bath, nail preparations and implements\",\"display_level\":3,\"selectable\":\"T\",\"sort_sequence\":343},\"198\":{\"item_code\":\"SEGC\",\"item_name\":\"Personal care services\",\"display_level\":2,\"selectable\":\"T\",\"sort_sequence\":344},\"199\":{\"item_code\":\"SEGC01\",\"item_name\":\"Haircuts and other personal care services\",\"display_level\":3,\"selectable\":\"T\",\"sort_sequence\":345},\"200\":{\"item_code\":\"SEGD\",\"item_name\":\"Miscellaneous personal services\",\"display_level\":2,\"selectable\":\"T\",\"sort_sequence\":346},\"201\":{\"item_code\":\"SEGD01\",\"item_name\":\"Legal services\",\"display_level\":3,\"selectable\":\"T\",\"sort_sequence\":347},\"202\":{\"item_code\":\"SEGD02\",\"item_name\":\"Funeral expenses\",\"display_level\":3,\"selectable\":\"T\",\"sort_sequence\":348},\"203\":{\"item_code\":\"SEGD03\",\"item_name\":\"Laundry and dry cleaning services\",\"display_level\":3,\"selectable\":\"T\",\"sort_sequence\":349},\"204\":{\"item_code\":\"SEGD04\",\"item_name\":\"Apparel services other than laundry and dry cleaning\",\"display_level\":3,\"selectable\":\"T\",\"sort_sequence\":350},\"205\":{\"item_code\":\"SEGD05\",\"item_name\":\"Financial services\",\"display_level\":3,\"selectable\":\"T\",\"sort_sequence\":351},\"206\":{\"item_code\":\"SEGE\",\"item_name\":\"Miscellaneous personal goods\",\"display_level\":2,\"selectable\":\"T\",\"sort_sequence\":354},\"207\":{\"item_code\":\"SEHA\",\"item_name\":\"Rent of primary residence\",\"display_level\":2,\"selectable\":\"T\",\"sort_sequence\":138},\"208\":{\"item_code\":\"SEHB\",\"item_name\":\"Lodging away from home\",\"display_level\":2,\"selectable\":\"T\",\"sort_sequence\":139},\"209\":{\"item_code\":\"SEHB01\",\"item_name\":\"Housing at school, excluding board\",\"display_level\":3,\"selectable\":\"T\",\"sort_sequence\":140},\"210\":{\"item_code\":\"SEHB02\",\"item_name\":\"Other lodging away from home including hotels and motels\",\"display_level\":3,\"selectable\":\"T\",\"sort_sequence\":141},\"211\":{\"item_code\":\"SEHC\",\"item_name\":\"Owners\\' equivalent rent of residences\",\"display_level\":2,\"selectable\":\"T\",\"sort_sequence\":142},\"212\":{\"item_code\":\"SEHC01\",\"item_name\":\"Owners\\' equivalent rent of primary residence\",\"display_level\":3,\"selectable\":\"T\",\"sort_sequence\":143},\"213\":{\"item_code\":\"SEHD\",\"item_name\":\"Tenants\\' and household insurance\",\"display_level\":2,\"selectable\":\"T\",\"sort_sequence\":144},\"214\":{\"item_code\":\"SEHE\",\"item_name\":\"Fuel oil and other fuels\",\"display_level\":3,\"selectable\":\"T\",\"sort_sequence\":147},\"215\":{\"item_code\":\"SEHE01\",\"item_name\":\"Fuel oil\",\"display_level\":4,\"selectable\":\"T\",\"sort_sequence\":148},\"216\":{\"item_code\":\"SEHE02\",\"item_name\":\"Propane, kerosene, and firewood\",\"display_level\":4,\"selectable\":\"T\",\"sort_sequence\":149},\"217\":{\"item_code\":\"SEHF\",\"item_name\":\"Energy services\",\"display_level\":3,\"selectable\":\"T\",\"sort_sequence\":150},\"218\":{\"item_code\":\"SEHF01\",\"item_name\":\"Electricity\",\"display_level\":4,\"selectable\":\"T\",\"sort_sequence\":151},\"219\":{\"item_code\":\"SEHF02\",\"item_name\":\"Utility (piped) gas service\",\"display_level\":4,\"selectable\":\"T\",\"sort_sequence\":152},\"220\":{\"item_code\":\"SEHG\",\"item_name\":\"Water and sewer and trash collection services\",\"display_level\":2,\"selectable\":\"T\",\"sort_sequence\":153},\"221\":{\"item_code\":\"SEHG01\",\"item_name\":\"Water and sewerage maintenance\",\"display_level\":3,\"selectable\":\"T\",\"sort_sequence\":154},\"222\":{\"item_code\":\"SEHG02\",\"item_name\":\"Garbage and trash collection\",\"display_level\":3,\"selectable\":\"T\",\"sort_sequence\":155},\"223\":{\"item_code\":\"SEHH\",\"item_name\":\"Window and floor coverings and other linens\",\"display_level\":2,\"selectable\":\"T\",\"sort_sequence\":157},\"224\":{\"item_code\":\"SEHH01\",\"item_name\":\"Floor coverings\",\"display_level\":3,\"selectable\":\"T\",\"sort_sequence\":158},\"225\":{\"item_code\":\"SEHH02\",\"item_name\":\"Window coverings\",\"display_level\":3,\"selectable\":\"T\",\"sort_sequence\":159},\"226\":{\"item_code\":\"SEHH03\",\"item_name\":\"Other linens\",\"display_level\":3,\"selectable\":\"T\",\"sort_sequence\":160},\"227\":{\"item_code\":\"SEHJ\",\"item_name\":\"Furniture and bedding\",\"display_level\":2,\"selectable\":\"T\",\"sort_sequence\":161},\"228\":{\"item_code\":\"SEHJ01\",\"item_name\":\"Bedroom furniture\",\"display_level\":3,\"selectable\":\"T\",\"sort_sequence\":162},\"229\":{\"item_code\":\"SEHJ02\",\"item_name\":\"Living room, kitchen, and dining room furniture\",\"display_level\":3,\"selectable\":\"T\",\"sort_sequence\":163},\"230\":{\"item_code\":\"SEHJ03\",\"item_name\":\"Other furniture\",\"display_level\":3,\"selectable\":\"T\",\"sort_sequence\":164},\"231\":{\"item_code\":\"SEHK\",\"item_name\":\"Appliances\",\"display_level\":2,\"selectable\":\"T\",\"sort_sequence\":166},\"232\":{\"item_code\":\"SEHK01\",\"item_name\":\"Major appliances\",\"display_level\":3,\"selectable\":\"T\",\"sort_sequence\":167},\"233\":{\"item_code\":\"SEHK02\",\"item_name\":\"Other appliances\",\"display_level\":3,\"selectable\":\"T\",\"sort_sequence\":169},\"234\":{\"item_code\":\"SEHL\",\"item_name\":\"Other household equipment and furnishings\",\"display_level\":2,\"selectable\":\"T\",\"sort_sequence\":170},\"235\":{\"item_code\":\"SEHL01\",\"item_name\":\"Clocks, lamps, and decorator items\",\"display_level\":3,\"selectable\":\"T\",\"sort_sequence\":171},\"236\":{\"item_code\":\"SEHL02\",\"item_name\":\"Indoor plants and flowers\",\"display_level\":3,\"selectable\":\"T\",\"sort_sequence\":172},\"237\":{\"item_code\":\"SEHL03\",\"item_name\":\"Dishes and flatware\",\"display_level\":3,\"selectable\":\"T\",\"sort_sequence\":173},\"238\":{\"item_code\":\"SEHL04\",\"item_name\":\"Nonelectric cookware and tableware\",\"display_level\":3,\"selectable\":\"T\",\"sort_sequence\":174},\"239\":{\"item_code\":\"SEHM\",\"item_name\":\"Tools, hardware, outdoor equipment and supplies\",\"display_level\":2,\"selectable\":\"T\",\"sort_sequence\":175},\"240\":{\"item_code\":\"SEHM01\",\"item_name\":\"Tools, hardware and supplies\",\"display_level\":3,\"selectable\":\"T\",\"sort_sequence\":176},\"241\":{\"item_code\":\"SEHM02\",\"item_name\":\"Outdoor equipment and supplies\",\"display_level\":3,\"selectable\":\"T\",\"sort_sequence\":177},\"242\":{\"item_code\":\"SEHN\",\"item_name\":\"Housekeeping supplies\",\"display_level\":2,\"selectable\":\"T\",\"sort_sequence\":178},\"243\":{\"item_code\":\"SEHN01\",\"item_name\":\"Household cleaning products\",\"display_level\":3,\"selectable\":\"T\",\"sort_sequence\":179},\"244\":{\"item_code\":\"SEHN02\",\"item_name\":\"Household paper products\",\"display_level\":3,\"selectable\":\"T\",\"sort_sequence\":180},\"245\":{\"item_code\":\"SEHN03\",\"item_name\":\"Miscellaneous household products\",\"display_level\":3,\"selectable\":\"T\",\"sort_sequence\":181},\"246\":{\"item_code\":\"SEHP\",\"item_name\":\"Household operations\",\"display_level\":2,\"selectable\":\"T\",\"sort_sequence\":182},\"247\":{\"item_code\":\"SEHP01\",\"item_name\":\"Domestic services\",\"display_level\":3,\"selectable\":\"T\",\"sort_sequence\":183},\"248\":{\"item_code\":\"SEHP02\",\"item_name\":\"Gardening and lawncare services\",\"display_level\":3,\"selectable\":\"T\",\"sort_sequence\":184},\"249\":{\"item_code\":\"SEHP03\",\"item_name\":\"Moving, storage, freight expense\",\"display_level\":3,\"selectable\":\"T\",\"sort_sequence\":185},\"250\":{\"item_code\":\"SEHP04\",\"item_name\":\"Repair of household items\",\"display_level\":3,\"selectable\":\"T\",\"sort_sequence\":186},\"251\":{\"item_code\":\"SEMC\",\"item_name\":\"Professional services\",\"display_level\":2,\"selectable\":\"T\",\"sort_sequence\":257},\"252\":{\"item_code\":\"SEMC01\",\"item_name\":\"Physicians\\' services\",\"display_level\":3,\"selectable\":\"T\",\"sort_sequence\":258},\"253\":{\"item_code\":\"SEMC02\",\"item_name\":\"Dental services\",\"display_level\":3,\"selectable\":\"T\",\"sort_sequence\":259},\"254\":{\"item_code\":\"SEMC03\",\"item_name\":\"Eyeglasses and eye care\",\"display_level\":3,\"selectable\":\"T\",\"sort_sequence\":260},\"255\":{\"item_code\":\"SEMC04\",\"item_name\":\"Services by other medical professionals\",\"display_level\":3,\"selectable\":\"T\",\"sort_sequence\":261},\"256\":{\"item_code\":\"SEMD\",\"item_name\":\"Hospital and related services\",\"display_level\":2,\"selectable\":\"T\",\"sort_sequence\":262},\"257\":{\"item_code\":\"SEMD01\",\"item_name\":\"Hospital services\",\"display_level\":3,\"selectable\":\"T\",\"sort_sequence\":263},\"258\":{\"item_code\":\"SEMD02\",\"item_name\":\"Nursing homes and adult day services\",\"display_level\":3,\"selectable\":\"T\",\"sort_sequence\":266},\"259\":{\"item_code\":\"SEMD03\",\"item_name\":\"Care of invalids and elderly at home\",\"display_level\":3,\"selectable\":\"T\",\"sort_sequence\":267},\"260\":{\"item_code\":\"SEME\",\"item_name\":\"Health insurance\",\"display_level\":2,\"selectable\":\"T\",\"sort_sequence\":268},\"261\":{\"item_code\":\"SEMF\",\"item_name\":\"Medicinal drugs\",\"display_level\":2,\"selectable\":\"T\",\"sort_sequence\":252},\"262\":{\"item_code\":\"SEMF01\",\"item_name\":\"Prescription drugs\",\"display_level\":3,\"selectable\":\"T\",\"sort_sequence\":253},\"263\":{\"item_code\":\"SEMF02\",\"item_name\":\"Nonprescription drugs\",\"display_level\":3,\"selectable\":\"T\",\"sort_sequence\":254},\"264\":{\"item_code\":\"SEMG\",\"item_name\":\"Medical equipment and supplies\",\"display_level\":2,\"selectable\":\"T\",\"sort_sequence\":255},\"265\":{\"item_code\":\"SERA\",\"item_name\":\"Video and audio\",\"display_level\":1,\"selectable\":\"T\",\"sort_sequence\":270},\"266\":{\"item_code\":\"SERA01\",\"item_name\":\"Televisions\",\"display_level\":2,\"selectable\":\"T\",\"sort_sequence\":271},\"267\":{\"item_code\":\"SERA02\",\"item_name\":\"Cable, satellite, and live streaming television service\",\"display_level\":2,\"selectable\":\"T\",\"sort_sequence\":272},\"268\":{\"item_code\":\"SERA03\",\"item_name\":\"Other video equipment\",\"display_level\":2,\"selectable\":\"T\",\"sort_sequence\":273},\"269\":{\"item_code\":\"SERA04\",\"item_name\":\"Purchase, subscription, and rental of video\",\"display_level\":2,\"selectable\":\"T\",\"sort_sequence\":274},\"270\":{\"item_code\":\"SERA05\",\"item_name\":\"Audio equipment\",\"display_level\":2,\"selectable\":\"T\",\"sort_sequence\":277},\"271\":{\"item_code\":\"SERA06\",\"item_name\":\"Recorded music and music subscriptions\",\"display_level\":2,\"selectable\":\"T\",\"sort_sequence\":278},\"272\":{\"item_code\":\"SERAC\",\"item_name\":\"Video and audio products\",\"display_level\":1,\"selectable\":\"T\",\"sort_sequence\":397},\"273\":{\"item_code\":\"SERAS\",\"item_name\":\"Video and audio services\",\"display_level\":1,\"selectable\":\"T\",\"sort_sequence\":398},\"274\":{\"item_code\":\"SERB\",\"item_name\":\"Pets, pet products and services\",\"display_level\":1,\"selectable\":\"T\",\"sort_sequence\":279},\"275\":{\"item_code\":\"SERB01\",\"item_name\":\"Pets and pet products\",\"display_level\":2,\"selectable\":\"T\",\"sort_sequence\":280},\"276\":{\"item_code\":\"SERB02\",\"item_name\":\"Pet services including veterinary\",\"display_level\":2,\"selectable\":\"T\",\"sort_sequence\":283},\"277\":{\"item_code\":\"SERC\",\"item_name\":\"Sporting goods\",\"display_level\":1,\"selectable\":\"T\",\"sort_sequence\":286},\"278\":{\"item_code\":\"SERC01\",\"item_name\":\"Sports vehicles including bicycles\",\"display_level\":2,\"selectable\":\"T\",\"sort_sequence\":287},\"279\":{\"item_code\":\"SERC02\",\"item_name\":\"Sports equipment\",\"display_level\":2,\"selectable\":\"T\",\"sort_sequence\":288},\"280\":{\"item_code\":\"SERD\",\"item_name\":\"Photography\",\"display_level\":1,\"selectable\":\"T\",\"sort_sequence\":289},\"281\":{\"item_code\":\"SERD01\",\"item_name\":\"Photographic equipment and supplies\",\"display_level\":2,\"selectable\":\"T\",\"sort_sequence\":290},\"282\":{\"item_code\":\"SERD02\",\"item_name\":\"Photographers and photo processing\",\"display_level\":2,\"selectable\":\"T\",\"sort_sequence\":293},\"283\":{\"item_code\":\"SERE\",\"item_name\":\"Other recreational goods\",\"display_level\":1,\"selectable\":\"T\",\"sort_sequence\":296},\"284\":{\"item_code\":\"SERE01\",\"item_name\":\"Toys\",\"display_level\":2,\"selectable\":\"T\",\"sort_sequence\":297},\"285\":{\"item_code\":\"SERE02\",\"item_name\":\"Sewing machines, fabric and supplies\",\"display_level\":2,\"selectable\":\"T\",\"sort_sequence\":300},\"286\":{\"item_code\":\"SERE03\",\"item_name\":\"Music instruments and accessories\",\"display_level\":2,\"selectable\":\"T\",\"sort_sequence\":301},\"287\":{\"item_code\":\"SERF\",\"item_name\":\"Other recreation services\",\"display_level\":1,\"selectable\":\"T\",\"sort_sequence\":302},\"288\":{\"item_code\":\"SERF01\",\"item_name\":\"Club membership for shopping clubs, fraternal, or other organizations, or participant sports fees\",\"display_level\":2,\"selectable\":\"T\",\"sort_sequence\":303},\"289\":{\"item_code\":\"SERF02\",\"item_name\":\"Admissions\",\"display_level\":2,\"selectable\":\"T\",\"sort_sequence\":304},\"290\":{\"item_code\":\"SERF03\",\"item_name\":\"Fees for lessons or instructions\",\"display_level\":2,\"selectable\":\"T\",\"sort_sequence\":307},\"291\":{\"item_code\":\"SERG\",\"item_name\":\"Recreational reading materials\",\"display_level\":1,\"selectable\":\"T\",\"sort_sequence\":308},\"292\":{\"item_code\":\"SERG01\",\"item_name\":\"Newspapers and magazines\",\"display_level\":2,\"selectable\":\"T\",\"sort_sequence\":309},\"293\":{\"item_code\":\"SERG02\",\"item_name\":\"Recreational books\",\"display_level\":2,\"selectable\":\"T\",\"sort_sequence\":310},\"294\":{\"item_code\":\"SETA\",\"item_name\":\"New and used motor vehicles\",\"display_level\":2,\"selectable\":\"T\",\"sort_sequence\":212},\"295\":{\"item_code\":\"SETA01\",\"item_name\":\"New vehicles\",\"display_level\":3,\"selectable\":\"T\",\"sort_sequence\":213},\"296\":{\"item_code\":\"SETA02\",\"item_name\":\"Used cars and trucks\",\"display_level\":3,\"selectable\":\"T\",\"sort_sequence\":218},\"297\":{\"item_code\":\"SETA03\",\"item_name\":\"Leased cars and trucks\",\"display_level\":3,\"selectable\":\"T\",\"sort_sequence\":219},\"298\":{\"item_code\":\"SETA04\",\"item_name\":\"Car and truck rental\",\"display_level\":3,\"selectable\":\"T\",\"sort_sequence\":220},\"299\":{\"item_code\":\"SETB\",\"item_name\":\"Motor fuel\",\"display_level\":2,\"selectable\":\"T\",\"sort_sequence\":221},\"300\":{\"item_code\":\"SETB01\",\"item_name\":\"Gasoline (all types)\",\"display_level\":3,\"selectable\":\"T\",\"sort_sequence\":222},\"301\":{\"item_code\":\"SETB02\",\"item_name\":\"Other motor fuels\",\"display_level\":3,\"selectable\":\"T\",\"sort_sequence\":226},\"302\":{\"item_code\":\"SETC\",\"item_name\":\"Motor vehicle parts and equipment\",\"display_level\":2,\"selectable\":\"T\",\"sort_sequence\":227},\"303\":{\"item_code\":\"SETC01\",\"item_name\":\"Tires\",\"display_level\":3,\"selectable\":\"T\",\"sort_sequence\":228},\"304\":{\"item_code\":\"SETC02\",\"item_name\":\"Vehicle accessories other than tires\",\"display_level\":3,\"selectable\":\"T\",\"sort_sequence\":229},\"305\":{\"item_code\":\"SETD\",\"item_name\":\"Motor vehicle maintenance and repair\",\"display_level\":2,\"selectable\":\"T\",\"sort_sequence\":232},\"306\":{\"item_code\":\"SETD01\",\"item_name\":\"Motor vehicle body work\",\"display_level\":3,\"selectable\":\"T\",\"sort_sequence\":233},\"307\":{\"item_code\":\"SETD02\",\"item_name\":\"Motor vehicle maintenance and servicing\",\"display_level\":3,\"selectable\":\"T\",\"sort_sequence\":234},\"308\":{\"item_code\":\"SETD03\",\"item_name\":\"Motor vehicle repair\",\"display_level\":3,\"selectable\":\"T\",\"sort_sequence\":235},\"309\":{\"item_code\":\"SETE\",\"item_name\":\"Motor vehicle insurance\",\"display_level\":2,\"selectable\":\"T\",\"sort_sequence\":236},\"310\":{\"item_code\":\"SETF\",\"item_name\":\"Motor vehicle fees\",\"display_level\":2,\"selectable\":\"T\",\"sort_sequence\":237},\"311\":{\"item_code\":\"SETF01\",\"item_name\":\"State motor vehicle registration and license fees\",\"display_level\":3,\"selectable\":\"T\",\"sort_sequence\":238},\"312\":{\"item_code\":\"SETF03\",\"item_name\":\"Parking and other fees\",\"display_level\":3,\"selectable\":\"T\",\"sort_sequence\":239},\"313\":{\"item_code\":\"SETG\",\"item_name\":\"Public transportation\",\"display_level\":1,\"selectable\":\"T\",\"sort_sequence\":242},\"314\":{\"item_code\":\"SETG01\",\"item_name\":\"Airline fares\",\"display_level\":2,\"selectable\":\"T\",\"sort_sequence\":243},\"315\":{\"item_code\":\"SETG02\",\"item_name\":\"Other intercity transportation\",\"display_level\":2,\"selectable\":\"T\",\"sort_sequence\":244},\"316\":{\"item_code\":\"SETG03\",\"item_name\":\"Intracity transportation\",\"display_level\":2,\"selectable\":\"T\",\"sort_sequence\":248},\"317\":{\"item_code\":\"SS01031\",\"item_name\":\"Rice\",\"display_level\":6,\"selectable\":\"T\",\"sort_sequence\":11},\"318\":{\"item_code\":\"SS02011\",\"item_name\":\"White bread\",\"display_level\":6,\"selectable\":\"T\",\"sort_sequence\":14},\"319\":{\"item_code\":\"SS02021\",\"item_name\":\"Bread other than white\",\"display_level\":6,\"selectable\":\"T\",\"sort_sequence\":15},\"320\":{\"item_code\":\"SS02041\",\"item_name\":\"Fresh cakes and cupcakes\",\"display_level\":6,\"selectable\":\"T\",\"sort_sequence\":18},\"321\":{\"item_code\":\"SS02042\",\"item_name\":\"Cookies\",\"display_level\":6,\"selectable\":\"T\",\"sort_sequence\":19},\"322\":{\"item_code\":\"SS02063\",\"item_name\":\"Fresh sweetrolls, coffeecakes, doughnuts\",\"display_level\":6,\"selectable\":\"T\",\"sort_sequence\":21},\"323\":{\"item_code\":\"SS0206A\",\"item_name\":\"Crackers, bread, and cracker products\",\"display_level\":6,\"selectable\":\"T\",\"sort_sequence\":22},\"324\":{\"item_code\":\"SS0206B\",\"item_name\":\"Frozen and refrigerated bakery products, pies, tarts, turnovers\",\"display_level\":6,\"selectable\":\"T\",\"sort_sequence\":23},\"325\":{\"item_code\":\"SS04011\",\"item_name\":\"Bacon and related products\",\"display_level\":8,\"selectable\":\"T\",\"sort_sequence\":34},\"326\":{\"item_code\":\"SS04012\",\"item_name\":\"Breakfast sausage and related products\",\"display_level\":8,\"selectable\":\"T\",\"sort_sequence\":35},\"327\":{\"item_code\":\"SS04031\",\"item_name\":\"Ham, excluding canned\",\"display_level\":8,\"selectable\":\"T\",\"sort_sequence\":37},\"328\":{\"item_code\":\"SS05011\",\"item_name\":\"Frankfurters\",\"display_level\":7,\"selectable\":\"T\",\"sort_sequence\":41},\"329\":{\"item_code\":\"SS05014\",\"item_name\":\"Lamb and organ meats\",\"display_level\":7,\"selectable\":\"T\",\"sort_sequence\":43},\"330\":{\"item_code\":\"SS05015\",\"item_name\":\"Lamb and mutton\",\"display_level\":7,\"selectable\":\"T\",\"sort_sequence\":44},\"331\":{\"item_code\":\"SS0501A\",\"item_name\":\"Lunchmeats\",\"display_level\":7,\"selectable\":\"T\",\"sort_sequence\":42},\"332\":{\"item_code\":\"SS06011\",\"item_name\":\"Fresh whole chicken\",\"display_level\":7,\"selectable\":\"T\",\"sort_sequence\":47},\"333\":{\"item_code\":\"SS06021\",\"item_name\":\"Fresh and frozen chicken parts\",\"display_level\":7,\"selectable\":\"T\",\"sort_sequence\":48},\"334\":{\"item_code\":\"SS07011\",\"item_name\":\"Shelf stable fish and seafood\",\"display_level\":7,\"selectable\":\"T\",\"sort_sequence\":53},\"335\":{\"item_code\":\"SS07021\",\"item_name\":\"Frozen fish and seafood\",\"display_level\":7,\"selectable\":\"T\",\"sort_sequence\":54},\"336\":{\"item_code\":\"SS09011\",\"item_name\":\"Fresh whole milk\",\"display_level\":5,\"selectable\":\"T\",\"sort_sequence\":58},\"337\":{\"item_code\":\"SS09021\",\"item_name\":\"Fresh milk other than whole\",\"display_level\":5,\"selectable\":\"T\",\"sort_sequence\":59},\"338\":{\"item_code\":\"SS10011\",\"item_name\":\"Butter\",\"display_level\":6,\"selectable\":\"T\",\"sort_sequence\":101},\"339\":{\"item_code\":\"SS11031\",\"item_name\":\"Oranges, including tangerines\",\"display_level\":7,\"selectable\":\"T\",\"sort_sequence\":69},\"340\":{\"item_code\":\"SS13031\",\"item_name\":\"Canned fruits\",\"display_level\":6,\"selectable\":\"T\",\"sort_sequence\":78},\"341\":{\"item_code\":\"SS14011\",\"item_name\":\"Frozen vegetables\",\"display_level\":6,\"selectable\":\"T\",\"sort_sequence\":81},\"342\":{\"item_code\":\"SS14021\",\"item_name\":\"Canned vegetables\",\"display_level\":6,\"selectable\":\"T\",\"sort_sequence\":79},\"343\":{\"item_code\":\"SS14022\",\"item_name\":\"Dried beans, peas, and lentils\",\"display_level\":6,\"selectable\":\"T\",\"sort_sequence\":83},\"344\":{\"item_code\":\"SS16011\",\"item_name\":\"Margarine\",\"display_level\":6,\"selectable\":\"T\",\"sort_sequence\":102},\"345\":{\"item_code\":\"SS16014\",\"item_name\":\"Peanut butter\",\"display_level\":6,\"selectable\":\"T\",\"sort_sequence\":105},\"346\":{\"item_code\":\"SS17031\",\"item_name\":\"Roasted coffee\",\"display_level\":6,\"selectable\":\"T\",\"sort_sequence\":91},\"347\":{\"item_code\":\"SS17032\",\"item_name\":\"Instant coffee\",\"display_level\":6,\"selectable\":\"T\",\"sort_sequence\":92},\"348\":{\"item_code\":\"SS18041\",\"item_name\":\"Salt and other seasonings and spices\",\"display_level\":6,\"selectable\":\"T\",\"sort_sequence\":111},\"349\":{\"item_code\":\"SS18042\",\"item_name\":\"Olives, pickles, relishes\",\"display_level\":6,\"selectable\":\"T\",\"sort_sequence\":112},\"350\":{\"item_code\":\"SS18043\",\"item_name\":\"Sauces and gravies\",\"display_level\":6,\"selectable\":\"T\",\"sort_sequence\":113},\"351\":{\"item_code\":\"SS1804B\",\"item_name\":\"Other condiments\",\"display_level\":6,\"selectable\":\"T\",\"sort_sequence\":114},\"352\":{\"item_code\":\"SS18064\",\"item_name\":\"Prepared salads\",\"display_level\":6,\"selectable\":\"T\",\"sort_sequence\":117},\"353\":{\"item_code\":\"SS20021\",\"item_name\":\"Whiskey at home\",\"display_level\":5,\"selectable\":\"T\",\"sort_sequence\":129},\"354\":{\"item_code\":\"SS20022\",\"item_name\":\"Distilled spirits, excluding whiskey, at home\",\"display_level\":5,\"selectable\":\"T\",\"sort_sequence\":130},\"355\":{\"item_code\":\"SS20051\",\"item_name\":\"Beer, ale, and other malt beverages away from home\",\"display_level\":4,\"selectable\":\"T\",\"sort_sequence\":133},\"356\":{\"item_code\":\"SS20052\",\"item_name\":\"Wine away from home\",\"display_level\":4,\"selectable\":\"T\",\"sort_sequence\":134},\"357\":{\"item_code\":\"SS20053\",\"item_name\":\"Distilled spirits away from home\",\"display_level\":4,\"selectable\":\"T\",\"sort_sequence\":135},\"358\":{\"item_code\":\"SS27051\",\"item_name\":\"Land-line interstate toll calls\",\"display_level\":5,\"selectable\":\"T\",\"sort_sequence\":328},\"359\":{\"item_code\":\"SS27061\",\"item_name\":\"Land-line intrastate toll calls\",\"display_level\":5,\"selectable\":\"T\",\"sort_sequence\":329},\"360\":{\"item_code\":\"SS30021\",\"item_name\":\"Laundry equipment\",\"display_level\":4,\"selectable\":\"T\",\"sort_sequence\":168},\"361\":{\"item_code\":\"SS31022\",\"item_name\":\"Video discs and other media\",\"display_level\":3,\"selectable\":\"T\",\"sort_sequence\":275},\"362\":{\"item_code\":\"SS31023\",\"item_name\":\"Video game hardware, software and accessories\",\"display_level\":3,\"selectable\":\"T\",\"sort_sequence\":299},\"363\":{\"item_code\":\"SS33032\",\"item_name\":\"Stationery, stationery supplies, gift wrap\",\"display_level\":3,\"selectable\":\"T\",\"sort_sequence\":355},\"364\":{\"item_code\":\"SS45011\",\"item_name\":\"New cars\",\"display_level\":4,\"selectable\":\"T\",\"sort_sequence\":215},\"365\":{\"item_code\":\"SS4501A\",\"item_name\":\"New cars and trucks\",\"display_level\":4,\"selectable\":\"T\",\"sort_sequence\":214},\"366\":{\"item_code\":\"SS45021\",\"item_name\":\"New trucks\",\"display_level\":4,\"selectable\":\"T\",\"sort_sequence\":216},\"367\":{\"item_code\":\"SS45031\",\"item_name\":\"New motorcycles\",\"display_level\":4,\"selectable\":\"T\",\"sort_sequence\":217},\"368\":{\"item_code\":\"SS47014\",\"item_name\":\"Gasoline, unleaded regular\",\"display_level\":4,\"selectable\":\"T\",\"sort_sequence\":223},\"369\":{\"item_code\":\"SS47015\",\"item_name\":\"Gasoline, unleaded midgrade\",\"display_level\":4,\"selectable\":\"T\",\"sort_sequence\":224},\"370\":{\"item_code\":\"SS47016\",\"item_name\":\"Gasoline, unleaded premium\",\"display_level\":4,\"selectable\":\"T\",\"sort_sequence\":225},\"371\":{\"item_code\":\"SS47021\",\"item_name\":\"Motor oil, coolant, and fluids\",\"display_level\":4,\"selectable\":\"T\",\"sort_sequence\":231},\"372\":{\"item_code\":\"SS48021\",\"item_name\":\"Vehicle parts and equipment other than tires\",\"display_level\":4,\"selectable\":\"T\",\"sort_sequence\":230},\"373\":{\"item_code\":\"SS52051\",\"item_name\":\"Parking fees and tolls\",\"display_level\":4,\"selectable\":\"T\",\"sort_sequence\":240},\"374\":{\"item_code\":\"SS53021\",\"item_name\":\"Intercity bus fare\",\"display_level\":3,\"selectable\":\"T\",\"sort_sequence\":245},\"375\":{\"item_code\":\"SS53022\",\"item_name\":\"Intercity train fare\",\"display_level\":3,\"selectable\":\"T\",\"sort_sequence\":246},\"376\":{\"item_code\":\"SS53023\",\"item_name\":\"Ship fare\",\"display_level\":3,\"selectable\":\"T\",\"sort_sequence\":247},\"377\":{\"item_code\":\"SS53031\",\"item_name\":\"Intracity mass transit\",\"display_level\":3,\"selectable\":\"T\",\"sort_sequence\":249},\"378\":{\"item_code\":\"SS5702\",\"item_name\":\"Inpatient hospital services\",\"display_level\":4,\"selectable\":\"T\",\"sort_sequence\":264},\"379\":{\"item_code\":\"SS5703\",\"item_name\":\"Outpatient hospital services\",\"display_level\":4,\"selectable\":\"T\",\"sort_sequence\":265},\"380\":{\"item_code\":\"SS61011\",\"item_name\":\"Toys, games, hobbies and playground equipment\",\"display_level\":3,\"selectable\":\"T\",\"sort_sequence\":298},\"381\":{\"item_code\":\"SS61021\",\"item_name\":\"Film and photographic supplies\",\"display_level\":3,\"selectable\":\"T\",\"sort_sequence\":291},\"382\":{\"item_code\":\"SS61023\",\"item_name\":\"Photographic equipment\",\"display_level\":3,\"selectable\":\"T\",\"sort_sequence\":292},\"383\":{\"item_code\":\"SS61031\",\"item_name\":\"Pet food\",\"display_level\":3,\"selectable\":\"T\",\"sort_sequence\":281},\"384\":{\"item_code\":\"SS61032\",\"item_name\":\"Purchase of pets, pet supplies, accessories\",\"display_level\":3,\"selectable\":\"T\",\"sort_sequence\":282},\"385\":{\"item_code\":\"SS62011\",\"item_name\":\"Automobile service clubs\",\"display_level\":4,\"selectable\":\"T\",\"sort_sequence\":241},\"386\":{\"item_code\":\"SS62031\",\"item_name\":\"Admission to movies, theaters, and concerts\",\"display_level\":3,\"selectable\":\"T\",\"sort_sequence\":305},\"387\":{\"item_code\":\"SS62032\",\"item_name\":\"Admission to sporting events\",\"display_level\":3,\"selectable\":\"T\",\"sort_sequence\":306},\"388\":{\"item_code\":\"SS62051\",\"item_name\":\"Photographer fees\",\"display_level\":3,\"selectable\":\"T\",\"sort_sequence\":294},\"389\":{\"item_code\":\"SS62052\",\"item_name\":\"Photo Processing\",\"display_level\":3,\"selectable\":\"T\",\"sort_sequence\":295},\"390\":{\"item_code\":\"SS62053\",\"item_name\":\"Pet services\",\"display_level\":3,\"selectable\":\"T\",\"sort_sequence\":284},\"391\":{\"item_code\":\"SS62054\",\"item_name\":\"Veterinarian services\",\"display_level\":3,\"selectable\":\"T\",\"sort_sequence\":285},\"392\":{\"item_code\":\"SS62055\",\"item_name\":\"Subscription and rental of video and video games\",\"display_level\":3,\"selectable\":\"T\",\"sort_sequence\":276},\"393\":{\"item_code\":\"SS68021\",\"item_name\":\"Checking account and other bank services\",\"display_level\":4,\"selectable\":\"T\",\"sort_sequence\":352},\"394\":{\"item_code\":\"SS68023\",\"item_name\":\"Tax return preparation and other accounting fees\",\"display_level\":4,\"selectable\":\"T\",\"sort_sequence\":353},\"395\":{\"item_code\":\"SSEA011\",\"item_name\":\"College textbooks\",\"display_level\":3,\"selectable\":\"T\",\"sort_sequence\":314},\"396\":{\"item_code\":\"SSEE041\",\"item_name\":\"Smartphones\",\"display_level\":4,\"selectable\":\"T\",\"sort_sequence\":335},\"397\":{\"item_code\":\"SSFV031A\",\"item_name\":\"Food at elementary and secondary schools\",\"display_level\":3,\"selectable\":\"T\",\"sort_sequence\":122},\"398\":{\"item_code\":\"SSGE013\",\"item_name\":\"Infants\\' equipment\",\"display_level\":3,\"selectable\":\"T\",\"sort_sequence\":356},\"399\":{\"item_code\":\"SSHJ031\",\"item_name\":\"Infants\\' furniture\",\"display_level\":3,\"selectable\":\"T\",\"sort_sequence\":165}}'"
      ]
     },
     "execution_count": 51,
     "metadata": {},
     "output_type": "execute_result"
    }
   ],
   "source": [
    "df_json=df.to_json(orient=\"index\")#index-column-value\n",
    "df_json"
   ]
  },
  {
   "cell_type": "code",
   "execution_count": 53,
   "id": "00b366e1",
   "metadata": {},
   "outputs": [
    {
     "data": {
      "text/plain": [
       "'[{\"item_code\":\"AA0\",\"item_name\":\"All items - old base\",\"display_level\":0,\"selectable\":\"T\",\"sort_sequence\":2},{\"item_code\":\"AA0R\",\"item_name\":\"Purchasing power of the consumer dollar - old base\",\"display_level\":0,\"selectable\":\"T\",\"sort_sequence\":400},{\"item_code\":\"SA0\",\"item_name\":\"All items\",\"display_level\":0,\"selectable\":\"T\",\"sort_sequence\":1},{\"item_code\":\"SA0E\",\"item_name\":\"Energy\",\"display_level\":1,\"selectable\":\"T\",\"sort_sequence\":375},{\"item_code\":\"SA0L1\",\"item_name\":\"All items less food\",\"display_level\":1,\"selectable\":\"T\",\"sort_sequence\":359},{\"item_code\":\"SA0L12\",\"item_name\":\"All items less food and shelter\",\"display_level\":1,\"selectable\":\"T\",\"sort_sequence\":362},{\"item_code\":\"SA0L12E\",\"item_name\":\"All items less food, shelter, and energy\",\"display_level\":1,\"selectable\":\"T\",\"sort_sequence\":363},{\"item_code\":\"SA0L12E4\",\"item_name\":\"All items less food, shelter, energy, and used cars and trucks\",\"display_level\":1,\"selectable\":\"T\",\"sort_sequence\":364},{\"item_code\":\"SA0L1E\",\"item_name\":\"All items less food and energy\",\"display_level\":1,\"selectable\":\"T\",\"sort_sequence\":360},{\"item_code\":\"SA0L2\",\"item_name\":\"All items less shelter\",\"display_level\":1,\"selectable\":\"T\",\"sort_sequence\":361},{\"item_code\":\"SA0L5\",\"item_name\":\"All items less medical care\",\"display_level\":1,\"selectable\":\"T\",\"sort_sequence\":357},{\"item_code\":\"SA0LE\",\"item_name\":\"All items less energy\",\"display_level\":1,\"selectable\":\"T\",\"sort_sequence\":358},{\"item_code\":\"SA0R\",\"item_name\":\"Purchasing power of the consumer dollar\",\"display_level\":0,\"selectable\":\"T\",\"sort_sequence\":399},{\"item_code\":\"SA311\",\"item_name\":\"Apparel less footwear\",\"display_level\":1,\"selectable\":\"T\",\"sort_sequence\":365},{\"item_code\":\"SAA\",\"item_name\":\"Apparel\",\"display_level\":0,\"selectable\":\"T\",\"sort_sequence\":187},{\"item_code\":\"SAA1\",\"item_name\":\"Men\\'s and boys\\' apparel\",\"display_level\":1,\"selectable\":\"T\",\"sort_sequence\":188},{\"item_code\":\"SAA2\",\"item_name\":\"Women\\'s and girls\\' apparel\",\"display_level\":1,\"selectable\":\"T\",\"sort_sequence\":195},{\"item_code\":\"SAC\",\"item_name\":\"Commodities\",\"display_level\":1,\"selectable\":\"T\",\"sort_sequence\":366},{\"item_code\":\"SACE\",\"item_name\":\"Energy commodities\",\"display_level\":1,\"selectable\":\"T\",\"sort_sequence\":376},{\"item_code\":\"SACL1\",\"item_name\":\"Commodities less food\",\"display_level\":1,\"selectable\":\"T\",\"sort_sequence\":367},{\"item_code\":\"SACL11\",\"item_name\":\"Commodities less food and beverages\",\"display_level\":1,\"selectable\":\"T\",\"sort_sequence\":368},{\"item_code\":\"SACL1E\",\"item_name\":\"Commodities less food and energy commodities\",\"display_level\":1,\"selectable\":\"T\",\"sort_sequence\":369},{\"item_code\":\"SACL1E4\",\"item_name\":\"Commodities less food, energy, and used cars and trucks\",\"display_level\":1,\"selectable\":\"T\",\"sort_sequence\":370},{\"item_code\":\"SAD\",\"item_name\":\"Durables\",\"display_level\":1,\"selectable\":\"T\",\"sort_sequence\":372},{\"item_code\":\"SAE\",\"item_name\":\"Education and communication\",\"display_level\":0,\"selectable\":\"T\",\"sort_sequence\":311},{\"item_code\":\"SAE1\",\"item_name\":\"Education\",\"display_level\":1,\"selectable\":\"T\",\"sort_sequence\":312},{\"item_code\":\"SAE2\",\"item_name\":\"Communication\",\"display_level\":1,\"selectable\":\"T\",\"sort_sequence\":320},{\"item_code\":\"SAE21\",\"item_name\":\"Information and information processing\",\"display_level\":2,\"selectable\":\"T\",\"sort_sequence\":324},{\"item_code\":\"SAEC\",\"item_name\":\"Education and communication commodities\",\"display_level\":1,\"selectable\":\"T\",\"sort_sequence\":373},{\"item_code\":\"SAES\",\"item_name\":\"Education and communication services\",\"display_level\":1,\"selectable\":\"T\",\"sort_sequence\":374},{\"item_code\":\"SAF\",\"item_name\":\"Food and beverages\",\"display_level\":0,\"selectable\":\"T\",\"sort_sequence\":3},{\"item_code\":\"SAF1\",\"item_name\":\"Food\",\"display_level\":1,\"selectable\":\"T\",\"sort_sequence\":4},{\"item_code\":\"SAF11\",\"item_name\":\"Food at home\",\"display_level\":2,\"selectable\":\"T\",\"sort_sequence\":5},{\"item_code\":\"SAF111\",\"item_name\":\"Cereals and bakery products\",\"display_level\":3,\"selectable\":\"T\",\"sort_sequence\":6},{\"item_code\":\"SAF112\",\"item_name\":\"Meats, poultry, fish, and eggs\",\"display_level\":3,\"selectable\":\"T\",\"sort_sequence\":24},{\"item_code\":\"SAF1121\",\"item_name\":\"Meats, poultry, and fish\",\"display_level\":4,\"selectable\":\"T\",\"sort_sequence\":25},{\"item_code\":\"SAF11211\",\"item_name\":\"Meats\",\"display_level\":5,\"selectable\":\"T\",\"sort_sequence\":26},{\"item_code\":\"SAF113\",\"item_name\":\"Fruits and vegetables\",\"display_level\":3,\"selectable\":\"T\",\"sort_sequence\":63},{\"item_code\":\"SAF1131\",\"item_name\":\"Fresh fruits and vegetables\",\"display_level\":4,\"selectable\":\"T\",\"sort_sequence\":64},{\"item_code\":\"SAF114\",\"item_name\":\"Nonalcoholic beverages and beverage materials\",\"display_level\":3,\"selectable\":\"T\",\"sort_sequence\":84},{\"item_code\":\"SAF115\",\"item_name\":\"Other food at home\",\"display_level\":3,\"selectable\":\"T\",\"sort_sequence\":94},{\"item_code\":\"SAF116\",\"item_name\":\"Alcoholic beverages\",\"display_level\":2,\"selectable\":\"T\",\"sort_sequence\":125},{\"item_code\":\"SAG\",\"item_name\":\"Other goods and services\",\"display_level\":0,\"selectable\":\"T\",\"sort_sequence\":336},{\"item_code\":\"SAG1\",\"item_name\":\"Personal care\",\"display_level\":1,\"selectable\":\"T\",\"sort_sequence\":340},{\"item_code\":\"SAGC\",\"item_name\":\"Other goods\",\"display_level\":1,\"selectable\":\"T\",\"sort_sequence\":384},{\"item_code\":\"SAGS\",\"item_name\":\"Other personal services\",\"display_level\":1,\"selectable\":\"T\",\"sort_sequence\":385},{\"item_code\":\"SAH\",\"item_name\":\"Housing\",\"display_level\":0,\"selectable\":\"T\",\"sort_sequence\":136},{\"item_code\":\"SAH1\",\"item_name\":\"Shelter\",\"display_level\":1,\"selectable\":\"T\",\"sort_sequence\":137},{\"item_code\":\"SAH2\",\"item_name\":\"Fuels and utilities\",\"display_level\":1,\"selectable\":\"T\",\"sort_sequence\":145},{\"item_code\":\"SAH21\",\"item_name\":\"Household energy\",\"display_level\":2,\"selectable\":\"T\",\"sort_sequence\":146},{\"item_code\":\"SAH3\",\"item_name\":\"Household furnishings and operations\",\"display_level\":1,\"selectable\":\"T\",\"sort_sequence\":156},{\"item_code\":\"SAH31\",\"item_name\":\"Household furnishings and supplies\",\"display_level\":1,\"selectable\":\"T\",\"sort_sequence\":377},{\"item_code\":\"SAM\",\"item_name\":\"Medical care\",\"display_level\":0,\"selectable\":\"T\",\"sort_sequence\":250},{\"item_code\":\"SAM1\",\"item_name\":\"Medical care commodities\",\"display_level\":1,\"selectable\":\"T\",\"sort_sequence\":251},{\"item_code\":\"SAM2\",\"item_name\":\"Medical care services\",\"display_level\":1,\"selectable\":\"T\",\"sort_sequence\":256},{\"item_code\":\"SAN\",\"item_name\":\"Nondurables\",\"display_level\":1,\"selectable\":\"T\",\"sort_sequence\":379},{\"item_code\":\"SAN1D\",\"item_name\":\"Domestically produced farm food\",\"display_level\":1,\"selectable\":\"T\",\"sort_sequence\":371},{\"item_code\":\"SANL1\",\"item_name\":\"Nondurables less food\",\"display_level\":1,\"selectable\":\"T\",\"sort_sequence\":380},{\"item_code\":\"SANL11\",\"item_name\":\"Nondurables less food and beverages\",\"display_level\":1,\"selectable\":\"T\",\"sort_sequence\":382},{\"item_code\":\"SANL113\",\"item_name\":\"Nondurables less food, beverages, and apparel\",\"display_level\":1,\"selectable\":\"T\",\"sort_sequence\":383},{\"item_code\":\"SANL13\",\"item_name\":\"Nondurables less food and apparel\",\"display_level\":1,\"selectable\":\"T\",\"sort_sequence\":381},{\"item_code\":\"SAR\",\"item_name\":\"Recreation\",\"display_level\":0,\"selectable\":\"T\",\"sort_sequence\":269},{\"item_code\":\"SARC\",\"item_name\":\"Recreation commodities\",\"display_level\":1,\"selectable\":\"T\",\"sort_sequence\":387},{\"item_code\":\"SARS\",\"item_name\":\"Recreation services\",\"display_level\":1,\"selectable\":\"T\",\"sort_sequence\":388},{\"item_code\":\"SAS\",\"item_name\":\"Services\",\"display_level\":1,\"selectable\":\"T\",\"sort_sequence\":390},{\"item_code\":\"SAS24\",\"item_name\":\"Utilities and public transportation\",\"display_level\":1,\"selectable\":\"T\",\"sort_sequence\":396},{\"item_code\":\"SAS2RS\",\"item_name\":\"Rent of shelter\",\"display_level\":1,\"selectable\":\"T\",\"sort_sequence\":389},{\"item_code\":\"SAS367\",\"item_name\":\"Other services\",\"display_level\":1,\"selectable\":\"T\",\"sort_sequence\":386},{\"item_code\":\"SAS4\",\"item_name\":\"Transportation services\",\"display_level\":1,\"selectable\":\"T\",\"sort_sequence\":395},{\"item_code\":\"SASL2RS\",\"item_name\":\"Services less rent of shelter\",\"display_level\":1,\"selectable\":\"T\",\"sort_sequence\":393},{\"item_code\":\"SASL5\",\"item_name\":\"Services less medical care services\",\"display_level\":1,\"selectable\":\"T\",\"sort_sequence\":392},{\"item_code\":\"SASLE\",\"item_name\":\"Services less energy services\",\"display_level\":1,\"selectable\":\"T\",\"sort_sequence\":391},{\"item_code\":\"SAT\",\"item_name\":\"Transportation\",\"display_level\":0,\"selectable\":\"T\",\"sort_sequence\":210},{\"item_code\":\"SAT1\",\"item_name\":\"Private transportation\",\"display_level\":1,\"selectable\":\"T\",\"sort_sequence\":211},{\"item_code\":\"SATCLTB\",\"item_name\":\"Transportation commodities less motor fuel\",\"display_level\":1,\"selectable\":\"T\",\"sort_sequence\":394},{\"item_code\":\"SEAA\",\"item_name\":\"Men\\'s apparel\",\"display_level\":2,\"selectable\":\"T\",\"sort_sequence\":189},{\"item_code\":\"SEAA01\",\"item_name\":\"Men\\'s suits, sport coats, and outerwear\",\"display_level\":3,\"selectable\":\"T\",\"sort_sequence\":190},{\"item_code\":\"SEAA02\",\"item_name\":\"Men\\'s underwear, nightwear, swimwear and accessories\",\"display_level\":3,\"selectable\":\"T\",\"sort_sequence\":191},{\"item_code\":\"SEAA03\",\"item_name\":\"Men\\'s shirts and sweaters\",\"display_level\":3,\"selectable\":\"T\",\"sort_sequence\":192},{\"item_code\":\"SEAA04\",\"item_name\":\"Men\\'s pants and shorts\",\"display_level\":3,\"selectable\":\"T\",\"sort_sequence\":193},{\"item_code\":\"SEAB\",\"item_name\":\"Boys\\' apparel\",\"display_level\":2,\"selectable\":\"T\",\"sort_sequence\":194},{\"item_code\":\"SEAC\",\"item_name\":\"Women\\'s apparel\",\"display_level\":2,\"selectable\":\"T\",\"sort_sequence\":196},{\"item_code\":\"SEAC01\",\"item_name\":\"Women\\'s outerwear\",\"display_level\":3,\"selectable\":\"T\",\"sort_sequence\":197},{\"item_code\":\"SEAC02\",\"item_name\":\"Women\\'s dresses\",\"display_level\":3,\"selectable\":\"T\",\"sort_sequence\":198},{\"item_code\":\"SEAC03\",\"item_name\":\"Women\\'s suits and separates\",\"display_level\":3,\"selectable\":\"T\",\"sort_sequence\":199},{\"item_code\":\"SEAC04\",\"item_name\":\"Women\\'s underwear, nightwear, swimwear and accessories\",\"display_level\":3,\"selectable\":\"T\",\"sort_sequence\":200},{\"item_code\":\"SEAD\",\"item_name\":\"Girls\\' apparel\",\"display_level\":2,\"selectable\":\"T\",\"sort_sequence\":201},{\"item_code\":\"SEAE\",\"item_name\":\"Footwear\",\"display_level\":1,\"selectable\":\"T\",\"sort_sequence\":202},{\"item_code\":\"SEAE01\",\"item_name\":\"Men\\'s footwear\",\"display_level\":2,\"selectable\":\"T\",\"sort_sequence\":203},{\"item_code\":\"SEAE02\",\"item_name\":\"Boys\\' and girls\\' footwear\",\"display_level\":2,\"selectable\":\"T\",\"sort_sequence\":204},{\"item_code\":\"SEAE03\",\"item_name\":\"Women\\'s footwear\",\"display_level\":2,\"selectable\":\"T\",\"sort_sequence\":205},{\"item_code\":\"SEAF\",\"item_name\":\"Infants\\' and toddlers\\' apparel\",\"display_level\":1,\"selectable\":\"T\",\"sort_sequence\":206},{\"item_code\":\"SEAG\",\"item_name\":\"Jewelry and watches\",\"display_level\":1,\"selectable\":\"T\",\"sort_sequence\":207},{\"item_code\":\"SEAG01\",\"item_name\":\"Watches\",\"display_level\":2,\"selectable\":\"T\",\"sort_sequence\":208},{\"item_code\":\"SEAG02\",\"item_name\":\"Jewelry\",\"display_level\":2,\"selectable\":\"T\",\"sort_sequence\":209},{\"item_code\":\"SEEA\",\"item_name\":\"Educational books and supplies\",\"display_level\":2,\"selectable\":\"T\",\"sort_sequence\":313},{\"item_code\":\"SEEB\",\"item_name\":\"Tuition, other school fees, and childcare\",\"display_level\":2,\"selectable\":\"T\",\"sort_sequence\":315},{\"item_code\":\"SEEB01\",\"item_name\":\"College tuition and fees\",\"display_level\":3,\"selectable\":\"T\",\"sort_sequence\":316},{\"item_code\":\"SEEB02\",\"item_name\":\"Elementary and high school tuition and fees\",\"display_level\":3,\"selectable\":\"T\",\"sort_sequence\":317},{\"item_code\":\"SEEB03\",\"item_name\":\"Day care and preschool\",\"display_level\":3,\"selectable\":\"T\",\"sort_sequence\":318},{\"item_code\":\"SEEB04\",\"item_name\":\"Technical and business school tuition and fees\",\"display_level\":3,\"selectable\":\"T\",\"sort_sequence\":319},{\"item_code\":\"SEEC\",\"item_name\":\"Postage and delivery services\",\"display_level\":2,\"selectable\":\"T\",\"sort_sequence\":321},{\"item_code\":\"SEEC01\",\"item_name\":\"Postage\",\"display_level\":3,\"selectable\":\"T\",\"sort_sequence\":322},{\"item_code\":\"SEEC02\",\"item_name\":\"Delivery services\",\"display_level\":3,\"selectable\":\"T\",\"sort_sequence\":323},{\"item_code\":\"SEED\",\"item_name\":\"Telephone services\",\"display_level\":3,\"selectable\":\"T\",\"sort_sequence\":325},{\"item_code\":\"SEED03\",\"item_name\":\"Wireless telephone services\",\"display_level\":4,\"selectable\":\"T\",\"sort_sequence\":326},{\"item_code\":\"SEED04\",\"item_name\":\"Residential telephone services\",\"display_level\":4,\"selectable\":\"T\",\"sort_sequence\":327},{\"item_code\":\"SEEE\",\"item_name\":\"Information technology, hardware and services\",\"display_level\":2,\"selectable\":\"T\",\"sort_sequence\":330},{\"item_code\":\"SEEE01\",\"item_name\":\"Computers, peripherals, and smart home assistants\",\"display_level\":3,\"selectable\":\"T\",\"sort_sequence\":331},{\"item_code\":\"SEEE02\",\"item_name\":\"Computer software and accessories\",\"display_level\":3,\"selectable\":\"T\",\"sort_sequence\":332},{\"item_code\":\"SEEE03\",\"item_name\":\"Internet services and electronic information providers\",\"display_level\":3,\"selectable\":\"T\",\"sort_sequence\":333},{\"item_code\":\"SEEE04\",\"item_name\":\"Telephone hardware, calculators, and other consumer information items\",\"display_level\":3,\"selectable\":\"T\",\"sort_sequence\":334},{\"item_code\":\"SEEEC\",\"item_name\":\"Information technology commodities\",\"display_level\":1,\"selectable\":\"T\",\"sort_sequence\":378},{\"item_code\":\"SEFA\",\"item_name\":\"Cereals and cereal products\",\"display_level\":4,\"selectable\":\"T\",\"sort_sequence\":7},{\"item_code\":\"SEFA01\",\"item_name\":\"Flour and prepared flour mixes\",\"display_level\":5,\"selectable\":\"T\",\"sort_sequence\":8},{\"item_code\":\"SEFA02\",\"item_name\":\"Breakfast cereal\",\"display_level\":5,\"selectable\":\"T\",\"sort_sequence\":9},{\"item_code\":\"SEFA03\",\"item_name\":\"Rice, pasta, cornmeal\",\"display_level\":5,\"selectable\":\"T\",\"sort_sequence\":10},{\"item_code\":\"SEFB\",\"item_name\":\"Bakery products\",\"display_level\":4,\"selectable\":\"T\",\"sort_sequence\":12},{\"item_code\":\"SEFB01\",\"item_name\":\"Bread\",\"display_level\":5,\"selectable\":\"T\",\"sort_sequence\":13},{\"item_code\":\"SEFB02\",\"item_name\":\"Fresh biscuits, rolls, muffins\",\"display_level\":5,\"selectable\":\"T\",\"sort_sequence\":16},{\"item_code\":\"SEFB03\",\"item_name\":\"Cakes, cupcakes, and cookies\",\"display_level\":5,\"selectable\":\"T\",\"sort_sequence\":17},{\"item_code\":\"SEFB04\",\"item_name\":\"Other bakery products\",\"display_level\":5,\"selectable\":\"T\",\"sort_sequence\":20},{\"item_code\":\"SEFC\",\"item_name\":\"Beef and veal\",\"display_level\":6,\"selectable\":\"T\",\"sort_sequence\":27},{\"item_code\":\"SEFC01\",\"item_name\":\"Uncooked ground beef\",\"display_level\":7,\"selectable\":\"T\",\"sort_sequence\":28},{\"item_code\":\"SEFC02\",\"item_name\":\"Uncooked beef roasts\",\"display_level\":7,\"selectable\":\"T\",\"sort_sequence\":29},{\"item_code\":\"SEFC03\",\"item_name\":\"Uncooked beef steaks\",\"display_level\":7,\"selectable\":\"T\",\"sort_sequence\":30},{\"item_code\":\"SEFC04\",\"item_name\":\"Uncooked other beef and veal\",\"display_level\":7,\"selectable\":\"T\",\"sort_sequence\":31},{\"item_code\":\"SEFD\",\"item_name\":\"Pork\",\"display_level\":6,\"selectable\":\"T\",\"sort_sequence\":32},{\"item_code\":\"SEFD01\",\"item_name\":\"Bacon, breakfast sausage, and related products\",\"display_level\":7,\"selectable\":\"T\",\"sort_sequence\":33},{\"item_code\":\"SEFD02\",\"item_name\":\"Ham\",\"display_level\":7,\"selectable\":\"T\",\"sort_sequence\":36},{\"item_code\":\"SEFD03\",\"item_name\":\"Pork chops\",\"display_level\":7,\"selectable\":\"T\",\"sort_sequence\":38},{\"item_code\":\"SEFD04\",\"item_name\":\"Other pork including roasts, steaks, and ribs\",\"display_level\":7,\"selectable\":\"T\",\"sort_sequence\":39},{\"item_code\":\"SEFE\",\"item_name\":\"Other meats\",\"display_level\":6,\"selectable\":\"T\",\"sort_sequence\":40},{\"item_code\":\"SEFF\",\"item_name\":\"Poultry\",\"display_level\":6,\"selectable\":\"T\",\"sort_sequence\":45},{\"item_code\":\"SEFF01\",\"item_name\":\"Chicken\",\"display_level\":7,\"selectable\":\"T\",\"sort_sequence\":46},{\"item_code\":\"SEFF02\",\"item_name\":\"Other uncooked poultry including turkey\",\"display_level\":6,\"selectable\":\"T\",\"sort_sequence\":49},{\"item_code\":\"SEFG\",\"item_name\":\"Fish and seafood\",\"display_level\":5,\"selectable\":\"T\",\"sort_sequence\":50},{\"item_code\":\"SEFG01\",\"item_name\":\"Fresh fish and seafood\",\"display_level\":6,\"selectable\":\"T\",\"sort_sequence\":51},{\"item_code\":\"SEFG02\",\"item_name\":\"Processed fish and seafood\",\"display_level\":6,\"selectable\":\"T\",\"sort_sequence\":52},{\"item_code\":\"SEFH\",\"item_name\":\"Eggs\",\"display_level\":4,\"selectable\":\"T\",\"sort_sequence\":55},{\"item_code\":\"SEFJ\",\"item_name\":\"Dairy and related products\",\"display_level\":3,\"selectable\":\"T\",\"sort_sequence\":56},{\"item_code\":\"SEFJ01\",\"item_name\":\"Milk\",\"display_level\":4,\"selectable\":\"T\",\"sort_sequence\":57},{\"item_code\":\"SEFJ02\",\"item_name\":\"Cheese and related products\",\"display_level\":4,\"selectable\":\"T\",\"sort_sequence\":60},{\"item_code\":\"SEFJ03\",\"item_name\":\"Ice cream and related products\",\"display_level\":4,\"selectable\":\"T\",\"sort_sequence\":61},{\"item_code\":\"SEFJ04\",\"item_name\":\"Other dairy and related products\",\"display_level\":4,\"selectable\":\"T\",\"sort_sequence\":62},{\"item_code\":\"SEFK\",\"item_name\":\"Fresh fruits\",\"display_level\":5,\"selectable\":\"T\",\"sort_sequence\":65},{\"item_code\":\"SEFK01\",\"item_name\":\"Apples\",\"display_level\":6,\"selectable\":\"T\",\"sort_sequence\":66},{\"item_code\":\"SEFK02\",\"item_name\":\"Bananas\",\"display_level\":6,\"selectable\":\"T\",\"sort_sequence\":67},{\"item_code\":\"SEFK03\",\"item_name\":\"Citrus fruits\",\"display_level\":6,\"selectable\":\"T\",\"sort_sequence\":68},{\"item_code\":\"SEFK04\",\"item_name\":\"Other fresh fruits\",\"display_level\":6,\"selectable\":\"T\",\"sort_sequence\":70},{\"item_code\":\"SEFL\",\"item_name\":\"Fresh vegetables\",\"display_level\":5,\"selectable\":\"T\",\"sort_sequence\":71},{\"item_code\":\"SEFL01\",\"item_name\":\"Potatoes\",\"display_level\":6,\"selectable\":\"T\",\"sort_sequence\":72},{\"item_code\":\"SEFL02\",\"item_name\":\"Lettuce\",\"display_level\":6,\"selectable\":\"T\",\"sort_sequence\":73},{\"item_code\":\"SEFL03\",\"item_name\":\"Tomatoes\",\"display_level\":6,\"selectable\":\"T\",\"sort_sequence\":74},{\"item_code\":\"SEFL04\",\"item_name\":\"Other fresh vegetables\",\"display_level\":6,\"selectable\":\"T\",\"sort_sequence\":75},{\"item_code\":\"SEFM\",\"item_name\":\"Processed fruits and vegetables\",\"display_level\":4,\"selectable\":\"T\",\"sort_sequence\":76},{\"item_code\":\"SEFM01\",\"item_name\":\"Canned fruits and vegetables\",\"display_level\":5,\"selectable\":\"T\",\"sort_sequence\":77},{\"item_code\":\"SEFM02\",\"item_name\":\"Frozen fruits and vegetables\",\"display_level\":5,\"selectable\":\"T\",\"sort_sequence\":80},{\"item_code\":\"SEFM03\",\"item_name\":\"Other processed fruits and vegetables including dried\",\"display_level\":5,\"selectable\":\"T\",\"sort_sequence\":82},{\"item_code\":\"SEFN\",\"item_name\":\"Juices and nonalcoholic drinks\",\"display_level\":4,\"selectable\":\"T\",\"sort_sequence\":85},{\"item_code\":\"SEFN01\",\"item_name\":\"Carbonated drinks\",\"display_level\":5,\"selectable\":\"T\",\"sort_sequence\":86},{\"item_code\":\"SEFN02\",\"item_name\":\"Frozen noncarbonated juices and drinks\",\"display_level\":5,\"selectable\":\"T\",\"sort_sequence\":87},{\"item_code\":\"SEFN03\",\"item_name\":\"Nonfrozen noncarbonated juices and drinks\",\"display_level\":5,\"selectable\":\"T\",\"sort_sequence\":88},{\"item_code\":\"SEFP\",\"item_name\":\"Beverage materials including coffee and tea\",\"display_level\":4,\"selectable\":\"T\",\"sort_sequence\":89},{\"item_code\":\"SEFP01\",\"item_name\":\"Coffee\",\"display_level\":5,\"selectable\":\"T\",\"sort_sequence\":90},{\"item_code\":\"SEFP02\",\"item_name\":\"Other beverage materials including tea\",\"display_level\":5,\"selectable\":\"T\",\"sort_sequence\":93},{\"item_code\":\"SEFR\",\"item_name\":\"Sugar and sweets\",\"display_level\":4,\"selectable\":\"T\",\"sort_sequence\":95},{\"item_code\":\"SEFR01\",\"item_name\":\"Sugar and sugar substitutes\",\"display_level\":5,\"selectable\":\"T\",\"sort_sequence\":96},{\"item_code\":\"SEFR02\",\"item_name\":\"Candy and chewing gum\",\"display_level\":5,\"selectable\":\"T\",\"sort_sequence\":97},{\"item_code\":\"SEFR03\",\"item_name\":\"Other sweets\",\"display_level\":5,\"selectable\":\"T\",\"sort_sequence\":98},{\"item_code\":\"SEFS\",\"item_name\":\"Fats and oils\",\"display_level\":4,\"selectable\":\"T\",\"sort_sequence\":99},{\"item_code\":\"SEFS01\",\"item_name\":\"Butter and margarine\",\"display_level\":5,\"selectable\":\"T\",\"sort_sequence\":100},{\"item_code\":\"SEFS02\",\"item_name\":\"Salad dressing\",\"display_level\":5,\"selectable\":\"T\",\"sort_sequence\":103},{\"item_code\":\"SEFS03\",\"item_name\":\"Other fats and oils including peanut butter\",\"display_level\":5,\"selectable\":\"T\",\"sort_sequence\":104},{\"item_code\":\"SEFT\",\"item_name\":\"Other foods\",\"display_level\":4,\"selectable\":\"T\",\"sort_sequence\":106},{\"item_code\":\"SEFT01\",\"item_name\":\"Soups\",\"display_level\":5,\"selectable\":\"T\",\"sort_sequence\":107},{\"item_code\":\"SEFT02\",\"item_name\":\"Frozen and freeze dried prepared foods\",\"display_level\":5,\"selectable\":\"T\",\"sort_sequence\":108},{\"item_code\":\"SEFT03\",\"item_name\":\"Snacks\",\"display_level\":5,\"selectable\":\"T\",\"sort_sequence\":109},{\"item_code\":\"SEFT04\",\"item_name\":\"Spices, seasonings, condiments, sauces\",\"display_level\":5,\"selectable\":\"T\",\"sort_sequence\":110},{\"item_code\":\"SEFT05\",\"item_name\":\"Baby food and formula\",\"display_level\":5,\"selectable\":\"T\",\"sort_sequence\":115},{\"item_code\":\"SEFT06\",\"item_name\":\"Other miscellaneous foods\",\"display_level\":5,\"selectable\":\"T\",\"sort_sequence\":116},{\"item_code\":\"SEFV\",\"item_name\":\"Food away from home\",\"display_level\":2,\"selectable\":\"T\",\"sort_sequence\":118},{\"item_code\":\"SEFV01\",\"item_name\":\"Full service meals and snacks\",\"display_level\":3,\"selectable\":\"T\",\"sort_sequence\":119},{\"item_code\":\"SEFV02\",\"item_name\":\"Limited service meals and snacks\",\"display_level\":3,\"selectable\":\"T\",\"sort_sequence\":120},{\"item_code\":\"SEFV03\",\"item_name\":\"Food at employee sites and schools\",\"display_level\":3,\"selectable\":\"T\",\"sort_sequence\":121},{\"item_code\":\"SEFV04\",\"item_name\":\"Food from vending machines and mobile vendors\",\"display_level\":3,\"selectable\":\"T\",\"sort_sequence\":123},{\"item_code\":\"SEFV05\",\"item_name\":\"Other food away from home\",\"display_level\":3,\"selectable\":\"T\",\"sort_sequence\":124},{\"item_code\":\"SEFW\",\"item_name\":\"Alcoholic beverages at home\",\"display_level\":3,\"selectable\":\"T\",\"sort_sequence\":126},{\"item_code\":\"SEFW01\",\"item_name\":\"Beer, ale, and other malt beverages at home\",\"display_level\":4,\"selectable\":\"T\",\"sort_sequence\":127},{\"item_code\":\"SEFW02\",\"item_name\":\"Distilled spirits at home\",\"display_level\":4,\"selectable\":\"T\",\"sort_sequence\":128},{\"item_code\":\"SEFW03\",\"item_name\":\"Wine at home\",\"display_level\":4,\"selectable\":\"T\",\"sort_sequence\":131},{\"item_code\":\"SEFX\",\"item_name\":\"Alcoholic beverages away from home\",\"display_level\":3,\"selectable\":\"T\",\"sort_sequence\":132},{\"item_code\":\"SEGA\",\"item_name\":\"Tobacco and smoking products\",\"display_level\":1,\"selectable\":\"T\",\"sort_sequence\":337},{\"item_code\":\"SEGA01\",\"item_name\":\"Cigarettes\",\"display_level\":2,\"selectable\":\"T\",\"sort_sequence\":338},{\"item_code\":\"SEGA02\",\"item_name\":\"Tobacco products other than cigarettes\",\"display_level\":2,\"selectable\":\"T\",\"sort_sequence\":339},{\"item_code\":\"SEGB\",\"item_name\":\"Personal care products\",\"display_level\":2,\"selectable\":\"T\",\"sort_sequence\":341},{\"item_code\":\"SEGB01\",\"item_name\":\"Hair, dental, shaving, and miscellaneous personal care products\",\"display_level\":3,\"selectable\":\"T\",\"sort_sequence\":342},{\"item_code\":\"SEGB02\",\"item_name\":\"Cosmetics, perfume, bath, nail preparations and implements\",\"display_level\":3,\"selectable\":\"T\",\"sort_sequence\":343},{\"item_code\":\"SEGC\",\"item_name\":\"Personal care services\",\"display_level\":2,\"selectable\":\"T\",\"sort_sequence\":344},{\"item_code\":\"SEGC01\",\"item_name\":\"Haircuts and other personal care services\",\"display_level\":3,\"selectable\":\"T\",\"sort_sequence\":345},{\"item_code\":\"SEGD\",\"item_name\":\"Miscellaneous personal services\",\"display_level\":2,\"selectable\":\"T\",\"sort_sequence\":346},{\"item_code\":\"SEGD01\",\"item_name\":\"Legal services\",\"display_level\":3,\"selectable\":\"T\",\"sort_sequence\":347},{\"item_code\":\"SEGD02\",\"item_name\":\"Funeral expenses\",\"display_level\":3,\"selectable\":\"T\",\"sort_sequence\":348},{\"item_code\":\"SEGD03\",\"item_name\":\"Laundry and dry cleaning services\",\"display_level\":3,\"selectable\":\"T\",\"sort_sequence\":349},{\"item_code\":\"SEGD04\",\"item_name\":\"Apparel services other than laundry and dry cleaning\",\"display_level\":3,\"selectable\":\"T\",\"sort_sequence\":350},{\"item_code\":\"SEGD05\",\"item_name\":\"Financial services\",\"display_level\":3,\"selectable\":\"T\",\"sort_sequence\":351},{\"item_code\":\"SEGE\",\"item_name\":\"Miscellaneous personal goods\",\"display_level\":2,\"selectable\":\"T\",\"sort_sequence\":354},{\"item_code\":\"SEHA\",\"item_name\":\"Rent of primary residence\",\"display_level\":2,\"selectable\":\"T\",\"sort_sequence\":138},{\"item_code\":\"SEHB\",\"item_name\":\"Lodging away from home\",\"display_level\":2,\"selectable\":\"T\",\"sort_sequence\":139},{\"item_code\":\"SEHB01\",\"item_name\":\"Housing at school, excluding board\",\"display_level\":3,\"selectable\":\"T\",\"sort_sequence\":140},{\"item_code\":\"SEHB02\",\"item_name\":\"Other lodging away from home including hotels and motels\",\"display_level\":3,\"selectable\":\"T\",\"sort_sequence\":141},{\"item_code\":\"SEHC\",\"item_name\":\"Owners\\' equivalent rent of residences\",\"display_level\":2,\"selectable\":\"T\",\"sort_sequence\":142},{\"item_code\":\"SEHC01\",\"item_name\":\"Owners\\' equivalent rent of primary residence\",\"display_level\":3,\"selectable\":\"T\",\"sort_sequence\":143},{\"item_code\":\"SEHD\",\"item_name\":\"Tenants\\' and household insurance\",\"display_level\":2,\"selectable\":\"T\",\"sort_sequence\":144},{\"item_code\":\"SEHE\",\"item_name\":\"Fuel oil and other fuels\",\"display_level\":3,\"selectable\":\"T\",\"sort_sequence\":147},{\"item_code\":\"SEHE01\",\"item_name\":\"Fuel oil\",\"display_level\":4,\"selectable\":\"T\",\"sort_sequence\":148},{\"item_code\":\"SEHE02\",\"item_name\":\"Propane, kerosene, and firewood\",\"display_level\":4,\"selectable\":\"T\",\"sort_sequence\":149},{\"item_code\":\"SEHF\",\"item_name\":\"Energy services\",\"display_level\":3,\"selectable\":\"T\",\"sort_sequence\":150},{\"item_code\":\"SEHF01\",\"item_name\":\"Electricity\",\"display_level\":4,\"selectable\":\"T\",\"sort_sequence\":151},{\"item_code\":\"SEHF02\",\"item_name\":\"Utility (piped) gas service\",\"display_level\":4,\"selectable\":\"T\",\"sort_sequence\":152},{\"item_code\":\"SEHG\",\"item_name\":\"Water and sewer and trash collection services\",\"display_level\":2,\"selectable\":\"T\",\"sort_sequence\":153},{\"item_code\":\"SEHG01\",\"item_name\":\"Water and sewerage maintenance\",\"display_level\":3,\"selectable\":\"T\",\"sort_sequence\":154},{\"item_code\":\"SEHG02\",\"item_name\":\"Garbage and trash collection\",\"display_level\":3,\"selectable\":\"T\",\"sort_sequence\":155},{\"item_code\":\"SEHH\",\"item_name\":\"Window and floor coverings and other linens\",\"display_level\":2,\"selectable\":\"T\",\"sort_sequence\":157},{\"item_code\":\"SEHH01\",\"item_name\":\"Floor coverings\",\"display_level\":3,\"selectable\":\"T\",\"sort_sequence\":158},{\"item_code\":\"SEHH02\",\"item_name\":\"Window coverings\",\"display_level\":3,\"selectable\":\"T\",\"sort_sequence\":159},{\"item_code\":\"SEHH03\",\"item_name\":\"Other linens\",\"display_level\":3,\"selectable\":\"T\",\"sort_sequence\":160},{\"item_code\":\"SEHJ\",\"item_name\":\"Furniture and bedding\",\"display_level\":2,\"selectable\":\"T\",\"sort_sequence\":161},{\"item_code\":\"SEHJ01\",\"item_name\":\"Bedroom furniture\",\"display_level\":3,\"selectable\":\"T\",\"sort_sequence\":162},{\"item_code\":\"SEHJ02\",\"item_name\":\"Living room, kitchen, and dining room furniture\",\"display_level\":3,\"selectable\":\"T\",\"sort_sequence\":163},{\"item_code\":\"SEHJ03\",\"item_name\":\"Other furniture\",\"display_level\":3,\"selectable\":\"T\",\"sort_sequence\":164},{\"item_code\":\"SEHK\",\"item_name\":\"Appliances\",\"display_level\":2,\"selectable\":\"T\",\"sort_sequence\":166},{\"item_code\":\"SEHK01\",\"item_name\":\"Major appliances\",\"display_level\":3,\"selectable\":\"T\",\"sort_sequence\":167},{\"item_code\":\"SEHK02\",\"item_name\":\"Other appliances\",\"display_level\":3,\"selectable\":\"T\",\"sort_sequence\":169},{\"item_code\":\"SEHL\",\"item_name\":\"Other household equipment and furnishings\",\"display_level\":2,\"selectable\":\"T\",\"sort_sequence\":170},{\"item_code\":\"SEHL01\",\"item_name\":\"Clocks, lamps, and decorator items\",\"display_level\":3,\"selectable\":\"T\",\"sort_sequence\":171},{\"item_code\":\"SEHL02\",\"item_name\":\"Indoor plants and flowers\",\"display_level\":3,\"selectable\":\"T\",\"sort_sequence\":172},{\"item_code\":\"SEHL03\",\"item_name\":\"Dishes and flatware\",\"display_level\":3,\"selectable\":\"T\",\"sort_sequence\":173},{\"item_code\":\"SEHL04\",\"item_name\":\"Nonelectric cookware and tableware\",\"display_level\":3,\"selectable\":\"T\",\"sort_sequence\":174},{\"item_code\":\"SEHM\",\"item_name\":\"Tools, hardware, outdoor equipment and supplies\",\"display_level\":2,\"selectable\":\"T\",\"sort_sequence\":175},{\"item_code\":\"SEHM01\",\"item_name\":\"Tools, hardware and supplies\",\"display_level\":3,\"selectable\":\"T\",\"sort_sequence\":176},{\"item_code\":\"SEHM02\",\"item_name\":\"Outdoor equipment and supplies\",\"display_level\":3,\"selectable\":\"T\",\"sort_sequence\":177},{\"item_code\":\"SEHN\",\"item_name\":\"Housekeeping supplies\",\"display_level\":2,\"selectable\":\"T\",\"sort_sequence\":178},{\"item_code\":\"SEHN01\",\"item_name\":\"Household cleaning products\",\"display_level\":3,\"selectable\":\"T\",\"sort_sequence\":179},{\"item_code\":\"SEHN02\",\"item_name\":\"Household paper products\",\"display_level\":3,\"selectable\":\"T\",\"sort_sequence\":180},{\"item_code\":\"SEHN03\",\"item_name\":\"Miscellaneous household products\",\"display_level\":3,\"selectable\":\"T\",\"sort_sequence\":181},{\"item_code\":\"SEHP\",\"item_name\":\"Household operations\",\"display_level\":2,\"selectable\":\"T\",\"sort_sequence\":182},{\"item_code\":\"SEHP01\",\"item_name\":\"Domestic services\",\"display_level\":3,\"selectable\":\"T\",\"sort_sequence\":183},{\"item_code\":\"SEHP02\",\"item_name\":\"Gardening and lawncare services\",\"display_level\":3,\"selectable\":\"T\",\"sort_sequence\":184},{\"item_code\":\"SEHP03\",\"item_name\":\"Moving, storage, freight expense\",\"display_level\":3,\"selectable\":\"T\",\"sort_sequence\":185},{\"item_code\":\"SEHP04\",\"item_name\":\"Repair of household items\",\"display_level\":3,\"selectable\":\"T\",\"sort_sequence\":186},{\"item_code\":\"SEMC\",\"item_name\":\"Professional services\",\"display_level\":2,\"selectable\":\"T\",\"sort_sequence\":257},{\"item_code\":\"SEMC01\",\"item_name\":\"Physicians\\' services\",\"display_level\":3,\"selectable\":\"T\",\"sort_sequence\":258},{\"item_code\":\"SEMC02\",\"item_name\":\"Dental services\",\"display_level\":3,\"selectable\":\"T\",\"sort_sequence\":259},{\"item_code\":\"SEMC03\",\"item_name\":\"Eyeglasses and eye care\",\"display_level\":3,\"selectable\":\"T\",\"sort_sequence\":260},{\"item_code\":\"SEMC04\",\"item_name\":\"Services by other medical professionals\",\"display_level\":3,\"selectable\":\"T\",\"sort_sequence\":261},{\"item_code\":\"SEMD\",\"item_name\":\"Hospital and related services\",\"display_level\":2,\"selectable\":\"T\",\"sort_sequence\":262},{\"item_code\":\"SEMD01\",\"item_name\":\"Hospital services\",\"display_level\":3,\"selectable\":\"T\",\"sort_sequence\":263},{\"item_code\":\"SEMD02\",\"item_name\":\"Nursing homes and adult day services\",\"display_level\":3,\"selectable\":\"T\",\"sort_sequence\":266},{\"item_code\":\"SEMD03\",\"item_name\":\"Care of invalids and elderly at home\",\"display_level\":3,\"selectable\":\"T\",\"sort_sequence\":267},{\"item_code\":\"SEME\",\"item_name\":\"Health insurance\",\"display_level\":2,\"selectable\":\"T\",\"sort_sequence\":268},{\"item_code\":\"SEMF\",\"item_name\":\"Medicinal drugs\",\"display_level\":2,\"selectable\":\"T\",\"sort_sequence\":252},{\"item_code\":\"SEMF01\",\"item_name\":\"Prescription drugs\",\"display_level\":3,\"selectable\":\"T\",\"sort_sequence\":253},{\"item_code\":\"SEMF02\",\"item_name\":\"Nonprescription drugs\",\"display_level\":3,\"selectable\":\"T\",\"sort_sequence\":254},{\"item_code\":\"SEMG\",\"item_name\":\"Medical equipment and supplies\",\"display_level\":2,\"selectable\":\"T\",\"sort_sequence\":255},{\"item_code\":\"SERA\",\"item_name\":\"Video and audio\",\"display_level\":1,\"selectable\":\"T\",\"sort_sequence\":270},{\"item_code\":\"SERA01\",\"item_name\":\"Televisions\",\"display_level\":2,\"selectable\":\"T\",\"sort_sequence\":271},{\"item_code\":\"SERA02\",\"item_name\":\"Cable, satellite, and live streaming television service\",\"display_level\":2,\"selectable\":\"T\",\"sort_sequence\":272},{\"item_code\":\"SERA03\",\"item_name\":\"Other video equipment\",\"display_level\":2,\"selectable\":\"T\",\"sort_sequence\":273},{\"item_code\":\"SERA04\",\"item_name\":\"Purchase, subscription, and rental of video\",\"display_level\":2,\"selectable\":\"T\",\"sort_sequence\":274},{\"item_code\":\"SERA05\",\"item_name\":\"Audio equipment\",\"display_level\":2,\"selectable\":\"T\",\"sort_sequence\":277},{\"item_code\":\"SERA06\",\"item_name\":\"Recorded music and music subscriptions\",\"display_level\":2,\"selectable\":\"T\",\"sort_sequence\":278},{\"item_code\":\"SERAC\",\"item_name\":\"Video and audio products\",\"display_level\":1,\"selectable\":\"T\",\"sort_sequence\":397},{\"item_code\":\"SERAS\",\"item_name\":\"Video and audio services\",\"display_level\":1,\"selectable\":\"T\",\"sort_sequence\":398},{\"item_code\":\"SERB\",\"item_name\":\"Pets, pet products and services\",\"display_level\":1,\"selectable\":\"T\",\"sort_sequence\":279},{\"item_code\":\"SERB01\",\"item_name\":\"Pets and pet products\",\"display_level\":2,\"selectable\":\"T\",\"sort_sequence\":280},{\"item_code\":\"SERB02\",\"item_name\":\"Pet services including veterinary\",\"display_level\":2,\"selectable\":\"T\",\"sort_sequence\":283},{\"item_code\":\"SERC\",\"item_name\":\"Sporting goods\",\"display_level\":1,\"selectable\":\"T\",\"sort_sequence\":286},{\"item_code\":\"SERC01\",\"item_name\":\"Sports vehicles including bicycles\",\"display_level\":2,\"selectable\":\"T\",\"sort_sequence\":287},{\"item_code\":\"SERC02\",\"item_name\":\"Sports equipment\",\"display_level\":2,\"selectable\":\"T\",\"sort_sequence\":288},{\"item_code\":\"SERD\",\"item_name\":\"Photography\",\"display_level\":1,\"selectable\":\"T\",\"sort_sequence\":289},{\"item_code\":\"SERD01\",\"item_name\":\"Photographic equipment and supplies\",\"display_level\":2,\"selectable\":\"T\",\"sort_sequence\":290},{\"item_code\":\"SERD02\",\"item_name\":\"Photographers and photo processing\",\"display_level\":2,\"selectable\":\"T\",\"sort_sequence\":293},{\"item_code\":\"SERE\",\"item_name\":\"Other recreational goods\",\"display_level\":1,\"selectable\":\"T\",\"sort_sequence\":296},{\"item_code\":\"SERE01\",\"item_name\":\"Toys\",\"display_level\":2,\"selectable\":\"T\",\"sort_sequence\":297},{\"item_code\":\"SERE02\",\"item_name\":\"Sewing machines, fabric and supplies\",\"display_level\":2,\"selectable\":\"T\",\"sort_sequence\":300},{\"item_code\":\"SERE03\",\"item_name\":\"Music instruments and accessories\",\"display_level\":2,\"selectable\":\"T\",\"sort_sequence\":301},{\"item_code\":\"SERF\",\"item_name\":\"Other recreation services\",\"display_level\":1,\"selectable\":\"T\",\"sort_sequence\":302},{\"item_code\":\"SERF01\",\"item_name\":\"Club membership for shopping clubs, fraternal, or other organizations, or participant sports fees\",\"display_level\":2,\"selectable\":\"T\",\"sort_sequence\":303},{\"item_code\":\"SERF02\",\"item_name\":\"Admissions\",\"display_level\":2,\"selectable\":\"T\",\"sort_sequence\":304},{\"item_code\":\"SERF03\",\"item_name\":\"Fees for lessons or instructions\",\"display_level\":2,\"selectable\":\"T\",\"sort_sequence\":307},{\"item_code\":\"SERG\",\"item_name\":\"Recreational reading materials\",\"display_level\":1,\"selectable\":\"T\",\"sort_sequence\":308},{\"item_code\":\"SERG01\",\"item_name\":\"Newspapers and magazines\",\"display_level\":2,\"selectable\":\"T\",\"sort_sequence\":309},{\"item_code\":\"SERG02\",\"item_name\":\"Recreational books\",\"display_level\":2,\"selectable\":\"T\",\"sort_sequence\":310},{\"item_code\":\"SETA\",\"item_name\":\"New and used motor vehicles\",\"display_level\":2,\"selectable\":\"T\",\"sort_sequence\":212},{\"item_code\":\"SETA01\",\"item_name\":\"New vehicles\",\"display_level\":3,\"selectable\":\"T\",\"sort_sequence\":213},{\"item_code\":\"SETA02\",\"item_name\":\"Used cars and trucks\",\"display_level\":3,\"selectable\":\"T\",\"sort_sequence\":218},{\"item_code\":\"SETA03\",\"item_name\":\"Leased cars and trucks\",\"display_level\":3,\"selectable\":\"T\",\"sort_sequence\":219},{\"item_code\":\"SETA04\",\"item_name\":\"Car and truck rental\",\"display_level\":3,\"selectable\":\"T\",\"sort_sequence\":220},{\"item_code\":\"SETB\",\"item_name\":\"Motor fuel\",\"display_level\":2,\"selectable\":\"T\",\"sort_sequence\":221},{\"item_code\":\"SETB01\",\"item_name\":\"Gasoline (all types)\",\"display_level\":3,\"selectable\":\"T\",\"sort_sequence\":222},{\"item_code\":\"SETB02\",\"item_name\":\"Other motor fuels\",\"display_level\":3,\"selectable\":\"T\",\"sort_sequence\":226},{\"item_code\":\"SETC\",\"item_name\":\"Motor vehicle parts and equipment\",\"display_level\":2,\"selectable\":\"T\",\"sort_sequence\":227},{\"item_code\":\"SETC01\",\"item_name\":\"Tires\",\"display_level\":3,\"selectable\":\"T\",\"sort_sequence\":228},{\"item_code\":\"SETC02\",\"item_name\":\"Vehicle accessories other than tires\",\"display_level\":3,\"selectable\":\"T\",\"sort_sequence\":229},{\"item_code\":\"SETD\",\"item_name\":\"Motor vehicle maintenance and repair\",\"display_level\":2,\"selectable\":\"T\",\"sort_sequence\":232},{\"item_code\":\"SETD01\",\"item_name\":\"Motor vehicle body work\",\"display_level\":3,\"selectable\":\"T\",\"sort_sequence\":233},{\"item_code\":\"SETD02\",\"item_name\":\"Motor vehicle maintenance and servicing\",\"display_level\":3,\"selectable\":\"T\",\"sort_sequence\":234},{\"item_code\":\"SETD03\",\"item_name\":\"Motor vehicle repair\",\"display_level\":3,\"selectable\":\"T\",\"sort_sequence\":235},{\"item_code\":\"SETE\",\"item_name\":\"Motor vehicle insurance\",\"display_level\":2,\"selectable\":\"T\",\"sort_sequence\":236},{\"item_code\":\"SETF\",\"item_name\":\"Motor vehicle fees\",\"display_level\":2,\"selectable\":\"T\",\"sort_sequence\":237},{\"item_code\":\"SETF01\",\"item_name\":\"State motor vehicle registration and license fees\",\"display_level\":3,\"selectable\":\"T\",\"sort_sequence\":238},{\"item_code\":\"SETF03\",\"item_name\":\"Parking and other fees\",\"display_level\":3,\"selectable\":\"T\",\"sort_sequence\":239},{\"item_code\":\"SETG\",\"item_name\":\"Public transportation\",\"display_level\":1,\"selectable\":\"T\",\"sort_sequence\":242},{\"item_code\":\"SETG01\",\"item_name\":\"Airline fares\",\"display_level\":2,\"selectable\":\"T\",\"sort_sequence\":243},{\"item_code\":\"SETG02\",\"item_name\":\"Other intercity transportation\",\"display_level\":2,\"selectable\":\"T\",\"sort_sequence\":244},{\"item_code\":\"SETG03\",\"item_name\":\"Intracity transportation\",\"display_level\":2,\"selectable\":\"T\",\"sort_sequence\":248},{\"item_code\":\"SS01031\",\"item_name\":\"Rice\",\"display_level\":6,\"selectable\":\"T\",\"sort_sequence\":11},{\"item_code\":\"SS02011\",\"item_name\":\"White bread\",\"display_level\":6,\"selectable\":\"T\",\"sort_sequence\":14},{\"item_code\":\"SS02021\",\"item_name\":\"Bread other than white\",\"display_level\":6,\"selectable\":\"T\",\"sort_sequence\":15},{\"item_code\":\"SS02041\",\"item_name\":\"Fresh cakes and cupcakes\",\"display_level\":6,\"selectable\":\"T\",\"sort_sequence\":18},{\"item_code\":\"SS02042\",\"item_name\":\"Cookies\",\"display_level\":6,\"selectable\":\"T\",\"sort_sequence\":19},{\"item_code\":\"SS02063\",\"item_name\":\"Fresh sweetrolls, coffeecakes, doughnuts\",\"display_level\":6,\"selectable\":\"T\",\"sort_sequence\":21},{\"item_code\":\"SS0206A\",\"item_name\":\"Crackers, bread, and cracker products\",\"display_level\":6,\"selectable\":\"T\",\"sort_sequence\":22},{\"item_code\":\"SS0206B\",\"item_name\":\"Frozen and refrigerated bakery products, pies, tarts, turnovers\",\"display_level\":6,\"selectable\":\"T\",\"sort_sequence\":23},{\"item_code\":\"SS04011\",\"item_name\":\"Bacon and related products\",\"display_level\":8,\"selectable\":\"T\",\"sort_sequence\":34},{\"item_code\":\"SS04012\",\"item_name\":\"Breakfast sausage and related products\",\"display_level\":8,\"selectable\":\"T\",\"sort_sequence\":35},{\"item_code\":\"SS04031\",\"item_name\":\"Ham, excluding canned\",\"display_level\":8,\"selectable\":\"T\",\"sort_sequence\":37},{\"item_code\":\"SS05011\",\"item_name\":\"Frankfurters\",\"display_level\":7,\"selectable\":\"T\",\"sort_sequence\":41},{\"item_code\":\"SS05014\",\"item_name\":\"Lamb and organ meats\",\"display_level\":7,\"selectable\":\"T\",\"sort_sequence\":43},{\"item_code\":\"SS05015\",\"item_name\":\"Lamb and mutton\",\"display_level\":7,\"selectable\":\"T\",\"sort_sequence\":44},{\"item_code\":\"SS0501A\",\"item_name\":\"Lunchmeats\",\"display_level\":7,\"selectable\":\"T\",\"sort_sequence\":42},{\"item_code\":\"SS06011\",\"item_name\":\"Fresh whole chicken\",\"display_level\":7,\"selectable\":\"T\",\"sort_sequence\":47},{\"item_code\":\"SS06021\",\"item_name\":\"Fresh and frozen chicken parts\",\"display_level\":7,\"selectable\":\"T\",\"sort_sequence\":48},{\"item_code\":\"SS07011\",\"item_name\":\"Shelf stable fish and seafood\",\"display_level\":7,\"selectable\":\"T\",\"sort_sequence\":53},{\"item_code\":\"SS07021\",\"item_name\":\"Frozen fish and seafood\",\"display_level\":7,\"selectable\":\"T\",\"sort_sequence\":54},{\"item_code\":\"SS09011\",\"item_name\":\"Fresh whole milk\",\"display_level\":5,\"selectable\":\"T\",\"sort_sequence\":58},{\"item_code\":\"SS09021\",\"item_name\":\"Fresh milk other than whole\",\"display_level\":5,\"selectable\":\"T\",\"sort_sequence\":59},{\"item_code\":\"SS10011\",\"item_name\":\"Butter\",\"display_level\":6,\"selectable\":\"T\",\"sort_sequence\":101},{\"item_code\":\"SS11031\",\"item_name\":\"Oranges, including tangerines\",\"display_level\":7,\"selectable\":\"T\",\"sort_sequence\":69},{\"item_code\":\"SS13031\",\"item_name\":\"Canned fruits\",\"display_level\":6,\"selectable\":\"T\",\"sort_sequence\":78},{\"item_code\":\"SS14011\",\"item_name\":\"Frozen vegetables\",\"display_level\":6,\"selectable\":\"T\",\"sort_sequence\":81},{\"item_code\":\"SS14021\",\"item_name\":\"Canned vegetables\",\"display_level\":6,\"selectable\":\"T\",\"sort_sequence\":79},{\"item_code\":\"SS14022\",\"item_name\":\"Dried beans, peas, and lentils\",\"display_level\":6,\"selectable\":\"T\",\"sort_sequence\":83},{\"item_code\":\"SS16011\",\"item_name\":\"Margarine\",\"display_level\":6,\"selectable\":\"T\",\"sort_sequence\":102},{\"item_code\":\"SS16014\",\"item_name\":\"Peanut butter\",\"display_level\":6,\"selectable\":\"T\",\"sort_sequence\":105},{\"item_code\":\"SS17031\",\"item_name\":\"Roasted coffee\",\"display_level\":6,\"selectable\":\"T\",\"sort_sequence\":91},{\"item_code\":\"SS17032\",\"item_name\":\"Instant coffee\",\"display_level\":6,\"selectable\":\"T\",\"sort_sequence\":92},{\"item_code\":\"SS18041\",\"item_name\":\"Salt and other seasonings and spices\",\"display_level\":6,\"selectable\":\"T\",\"sort_sequence\":111},{\"item_code\":\"SS18042\",\"item_name\":\"Olives, pickles, relishes\",\"display_level\":6,\"selectable\":\"T\",\"sort_sequence\":112},{\"item_code\":\"SS18043\",\"item_name\":\"Sauces and gravies\",\"display_level\":6,\"selectable\":\"T\",\"sort_sequence\":113},{\"item_code\":\"SS1804B\",\"item_name\":\"Other condiments\",\"display_level\":6,\"selectable\":\"T\",\"sort_sequence\":114},{\"item_code\":\"SS18064\",\"item_name\":\"Prepared salads\",\"display_level\":6,\"selectable\":\"T\",\"sort_sequence\":117},{\"item_code\":\"SS20021\",\"item_name\":\"Whiskey at home\",\"display_level\":5,\"selectable\":\"T\",\"sort_sequence\":129},{\"item_code\":\"SS20022\",\"item_name\":\"Distilled spirits, excluding whiskey, at home\",\"display_level\":5,\"selectable\":\"T\",\"sort_sequence\":130},{\"item_code\":\"SS20051\",\"item_name\":\"Beer, ale, and other malt beverages away from home\",\"display_level\":4,\"selectable\":\"T\",\"sort_sequence\":133},{\"item_code\":\"SS20052\",\"item_name\":\"Wine away from home\",\"display_level\":4,\"selectable\":\"T\",\"sort_sequence\":134},{\"item_code\":\"SS20053\",\"item_name\":\"Distilled spirits away from home\",\"display_level\":4,\"selectable\":\"T\",\"sort_sequence\":135},{\"item_code\":\"SS27051\",\"item_name\":\"Land-line interstate toll calls\",\"display_level\":5,\"selectable\":\"T\",\"sort_sequence\":328},{\"item_code\":\"SS27061\",\"item_name\":\"Land-line intrastate toll calls\",\"display_level\":5,\"selectable\":\"T\",\"sort_sequence\":329},{\"item_code\":\"SS30021\",\"item_name\":\"Laundry equipment\",\"display_level\":4,\"selectable\":\"T\",\"sort_sequence\":168},{\"item_code\":\"SS31022\",\"item_name\":\"Video discs and other media\",\"display_level\":3,\"selectable\":\"T\",\"sort_sequence\":275},{\"item_code\":\"SS31023\",\"item_name\":\"Video game hardware, software and accessories\",\"display_level\":3,\"selectable\":\"T\",\"sort_sequence\":299},{\"item_code\":\"SS33032\",\"item_name\":\"Stationery, stationery supplies, gift wrap\",\"display_level\":3,\"selectable\":\"T\",\"sort_sequence\":355},{\"item_code\":\"SS45011\",\"item_name\":\"New cars\",\"display_level\":4,\"selectable\":\"T\",\"sort_sequence\":215},{\"item_code\":\"SS4501A\",\"item_name\":\"New cars and trucks\",\"display_level\":4,\"selectable\":\"T\",\"sort_sequence\":214},{\"item_code\":\"SS45021\",\"item_name\":\"New trucks\",\"display_level\":4,\"selectable\":\"T\",\"sort_sequence\":216},{\"item_code\":\"SS45031\",\"item_name\":\"New motorcycles\",\"display_level\":4,\"selectable\":\"T\",\"sort_sequence\":217},{\"item_code\":\"SS47014\",\"item_name\":\"Gasoline, unleaded regular\",\"display_level\":4,\"selectable\":\"T\",\"sort_sequence\":223},{\"item_code\":\"SS47015\",\"item_name\":\"Gasoline, unleaded midgrade\",\"display_level\":4,\"selectable\":\"T\",\"sort_sequence\":224},{\"item_code\":\"SS47016\",\"item_name\":\"Gasoline, unleaded premium\",\"display_level\":4,\"selectable\":\"T\",\"sort_sequence\":225},{\"item_code\":\"SS47021\",\"item_name\":\"Motor oil, coolant, and fluids\",\"display_level\":4,\"selectable\":\"T\",\"sort_sequence\":231},{\"item_code\":\"SS48021\",\"item_name\":\"Vehicle parts and equipment other than tires\",\"display_level\":4,\"selectable\":\"T\",\"sort_sequence\":230},{\"item_code\":\"SS52051\",\"item_name\":\"Parking fees and tolls\",\"display_level\":4,\"selectable\":\"T\",\"sort_sequence\":240},{\"item_code\":\"SS53021\",\"item_name\":\"Intercity bus fare\",\"display_level\":3,\"selectable\":\"T\",\"sort_sequence\":245},{\"item_code\":\"SS53022\",\"item_name\":\"Intercity train fare\",\"display_level\":3,\"selectable\":\"T\",\"sort_sequence\":246},{\"item_code\":\"SS53023\",\"item_name\":\"Ship fare\",\"display_level\":3,\"selectable\":\"T\",\"sort_sequence\":247},{\"item_code\":\"SS53031\",\"item_name\":\"Intracity mass transit\",\"display_level\":3,\"selectable\":\"T\",\"sort_sequence\":249},{\"item_code\":\"SS5702\",\"item_name\":\"Inpatient hospital services\",\"display_level\":4,\"selectable\":\"T\",\"sort_sequence\":264},{\"item_code\":\"SS5703\",\"item_name\":\"Outpatient hospital services\",\"display_level\":4,\"selectable\":\"T\",\"sort_sequence\":265},{\"item_code\":\"SS61011\",\"item_name\":\"Toys, games, hobbies and playground equipment\",\"display_level\":3,\"selectable\":\"T\",\"sort_sequence\":298},{\"item_code\":\"SS61021\",\"item_name\":\"Film and photographic supplies\",\"display_level\":3,\"selectable\":\"T\",\"sort_sequence\":291},{\"item_code\":\"SS61023\",\"item_name\":\"Photographic equipment\",\"display_level\":3,\"selectable\":\"T\",\"sort_sequence\":292},{\"item_code\":\"SS61031\",\"item_name\":\"Pet food\",\"display_level\":3,\"selectable\":\"T\",\"sort_sequence\":281},{\"item_code\":\"SS61032\",\"item_name\":\"Purchase of pets, pet supplies, accessories\",\"display_level\":3,\"selectable\":\"T\",\"sort_sequence\":282},{\"item_code\":\"SS62011\",\"item_name\":\"Automobile service clubs\",\"display_level\":4,\"selectable\":\"T\",\"sort_sequence\":241},{\"item_code\":\"SS62031\",\"item_name\":\"Admission to movies, theaters, and concerts\",\"display_level\":3,\"selectable\":\"T\",\"sort_sequence\":305},{\"item_code\":\"SS62032\",\"item_name\":\"Admission to sporting events\",\"display_level\":3,\"selectable\":\"T\",\"sort_sequence\":306},{\"item_code\":\"SS62051\",\"item_name\":\"Photographer fees\",\"display_level\":3,\"selectable\":\"T\",\"sort_sequence\":294},{\"item_code\":\"SS62052\",\"item_name\":\"Photo Processing\",\"display_level\":3,\"selectable\":\"T\",\"sort_sequence\":295},{\"item_code\":\"SS62053\",\"item_name\":\"Pet services\",\"display_level\":3,\"selectable\":\"T\",\"sort_sequence\":284},{\"item_code\":\"SS62054\",\"item_name\":\"Veterinarian services\",\"display_level\":3,\"selectable\":\"T\",\"sort_sequence\":285},{\"item_code\":\"SS62055\",\"item_name\":\"Subscription and rental of video and video games\",\"display_level\":3,\"selectable\":\"T\",\"sort_sequence\":276},{\"item_code\":\"SS68021\",\"item_name\":\"Checking account and other bank services\",\"display_level\":4,\"selectable\":\"T\",\"sort_sequence\":352},{\"item_code\":\"SS68023\",\"item_name\":\"Tax return preparation and other accounting fees\",\"display_level\":4,\"selectable\":\"T\",\"sort_sequence\":353},{\"item_code\":\"SSEA011\",\"item_name\":\"College textbooks\",\"display_level\":3,\"selectable\":\"T\",\"sort_sequence\":314},{\"item_code\":\"SSEE041\",\"item_name\":\"Smartphones\",\"display_level\":4,\"selectable\":\"T\",\"sort_sequence\":335},{\"item_code\":\"SSFV031A\",\"item_name\":\"Food at elementary and secondary schools\",\"display_level\":3,\"selectable\":\"T\",\"sort_sequence\":122},{\"item_code\":\"SSGE013\",\"item_name\":\"Infants\\' equipment\",\"display_level\":3,\"selectable\":\"T\",\"sort_sequence\":356},{\"item_code\":\"SSHJ031\",\"item_name\":\"Infants\\' furniture\",\"display_level\":3,\"selectable\":\"T\",\"sort_sequence\":165}]'"
      ]
     },
     "execution_count": 53,
     "metadata": {},
     "output_type": "execute_result"
    }
   ],
   "source": [
    "df_json=df.to_json(orient=\"records\")#column-value\n",
    "df_json"
   ]
  },
  {
   "cell_type": "code",
   "execution_count": 57,
   "id": "ee3b1bd5",
   "metadata": {},
   "outputs": [],
   "source": [
    "#pickling\n",
    "data.to_pickle('df_excel')"
   ]
  },
  {
   "cell_type": "code",
   "execution_count": 59,
   "id": "f84c1157",
   "metadata": {},
   "outputs": [
    {
     "ename": "ValueError",
     "evalue": "Invalid file path or buffer object type: <class 'pandas.core.frame.DataFrame'>",
     "output_type": "error",
     "traceback": [
      "\u001b[1;31m---------------------------------------------------------------------------\u001b[0m",
      "\u001b[1;31mValueError\u001b[0m                                Traceback (most recent call last)",
      "Cell \u001b[1;32mIn[59], line 1\u001b[0m\n\u001b[1;32m----> 1\u001b[0m df_pickle\u001b[38;5;241m=\u001b[39m\u001b[43mpd\u001b[49m\u001b[38;5;241;43m.\u001b[39;49m\u001b[43mread_pickle\u001b[49m\u001b[43m(\u001b[49m\u001b[43mdata\u001b[49m\u001b[43m)\u001b[49m\n\u001b[0;32m      2\u001b[0m df_pickle\u001b[38;5;241m.\u001b[39mhead()\n",
      "File \u001b[1;32m~\\AppData\\Local\\Programs\\Python\\Python310\\lib\\site-packages\\pandas\\io\\pickle.py:179\u001b[0m, in \u001b[0;36mread_pickle\u001b[1;34m(filepath_or_buffer, compression, storage_options)\u001b[0m\n\u001b[0;32m    115\u001b[0m \u001b[38;5;250m\u001b[39m\u001b[38;5;124;03m\"\"\"\u001b[39;00m\n\u001b[0;32m    116\u001b[0m \u001b[38;5;124;03mLoad pickled pandas object (or any object) from file.\u001b[39;00m\n\u001b[0;32m    117\u001b[0m \n\u001b[1;32m   (...)\u001b[0m\n\u001b[0;32m    176\u001b[0m \u001b[38;5;124;03m4    4    9\u001b[39;00m\n\u001b[0;32m    177\u001b[0m \u001b[38;5;124;03m\"\"\"\u001b[39;00m\n\u001b[0;32m    178\u001b[0m excs_to_catch \u001b[38;5;241m=\u001b[39m (\u001b[38;5;167;01mAttributeError\u001b[39;00m, \u001b[38;5;167;01mImportError\u001b[39;00m, \u001b[38;5;167;01mModuleNotFoundError\u001b[39;00m, \u001b[38;5;167;01mTypeError\u001b[39;00m)\n\u001b[1;32m--> 179\u001b[0m \u001b[38;5;28;01mwith\u001b[39;00m \u001b[43mget_handle\u001b[49m\u001b[43m(\u001b[49m\n\u001b[0;32m    180\u001b[0m \u001b[43m    \u001b[49m\u001b[43mfilepath_or_buffer\u001b[49m\u001b[43m,\u001b[49m\n\u001b[0;32m    181\u001b[0m \u001b[43m    \u001b[49m\u001b[38;5;124;43m\"\u001b[39;49m\u001b[38;5;124;43mrb\u001b[39;49m\u001b[38;5;124;43m\"\u001b[39;49m\u001b[43m,\u001b[49m\n\u001b[0;32m    182\u001b[0m \u001b[43m    \u001b[49m\u001b[43mcompression\u001b[49m\u001b[38;5;241;43m=\u001b[39;49m\u001b[43mcompression\u001b[49m\u001b[43m,\u001b[49m\n\u001b[0;32m    183\u001b[0m \u001b[43m    \u001b[49m\u001b[43mis_text\u001b[49m\u001b[38;5;241;43m=\u001b[39;49m\u001b[38;5;28;43;01mFalse\u001b[39;49;00m\u001b[43m,\u001b[49m\n\u001b[0;32m    184\u001b[0m \u001b[43m    \u001b[49m\u001b[43mstorage_options\u001b[49m\u001b[38;5;241;43m=\u001b[39;49m\u001b[43mstorage_options\u001b[49m\u001b[43m,\u001b[49m\n\u001b[0;32m    185\u001b[0m \u001b[43m\u001b[49m\u001b[43m)\u001b[49m \u001b[38;5;28;01mas\u001b[39;00m handles:\n\u001b[0;32m    186\u001b[0m     \u001b[38;5;66;03m# 1) try standard library Pickle\u001b[39;00m\n\u001b[0;32m    187\u001b[0m     \u001b[38;5;66;03m# 2) try pickle_compat (older pandas version) to handle subclass changes\u001b[39;00m\n\u001b[0;32m    188\u001b[0m     \u001b[38;5;66;03m# 3) try pickle_compat with latin-1 encoding upon a UnicodeDecodeError\u001b[39;00m\n\u001b[0;32m    190\u001b[0m     \u001b[38;5;28;01mtry\u001b[39;00m:\n\u001b[0;32m    191\u001b[0m         \u001b[38;5;66;03m# TypeError for Cython complaints about object.__new__ vs Tick.__new__\u001b[39;00m\n\u001b[0;32m    192\u001b[0m         \u001b[38;5;28;01mtry\u001b[39;00m:\n",
      "File \u001b[1;32m~\\AppData\\Local\\Programs\\Python\\Python310\\lib\\site-packages\\pandas\\io\\common.py:716\u001b[0m, in \u001b[0;36mget_handle\u001b[1;34m(path_or_buf, mode, encoding, compression, memory_map, is_text, errors, storage_options)\u001b[0m\n\u001b[0;32m    713\u001b[0m     codecs\u001b[38;5;241m.\u001b[39mlookup_error(errors)\n\u001b[0;32m    715\u001b[0m \u001b[38;5;66;03m# open URLs\u001b[39;00m\n\u001b[1;32m--> 716\u001b[0m ioargs \u001b[38;5;241m=\u001b[39m \u001b[43m_get_filepath_or_buffer\u001b[49m\u001b[43m(\u001b[49m\n\u001b[0;32m    717\u001b[0m \u001b[43m    \u001b[49m\u001b[43mpath_or_buf\u001b[49m\u001b[43m,\u001b[49m\n\u001b[0;32m    718\u001b[0m \u001b[43m    \u001b[49m\u001b[43mencoding\u001b[49m\u001b[38;5;241;43m=\u001b[39;49m\u001b[43mencoding\u001b[49m\u001b[43m,\u001b[49m\n\u001b[0;32m    719\u001b[0m \u001b[43m    \u001b[49m\u001b[43mcompression\u001b[49m\u001b[38;5;241;43m=\u001b[39;49m\u001b[43mcompression\u001b[49m\u001b[43m,\u001b[49m\n\u001b[0;32m    720\u001b[0m \u001b[43m    \u001b[49m\u001b[43mmode\u001b[49m\u001b[38;5;241;43m=\u001b[39;49m\u001b[43mmode\u001b[49m\u001b[43m,\u001b[49m\n\u001b[0;32m    721\u001b[0m \u001b[43m    \u001b[49m\u001b[43mstorage_options\u001b[49m\u001b[38;5;241;43m=\u001b[39;49m\u001b[43mstorage_options\u001b[49m\u001b[43m,\u001b[49m\n\u001b[0;32m    722\u001b[0m \u001b[43m\u001b[49m\u001b[43m)\u001b[49m\n\u001b[0;32m    724\u001b[0m handle \u001b[38;5;241m=\u001b[39m ioargs\u001b[38;5;241m.\u001b[39mfilepath_or_buffer\n\u001b[0;32m    725\u001b[0m handles: \u001b[38;5;28mlist\u001b[39m[BaseBuffer]\n",
      "File \u001b[1;32m~\\AppData\\Local\\Programs\\Python\\Python310\\lib\\site-packages\\pandas\\io\\common.py:456\u001b[0m, in \u001b[0;36m_get_filepath_or_buffer\u001b[1;34m(filepath_or_buffer, encoding, compression, mode, storage_options)\u001b[0m\n\u001b[0;32m    452\u001b[0m \u001b[38;5;28;01mif\u001b[39;00m \u001b[38;5;129;01mnot\u001b[39;00m (\n\u001b[0;32m    453\u001b[0m     \u001b[38;5;28mhasattr\u001b[39m(filepath_or_buffer, \u001b[38;5;124m\"\u001b[39m\u001b[38;5;124mread\u001b[39m\u001b[38;5;124m\"\u001b[39m) \u001b[38;5;129;01mor\u001b[39;00m \u001b[38;5;28mhasattr\u001b[39m(filepath_or_buffer, \u001b[38;5;124m\"\u001b[39m\u001b[38;5;124mwrite\u001b[39m\u001b[38;5;124m\"\u001b[39m)\n\u001b[0;32m    454\u001b[0m ):\n\u001b[0;32m    455\u001b[0m     msg \u001b[38;5;241m=\u001b[39m \u001b[38;5;124mf\u001b[39m\u001b[38;5;124m\"\u001b[39m\u001b[38;5;124mInvalid file path or buffer object type: \u001b[39m\u001b[38;5;132;01m{\u001b[39;00m\u001b[38;5;28mtype\u001b[39m(filepath_or_buffer)\u001b[38;5;132;01m}\u001b[39;00m\u001b[38;5;124m\"\u001b[39m\n\u001b[1;32m--> 456\u001b[0m     \u001b[38;5;28;01mraise\u001b[39;00m \u001b[38;5;167;01mValueError\u001b[39;00m(msg)\n\u001b[0;32m    458\u001b[0m \u001b[38;5;28;01mreturn\u001b[39;00m IOArgs(\n\u001b[0;32m    459\u001b[0m     filepath_or_buffer\u001b[38;5;241m=\u001b[39mfilepath_or_buffer,\n\u001b[0;32m    460\u001b[0m     encoding\u001b[38;5;241m=\u001b[39mencoding,\n\u001b[1;32m   (...)\u001b[0m\n\u001b[0;32m    463\u001b[0m     mode\u001b[38;5;241m=\u001b[39mmode,\n\u001b[0;32m    464\u001b[0m )\n",
      "\u001b[1;31mValueError\u001b[0m: Invalid file path or buffer object type: <class 'pandas.core.frame.DataFrame'>"
     ]
    }
   ],
   "source": [
    "df_pickle=pd.read_pickle(data)\n",
    "df_pickle.head()"
   ]
  },
  {
   "cell_type": "code",
   "execution_count": null,
   "id": "0ce2b231",
   "metadata": {},
   "outputs": [],
   "source": []
  }
 ],
 "metadata": {
  "kernelspec": {
   "display_name": "Python 3 (ipykernel)",
   "language": "python",
   "name": "python3"
  },
  "language_info": {
   "codemirror_mode": {
    "name": "ipython",
    "version": 3
   },
   "file_extension": ".py",
   "mimetype": "text/x-python",
   "name": "python",
   "nbconvert_exporter": "python",
   "pygments_lexer": "ipython3",
   "version": "3.10.10"
  }
 },
 "nbformat": 4,
 "nbformat_minor": 5
}
